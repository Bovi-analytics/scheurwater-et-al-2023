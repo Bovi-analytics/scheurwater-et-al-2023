{
  "cells": [
    {
      "cell_type": "markdown",
      "metadata": {
        "id": "view-in-github",
        "colab_type": "text"
      },
      "source": [
        "<a href=\"https://colab.research.google.com/github/Bovi-analytics/scheurwater-et-al-2023/blob/main/SensorBolusPeakDetectionAndRFAlgorithm.ipynb\" target=\"_parent\"><img src=\"https://colab.research.google.com/assets/colab-badge.svg\" alt=\"Open In Colab\"/></a>"
      ]
    },
    {
      "cell_type": "markdown",
      "metadata": {
        "id": "MROm8RgH0pb9"
      },
      "source": [
        "# Notebook for the algorithm\n",
        "\n",
        "This is a Google Colab Notebook. It has a google machine in the back which will activate the moment you click the play button from the first cell. You can run cells seperately, or all after eachother, it allows you to prototype much easier then using the PyCharm.\n",
        "\n",
        "The notebook can be shared and editted by multiple people. If you want to work in your own version, you can make a copy of the notebook first."
      ]
    },
    {
      "cell_type": "markdown",
      "metadata": {
        "id": "WQHVFkd_ZcBs"
      },
      "source": [
        "#GDrive\n",
        "You need to make a link with the data. This is all stored in your google drive , or in the case of this notebook a bovi-analytics folder.\n",
        "\n",
        "First run the cell underneath, then open the link in the output and copy the code underneath. That way, the Google Drive is connected."
      ]
    },
    {
      "cell_type": "code",
      "execution_count": null,
      "metadata": {
        "colab": {
          "base_uri": "https://localhost:8080/"
        },
        "id": "SiNP_qsYZbLs",
        "outputId": "aa4f450f-6e4c-411d-9a74-cb0b1dda36e2"
      },
      "outputs": [
        {
          "output_type": "stream",
          "name": "stdout",
          "text": [
            "Mounted at /content/gdrive\n"
          ]
        }
      ],
      "source": [
        "from google.colab import drive\n",
        "drive.mount('/content/gdrive')"
      ]
    },
    {
      "cell_type": "markdown",
      "metadata": {
        "id": "Dm_jCmj7At96"
      },
      "source": [
        "# Import libraries"
      ]
    },
    {
      "cell_type": "code",
      "execution_count": null,
      "metadata": {
        "id": "6RPBeG88Xcz1"
      },
      "outputs": [],
      "source": [
        "#import general libraries\n",
        "import os\n",
        "import glob\n",
        "import pandas as pd\n",
        "import numpy as np\n",
        "import matplotlib.pyplot as plt\n",
        "import seaborn as sns\n",
        "from datetime import datetime\n",
        "from scipy.stats import iqr\n",
        "from scipy.stats import mode\n",
        "from scipy.signal import welch\n",
        "from scipy.fftpack import fft\n",
        "from scipy import signal"
      ]
    },
    {
      "cell_type": "code",
      "execution_count": null,
      "metadata": {
        "id": "oeImDZLP78jH"
      },
      "outputs": [],
      "source": [
        "from sklearn import metrics\n",
        "from sklearn.metrics import *\n",
        "from sklearn.metrics import confusion_matrix\n",
        "from sklearn.metrics import accuracy_score\n",
        "from sklearn.metrics import classification_report\n",
        "from sklearn.model_selection import train_test_split\n",
        "from sklearn.model_selection import StratifiedKFold\n",
        "from sklearn.preprocessing import StandardScaler\n",
        "from sklearn.ensemble import RandomForestClassifier\n",
        "#from sklearn.externals import joblib\n",
        "from sklearn.utils import resample"
      ]
    },
    {
      "cell_type": "markdown",
      "metadata": {
        "id": "1u1Xv3LxeLBQ"
      },
      "source": [
        "# Set directories"
      ]
    },
    {
      "cell_type": "code",
      "execution_count": null,
      "metadata": {
        "id": "4XEH4X1rYgly"
      },
      "outputs": [],
      "source": [
        "#define directories\n",
        "base_dir = '/content/gdrive/Shared drives/Bovi-Analytics/Projects/JosjeScheurwater/SensorBolus/Josje'\n",
        "video_dir = '/data/out/video/'\n",
        "bolus_dir = '/data/out/bolus/'\n",
        "output_dir= '/data/out/out/'\n",
        "video_path = base_dir + video_dir\n",
        "bolus_path = base_dir + bolus_dir\n",
        "output_path = base_dir + output_dir"
      ]
    },
    {
      "cell_type": "code",
      "execution_count": null,
      "metadata": {
        "id": "aAxIKxdeYnQ2"
      },
      "outputs": [],
      "source": [
        "#create output directory\n",
        "if os.path.isdir ( output_path ):\n",
        "    pass\n",
        "else:\n",
        "    os.mkdir (output_path )"
      ]
    },
    {
      "cell_type": "code",
      "execution_count": null,
      "metadata": {
        "id": "uBDpWvipbHfB"
      },
      "outputs": [],
      "source": [
        "#remove old output file\n",
        "for f in os.listdir(output_path):\n",
        "    print('Existing file : ' + f)\n",
        "    oldfile = output_path + f\n",
        "    if os.path.isfile(oldfile):\n",
        "        os.remove(oldfile)\n",
        "        print('Removed : ' + oldfile)\n",
        "    else:\n",
        "        pass\n",
        "        print('Did not remove : ' + oldfile)"
      ]
    },
    {
      "cell_type": "markdown",
      "metadata": {
        "id": "Ol9ZN3e9KMKz"
      },
      "source": [
        "# PeakDetectionAlgorithm"
      ]
    },
    {
      "cell_type": "markdown",
      "metadata": {
        "id": "leKIwy_23HoI"
      },
      "source": [
        "## Algorithm function"
      ]
    },
    {
      "cell_type": "code",
      "execution_count": null,
      "metadata": {
        "id": "XhjspdZtAPcr"
      },
      "outputs": [],
      "source": [
        "def picoalgorithm_gain(data, gain_peakdetection = 35,col=0):\n",
        "    #data window paramters, 0,5s per sample\n",
        "    start = 1\n",
        "    Data = 0\n",
        "    Rumination = 0\n",
        "    PeakValue = 0\n",
        "    PressureDetected = 0\n",
        "    LowTimeCounterHold = 0\n",
        "\n",
        "    #peak detection parameters\n",
        "    Slope_Rise = 2 * gain_peakdetection;\n",
        "    Slope_Fall = gain_peakdetection;\n",
        "    Actual_Rise = float(0)\n",
        "    Actual_Fall = float(0)\n",
        "\n",
        "    #rumination detection parameters\n",
        "    State = 1\n",
        "    Timer_D = 0\n",
        "    Timer_E = 0\n",
        "    Timer_F = 0\n",
        "    Pulse_High_flank = 0\n",
        "    Rumination_Time = 10  # 0,5s samplerate -> 5s\n",
        "    D = 10  # 0,5s samplerate -> 5s\n",
        "    E = 30  # 0,5s samplerate -> 15s\n",
        "    F = 10  # 0,5s samplerate -> 5s\n",
        "    Pulse_detected = 0\n",
        "    Pulse_detected_old = 0\n",
        "\n",
        "    #low time parameters\n",
        "    Lowtime_counter = 0\n",
        "\n",
        "    #moving average filter\n",
        "    MA_Filter = 0\n",
        "    Baseline = 0\n",
        "    Windowsize = 150\n",
        "    Highest_peak = 0\n",
        "\n",
        "    #high pressure detection parameters\n",
        "    High_Pressure_level = 3500\n",
        "\n",
        "    #loop for pulse detection\n",
        "    for i in range(1,np.size(data[:, col])):\n",
        "        Actual_Rise = data[i - 8, col] - data[i - 5, col]\n",
        "        Actual_Fall = data[i - 8, col] - data[i - 10, col]\n",
        "\n",
        "        #measure highest peak\n",
        "        if ((data[i, col] - Baseline) > Highest_peak and i > (Windowsize + 10)):\n",
        "            Highest_peak = (data[i, col] - Baseline)\n",
        "\n",
        "        #calculating moving average filter\n",
        "        MA_Filter = 0\n",
        "        if i > Windowsize:\n",
        "            for j in range(1, Windowsize):\n",
        "                MA_Filter = MA_Filter + data[i - j, col]\n",
        "            Baseline = int(MA_Filter / Windowsize)\n",
        "            data[i, 5] = Baseline\n",
        "\n",
        "        #high pressure level detection\n",
        "        if ((data[i, col] - Baseline) > High_Pressure_level):\n",
        "            data[i, 8] = 1000\n",
        "\n",
        "        Pulse_detected = 0\n",
        "        if Actual_Rise >= Slope_Rise and Actual_Fall >= Slope_Fall:\n",
        "            Pulse_detected = 1\n",
        "\n",
        "        #flank detection\n",
        "        if Pulse_detected_old == 0 and Pulse_detected == 1:\n",
        "            Pulse_High_flank = 1\n",
        "        Pulse_detected_old = Pulse_detected\n",
        "        Pulse_detected = 0\n",
        "        data[i, 1] = Pulse_High_flank\n",
        "        data[i, 2] = State\n",
        "        data[i, 4] = LowTimeCounterHold\n",
        "        if State == 1:  #wait for minimal low time\n",
        "            if Timer_D >= D:\n",
        "                State = 2\n",
        "                Lowtime_counter = 0\n",
        "                Highest_peak = 0\n",
        "\n",
        "            if Pulse_High_flank == 1:\n",
        "                State = 1\n",
        "                Timer_D = 0\n",
        "                Pulse_High_flank = 0\n",
        "\n",
        "        elif State == 2:  #wait for first pulse\n",
        "            if Pulse_High_flank == 1:\n",
        "                State = 3\n",
        "                Timer_E = 0;\n",
        "                PulsLowTime = 0\n",
        "                Pulse_High_flank = 0\n",
        "\n",
        "        elif State == 3:  #wait for second pulse\n",
        "            if Timer_E == E:\n",
        "                State = 1\n",
        "                Timer_D = 0\n",
        "            if Pulse_High_flank == 1:\n",
        "                Timer_F = 0;\n",
        "                Pulse_High_flank = 0\n",
        "                if Timer_E >= Rumination_Time:\n",
        "                    State = 5\n",
        "                    Timer_F = 0;\n",
        "                else:\n",
        "                    State = 4\n",
        "                    Timer_F = 0;\n",
        "\n",
        "        elif State == 4:  #wait for third pulse or minimal low time\n",
        "            if Timer_F == F:\n",
        "                State = 1\n",
        "                Timer_D = 0\n",
        "                #normal wave detected\n",
        "                LowTimeCounterHold = Lowtime_counter/2\n",
        "                data[i, 3] = 1\n",
        "                data[i, 6] = Highest_peak\n",
        "                Rumination = 0\n",
        "                PeakValue = Highest_peak\n",
        "            if Pulse_High_flank == 1:\n",
        "                State = 5\n",
        "                Pulse_High_flank = 0\n",
        "\n",
        "        elif State == 5:  #wait for third pulse or minimal low time\n",
        "            if Timer_F == F:\n",
        "                State = 1\n",
        "                Timer_D = 0\n",
        "                #rumination wave detected\n",
        "                LowTimeCounterHold = Lowtime_counter/2\n",
        "                data[i, 3] = 2\n",
        "                data[i, 6] = Highest_peak\n",
        "                Rumination = 1\n",
        "                PeakValue = Highest_peak\n",
        "            if Pulse_High_flank == 1:\n",
        "                if Timer_E <= E:  # pulse detected within window E\n",
        "                    State == 5\n",
        "                    Pulse_High_flank = 0\n",
        "                else:\n",
        "                    State = 1\n",
        "                    Timer_D = 0\n",
        "                    Pulse_High_flank = 0\n",
        "                    # Error, no wave detected\n",
        "\n",
        "        #loop timers 0,5s per loop\n",
        "        Timer_D += 1\n",
        "        Timer_F += 1\n",
        "        Timer_E += 1\n",
        "        Lowtime_counter += 1\n",
        "\n",
        "        #database output\n",
        "        data[i, 9] = Rumination\n",
        "        data[i, 7] = PeakValue\n",
        "    return data\n"
      ]
    },
    {
      "cell_type": "code",
      "execution_count": null,
      "metadata": {
        "id": "9balS6NO90OM"
      },
      "outputs": [],
      "source": [
        "def process_file(file, base_directory, input_directory, output_directory, sep = \",\", store = True, disp = False, gain = 35, col=0):\n",
        "  infile = base_directory + input_directory + file\n",
        "  outfile = base_directory + output_directory + 'processed_' + file\n",
        "\n",
        "  #read the file and make sure to change NaN with 0.0\n",
        "  #dateparse = lambda x: DateTime.strptime(x, '%Y-%m-%d %H:%M:%S')\n",
        "  raw_df = pd.read_csv (infile, sep=';', decimal=\",\")\n",
        "  #, parse_dates={'datetime': ['Date', 'Time']}, date_parser=dateparse)"
      ]
    },
    {
      "cell_type": "code",
      "source": [
        "#load all files in directory with *.csv\n",
        "pd.set_option('display.max_rows', None)\n",
        "\n",
        "for f in os.listdir (bolus_path):\n",
        "    if f.endswith ('.csv'):\n",
        "        print(\"Started processing: \" + f)\n",
        "        process_file(f, base_dir, bolus_dir, output_dir, sep=\",\", store=True, disp=True, gain= 3, col=0)\n",
        "\n",
        "        print(\"Done processing: \" + f)"
      ],
      "metadata": {
        "colab": {
          "base_uri": "https://localhost:8080/"
        },
        "id": "oW47wU7-tlTP",
        "outputId": "8b53adb8-24ae-4cb4-8bfe-53e8588923bf"
      },
      "execution_count": null,
      "outputs": [
        {
          "output_type": "stream",
          "name": "stdout",
          "text": [
            "Started processing: bolus20210121.csv\n",
            "Done processing: bolus20210121.csv\n",
            "Started processing: bolus20210122.csv\n",
            "Done processing: bolus20210122.csv\n",
            "Started processing: bolus20210119.csv\n",
            "Done processing: bolus20210119.csv\n",
            "Started processing: bolus20210118.csv\n",
            "Done processing: bolus20210118.csv\n",
            "Started processing: bolus20210208.csv\n",
            "Done processing: bolus20210208.csv\n",
            "Started processing: bolus20210205.csv\n",
            "Done processing: bolus20210205.csv\n",
            "Started processing: bolus20210202.csv\n",
            "Done processing: bolus20210202.csv\n",
            "Started processing: bolus20210211.csv\n",
            "Done processing: bolus20210211.csv\n",
            "Started processing: bolus20210219.csv\n",
            "Done processing: bolus20210219.csv\n",
            "Started processing: bolus20210224.csv\n",
            "Done processing: bolus20210224.csv\n",
            "Started processing: bolus20210225.csv\n",
            "Done processing: bolus20210225.csv\n"
          ]
        }
      ]
    },
    {
      "cell_type": "markdown",
      "metadata": {
        "id": "h2sz6E1x3SsJ"
      },
      "source": [
        "## File processing function"
      ]
    },
    {
      "cell_type": "markdown",
      "metadata": {
        "id": "oyZGBgUAhSHR"
      },
      "source": [
        "The next algorythm allows\n",
        "\n",
        "*   Fixed gain of 9\n",
        "*   Allow flexible seperator\n",
        "*   Allow display/store\n",
        "\n"
      ]
    },
    {
      "cell_type": "code",
      "execution_count": null,
      "metadata": {
        "id": "wX6Y6flW9T04"
      },
      "outputs": [],
      "source": [
        "def process_file(file, base_directory, input_directory, output_directory, sep = \",\", store = True, disp = False, gain = 9, col=0):\n",
        "  infile = base_directory + input_directory + file\n",
        "  outfile = base_directory + output_directory + 'processed_' + file\n",
        "\n",
        "  #read the file and make sure to change NaN with 0.0\n",
        "  raw_df = pd.read_csv (infile, sep, decimal=\",\", dtype={'Date':str, 'Time':str, 'DateTime':str})\n",
        "  #raw_df['Date']=pd.to_datetime(raw_df['Date'],format=\"%Y-%m-%d\")\n",
        "  raw_df['MergeDateTime']=pd.to_datetime(raw_df['MergeDateTime'],format=\"%Y-%m-%d %H:%M:%S\")\n",
        "\n",
        "  raw_col = raw_df[['Pressure']].fillna(0)\n",
        "  raw_merge = raw_df[['MergeDateTime']]\n",
        "  raw_index = raw_df[['DateTime']]\n",
        "  raw_pressure = raw_df[['Pressure']]\n",
        "\n",
        "  #explicitely change format to int\n",
        "  raw_col.Pressure = raw_col.Pressure.astype(float)\n",
        "\n",
        "  #add extra columns with all 0.0 values\n",
        "  extra_col_df = raw_col.assign(\n",
        "    pulse_flank = 0.0,\n",
        "    state = 0.0,\n",
        "    wave_type = 0.0,\n",
        "    low_time= 0.0,\n",
        "    baseline= 0.0,\n",
        "    highest_peak= 0.0,\n",
        "    moo= 0.0,\n",
        "    high_pressure= 0.0,\n",
        "    time_start= 0.0,\n",
        "    time_stop= 0.0,\n",
        "    rumination= 0.0,\n",
        "    peakvalue= 0.0)\n",
        "\n",
        "  #create numpy array from pandas\n",
        "  input_array = extra_col_df.to_numpy()\n",
        "  index_array = raw_index.to_numpy()\n",
        "  merge_array = raw_merge.to_numpy()\n",
        "  raw_pressure_array = raw_pressure.to_numpy()\n",
        "\n",
        "  #run picoalgorithm and display result\n",
        "  result = picoalgorithm_gain(input_array, gain, col)\n",
        "\n",
        "  #create dataframe from result array\n",
        "  dataset = pd.DataFrame({\n",
        "    'DateTime': index_array[:,0],\n",
        "    'MergeDateTime': merge_array[:,0],\n",
        "    'raw_pressure': raw_pressure_array[:, 0],\n",
        "    'ret_pressure': result[:, 0],\n",
        "    'pulse_flank': result[:, 1],\n",
        "    'state': result[:, 2],\n",
        "    'wave_type': result[:, 3],\n",
        "    'low_time': result[:, 4],\n",
        "    'baseline': result[:, 5],\n",
        "    'highest_peak': result[:, 6],\n",
        "    'peakvalue': result[:, 7],\n",
        "    'high_pressure': result[:, 8],\n",
        "    'rumination': result[:, 9]})\n",
        "\n",
        "  #store to csv\n",
        "  if store == True:\n",
        "    dataset.to_csv(outfile)\n",
        "  if disp == True:\n",
        "    #display(dataset.head(1000))\n",
        "    dataset.describe()"
      ]
    },
    {
      "cell_type": "markdown",
      "metadata": {
        "id": "eeSB_xc5eQSJ"
      },
      "source": [
        "## Read input files and creat algorithm output file"
      ]
    },
    {
      "cell_type": "code",
      "source": [
        "def process_file(file, base_directory, input_directory, output_directory, sep = \",\", store = True, disp = False, gain = 9, col=0):\n",
        "  infile = base_directory + input_directory + file\n",
        "  outfile = base_directory + output_directory + 'processed_' + file\n",
        "\n",
        "  #read the file and make sure to change NaN with 0.0\n",
        "  raw_df = pd.read_csv (infile, sep, decimal=\",\", dtype={'Date':str, 'Time':str, 'DateTime':str})\n",
        "  #raw_df['Date']=pd.to_datetime(raw_df['Date'],format=\"%Y-%m-%d\")\n",
        "  raw_df['MergeDateTime']=pd.to_datetime(raw_df['MergeDateTime'],format=\"%Y-%m-%d %H:%M:%S\")\n",
        "\n",
        "  #store to csv\n",
        "  if store == True:\n",
        "    raw_df.to_csv(outfile)\n",
        "  if disp == True:\n",
        "    #display(dataset.head(1000))\n",
        "    raw_df.describe()"
      ],
      "metadata": {
        "id": "Ja8vSQwgwaR1"
      },
      "execution_count": null,
      "outputs": []
    },
    {
      "cell_type": "code",
      "source": [
        "def process_file(file, base_directory, input_directory, output_directory, sep = \",\", store = True, disp = False, gain = 9, col=0):\n",
        "  infile = base_directory + input_directory + file\n",
        "  outfile = base_directory + output_directory + 'processed_' + file\n",
        "\n",
        "  #read the file and make sure to change NaN with 0.0\n",
        "  raw_df = pd.read_csv (infile, sep, decimal=\",\", dtype={'Date':str, 'Time':str, 'DateTime':str})\n",
        "  #raw_df['Date']=pd.to_datetime(raw_df['Date'],format=\"%Y-%m-%d\")\n",
        "  raw_df['MergeDateTime']=pd.to_datetime(raw_df['MergeDateTime'],format=\"%Y-%m-%d %H:%M:%S\")\n",
        "\n",
        "  raw_col = raw_df[['Pressure']].fillna(0)\n",
        "  raw_merge = raw_df[['MergeDateTime']]\n",
        "  raw_index = raw_df[['DateTime']]\n",
        "  raw_pressure = raw_df[['Pressure']]\n",
        "\n",
        "  #explicitely change format to int\n",
        "  raw_col.Pressure = raw_col.Pressure.astype(float)\n",
        "\n",
        "  #add extra columns with all 0.0 values\n",
        "  extra_col_df = raw_col.assign(\n",
        "    pulse_flank = 0.0,\n",
        "    state = 0.0,\n",
        "    wave_type = 0.0,\n",
        "    low_time= 0.0,\n",
        "    baseline= 0.0,\n",
        "    highest_peak= 0.0,\n",
        "    moo= 0.0,\n",
        "    high_pressure= 0.0,\n",
        "    time_start= 0.0,\n",
        "    time_stop= 0.0,\n",
        "    rumination= 0.0,\n",
        "    peakvalue= 0.0)\n",
        "\n",
        "  #create numpy array from pandas\n",
        "  input_array = extra_col_df.to_numpy()\n",
        "  index_array = raw_index.to_numpy()\n",
        "  merge_array = raw_merge.to_numpy()\n",
        "  raw_pressure_array = raw_pressure.to_numpy()\n",
        "\n",
        "  #run picoalgorithm and display result\n",
        "  result = picoalgorithm_gain(input_array, gain, col)\n",
        "\n",
        "  #create dataframe from result array\n",
        "  dataset = pd.DataFrame({\n",
        "    'DateTime': index_array[:,0],\n",
        "    'MergeDateTime': merge_array[:,0],\n",
        "    'raw_pressure': raw_pressure_array[:, 0],\n",
        "    'ret_pressure': result[:, 0],\n",
        "    'pulse_flank': result[:, 1],\n",
        "    'state': result[:, 2],\n",
        "    'wave_type': result[:, 3],\n",
        "    'low_time': result[:, 4],\n",
        "    'baseline': result[:, 5],\n",
        "    'highest_peak': result[:, 6],\n",
        "    'peakvalue': result[:, 7],\n",
        "    'high_pressure': result[:, 8],\n",
        "    'rumination': result[:, 9]})\n",
        "\n",
        "  #store to csv\n",
        "  if store == True:\n",
        "    dataset.to_csv(outfile)\n",
        "  if disp == True:\n",
        "    #display(dataset.head(1000))\n",
        "    dataset.describe()"
      ],
      "metadata": {
        "id": "JY2QJqvMv-Wi"
      },
      "execution_count": null,
      "outputs": []
    },
    {
      "cell_type": "code",
      "execution_count": null,
      "metadata": {
        "colab": {
          "base_uri": "https://localhost:8080/"
        },
        "id": "_0qMiSkfXTgL",
        "outputId": "c021c37f-47a7-4efe-9308-124bce585e37"
      },
      "outputs": [
        {
          "output_type": "stream",
          "name": "stdout",
          "text": [
            "Started processing: bolus20210121.csv\n"
          ]
        },
        {
          "output_type": "stream",
          "name": "stderr",
          "text": [
            "/usr/local/lib/python3.7/dist-packages/ipykernel_launcher.py:7: FutureWarning: In a future version of pandas all arguments of read_csv except for the argument 'filepath_or_buffer' will be keyword-only\n",
            "  import sys\n"
          ]
        },
        {
          "output_type": "stream",
          "name": "stdout",
          "text": [
            "Done processing: bolus20210121.csv\n",
            "Started processing: bolus20210122.csv\n",
            "Done processing: bolus20210122.csv\n",
            "Started processing: bolus20210119.csv\n",
            "Done processing: bolus20210119.csv\n",
            "Started processing: bolus20210118.csv\n",
            "Done processing: bolus20210118.csv\n",
            "Started processing: bolus20210208.csv\n",
            "Done processing: bolus20210208.csv\n",
            "Started processing: bolus20210205.csv\n",
            "Done processing: bolus20210205.csv\n",
            "Started processing: bolus20210202.csv\n",
            "Done processing: bolus20210202.csv\n",
            "Started processing: bolus20210211.csv\n",
            "Done processing: bolus20210211.csv\n",
            "Started processing: bolus20210219.csv\n",
            "Done processing: bolus20210219.csv\n",
            "Started processing: bolus20210224.csv\n",
            "Done processing: bolus20210224.csv\n",
            "Started processing: bolus20210225.csv\n",
            "Done processing: bolus20210225.csv\n"
          ]
        }
      ],
      "source": [
        "#load all files in directory with *.csv\n",
        "pd.set_option('display.max_rows', None)\n",
        "\n",
        "for f in os.listdir (bolus_path):\n",
        "    if f.endswith ('.csv'):\n",
        "        print(\"Started processing: \" + f)\n",
        "        process_file(f, base_dir, bolus_dir, output_dir, sep=\",\", store=True, disp=True, gain= 3, col=0)\n",
        "\n",
        "        print(\"Done processing: \" + f)"
      ]
    },
    {
      "cell_type": "code",
      "execution_count": null,
      "metadata": {
        "colab": {
          "base_uri": "https://localhost:8080/"
        },
        "id": "paJjRP5m5dn3",
        "outputId": "7f844701-79fb-4094-ed02-4636e0f5b3ae"
      },
      "outputs": [
        {
          "output_type": "stream",
          "name": "stdout",
          "text": [
            "/content/gdrive/Shared drives/Bovi-Analytics/Projects/JosjeScheurwater/SensorBolus/Josje/data/out/out/processed_bolus20210121.csv\n",
            "/content/gdrive/Shared drives/Bovi-Analytics/Projects/JosjeScheurwater/SensorBolus/Josje/data/out/out/processed_bolus20210122.csv\n",
            "/content/gdrive/Shared drives/Bovi-Analytics/Projects/JosjeScheurwater/SensorBolus/Josje/data/out/out/processed_bolus20210119.csv\n",
            "/content/gdrive/Shared drives/Bovi-Analytics/Projects/JosjeScheurwater/SensorBolus/Josje/data/out/out/processed_bolus20210118.csv\n",
            "/content/gdrive/Shared drives/Bovi-Analytics/Projects/JosjeScheurwater/SensorBolus/Josje/data/out/out/processed_bolus20210208.csv\n",
            "/content/gdrive/Shared drives/Bovi-Analytics/Projects/JosjeScheurwater/SensorBolus/Josje/data/out/out/processed_bolus20210205.csv\n",
            "/content/gdrive/Shared drives/Bovi-Analytics/Projects/JosjeScheurwater/SensorBolus/Josje/data/out/out/processed_bolus20210202.csv\n",
            "/content/gdrive/Shared drives/Bovi-Analytics/Projects/JosjeScheurwater/SensorBolus/Josje/data/out/out/processed_bolus20210211.csv\n",
            "/content/gdrive/Shared drives/Bovi-Analytics/Projects/JosjeScheurwater/SensorBolus/Josje/data/out/out/processed_bolus20210219.csv\n",
            "/content/gdrive/Shared drives/Bovi-Analytics/Projects/JosjeScheurwater/SensorBolus/Josje/data/out/out/processed_bolus20210224.csv\n",
            "/content/gdrive/Shared drives/Bovi-Analytics/Projects/JosjeScheurwater/SensorBolus/Josje/data/out/out/processed_bolus20210225.csv\n"
          ]
        }
      ],
      "source": [
        "#create list of processed files\n",
        "processed_dir = output_path\n",
        "all_files = glob.glob(processed_dir + \"*.csv\")\n",
        "\n",
        "li = []\n",
        "\n",
        "for filename in all_files:\n",
        "    print(filename)\n",
        "    df = pd.read_csv(filename, index_col=0, header=0, sep = \",\", decimal=\".\")#, dtype={'MergeTime':str}, parse_dates=['MergeTime'])\n",
        "    #)\n",
        "    #df['MergeTime']=pd.to_datetime(df['MergeTime'], format=\"%H:%M:%S\")\n",
        "    #print(type(df['DateTime']))\n",
        "    df['file'] = filename\n",
        "    li.append(df)\n",
        "\n",
        "df_concat_processed = pd.concat(li, axis=0, ignore_index=True)\n",
        "\n",
        "#create column \"rumination_alg\"\n",
        "#df_concat_processed['rumination_alg'] = df_concat_processed['rumination'].apply(lambda x: 1 if x == 1.0 else 0)\n"
      ]
    },
    {
      "cell_type": "markdown",
      "metadata": {
        "id": "ckWnV4EcOlgf"
      },
      "source": [
        "## Read input files and creat video output file"
      ]
    },
    {
      "cell_type": "code",
      "execution_count": null,
      "metadata": {
        "colab": {
          "base_uri": "https://localhost:8080/"
        },
        "id": "pPQj0pfg6JQm",
        "outputId": "a0035ce8-49c6-4bbd-b515-6ed921e57b6e"
      },
      "outputs": [
        {
          "output_type": "stream",
          "name": "stdout",
          "text": [
            "Started processing: /content/gdrive/Shared drives/Bovi-Analytics/Projects/JosjeScheurwater/SensorBolus/Josje/data/out/video/video20210121a.csv\n",
            "Done processing: /content/gdrive/Shared drives/Bovi-Analytics/Projects/JosjeScheurwater/SensorBolus/Josje/data/out/video/video20210121a.csv\n",
            "Started processing: /content/gdrive/Shared drives/Bovi-Analytics/Projects/JosjeScheurwater/SensorBolus/Josje/data/out/video/video20210122.csv\n",
            "Done processing: /content/gdrive/Shared drives/Bovi-Analytics/Projects/JosjeScheurwater/SensorBolus/Josje/data/out/video/video20210122.csv\n",
            "Started processing: /content/gdrive/Shared drives/Bovi-Analytics/Projects/JosjeScheurwater/SensorBolus/Josje/data/out/video/video20210121b.csv\n",
            "Done processing: /content/gdrive/Shared drives/Bovi-Analytics/Projects/JosjeScheurwater/SensorBolus/Josje/data/out/video/video20210121b.csv\n",
            "Started processing: /content/gdrive/Shared drives/Bovi-Analytics/Projects/JosjeScheurwater/SensorBolus/Josje/data/out/video/video20210208.csv\n",
            "Done processing: /content/gdrive/Shared drives/Bovi-Analytics/Projects/JosjeScheurwater/SensorBolus/Josje/data/out/video/video20210208.csv\n",
            "Started processing: /content/gdrive/Shared drives/Bovi-Analytics/Projects/JosjeScheurwater/SensorBolus/Josje/data/out/video/video20210205.csv\n",
            "Done processing: /content/gdrive/Shared drives/Bovi-Analytics/Projects/JosjeScheurwater/SensorBolus/Josje/data/out/video/video20210205.csv\n",
            "Started processing: /content/gdrive/Shared drives/Bovi-Analytics/Projects/JosjeScheurwater/SensorBolus/Josje/data/out/video/video20210118.csv\n",
            "Done processing: /content/gdrive/Shared drives/Bovi-Analytics/Projects/JosjeScheurwater/SensorBolus/Josje/data/out/video/video20210118.csv\n",
            "Started processing: /content/gdrive/Shared drives/Bovi-Analytics/Projects/JosjeScheurwater/SensorBolus/Josje/data/out/video/video20210211.csv\n",
            "Done processing: /content/gdrive/Shared drives/Bovi-Analytics/Projects/JosjeScheurwater/SensorBolus/Josje/data/out/video/video20210211.csv\n",
            "Started processing: /content/gdrive/Shared drives/Bovi-Analytics/Projects/JosjeScheurwater/SensorBolus/Josje/data/out/video/video20210202.csv\n",
            "Done processing: /content/gdrive/Shared drives/Bovi-Analytics/Projects/JosjeScheurwater/SensorBolus/Josje/data/out/video/video20210202.csv\n",
            "Started processing: /content/gdrive/Shared drives/Bovi-Analytics/Projects/JosjeScheurwater/SensorBolus/Josje/data/out/video/video20210119.csv\n",
            "Done processing: /content/gdrive/Shared drives/Bovi-Analytics/Projects/JosjeScheurwater/SensorBolus/Josje/data/out/video/video20210119.csv\n",
            "Started processing: /content/gdrive/Shared drives/Bovi-Analytics/Projects/JosjeScheurwater/SensorBolus/Josje/data/out/video/video20210219.csv\n",
            "Done processing: /content/gdrive/Shared drives/Bovi-Analytics/Projects/JosjeScheurwater/SensorBolus/Josje/data/out/video/video20210219.csv\n",
            "Started processing: /content/gdrive/Shared drives/Bovi-Analytics/Projects/JosjeScheurwater/SensorBolus/Josje/data/out/video/video20210224.csv\n",
            "Done processing: /content/gdrive/Shared drives/Bovi-Analytics/Projects/JosjeScheurwater/SensorBolus/Josje/data/out/video/video20210224.csv\n",
            "Started processing: /content/gdrive/Shared drives/Bovi-Analytics/Projects/JosjeScheurwater/SensorBolus/Josje/data/out/video/video20210225.csv\n",
            "Done processing: /content/gdrive/Shared drives/Bovi-Analytics/Projects/JosjeScheurwater/SensorBolus/Josje/data/out/video/video20210225.csv\n"
          ]
        }
      ],
      "source": [
        "path_video = video_path\n",
        "all_files = glob.glob(path_video + \"*.csv\")\n",
        "li = []\n",
        "for filename in all_files:\n",
        "    print(\"Started processing: \" + filename)\n",
        "    df = pd.read_csv(filename,\n",
        "                    header=0,\n",
        "                    sep = \",\",\n",
        "                    decimal=\".\",\n",
        "                    nrows = 50000\n",
        "                    )[['Cow','Date','Ruminating','Eating','Sleeping','Drinking','Urinate','Moo', 'CodeBehaviour', 'MergeDateTime', 'Lying']].dropna()\n",
        "    #df['Behaviour']=df['Ruminating']+df['Eating']+df['Drinking']+df['Sleeping']+df['Urinate']+df['Moo']\n",
        "    df['Resting'] = df['Lying'].apply(lambda x: 1 if (x == 21 or x== 20) else 0)\n",
        "    li.append(df)\n",
        "    print(\"Done processing: \" + filename)\n",
        "#create a panda dataframe of processed video files\n",
        "df_concat_video = pd.concat(li, axis=0, ignore_index=True)\n",
        "\n"
      ]
    },
    {
      "cell_type": "markdown",
      "metadata": {
        "id": "jnxtE4qLO2e_"
      },
      "source": [
        "## Merge processsed files and video files"
      ]
    },
    {
      "cell_type": "code",
      "execution_count": null,
      "metadata": {
        "id": "WlxHuW7xJGHk"
      },
      "outputs": [],
      "source": [
        "df_inner_merged = pd.merge(df_concat_processed, df_concat_video, on='MergeDateTime', how='inner')\n",
        "df_inner_merged['Ruminating'] = df_inner_merged['Ruminating'].replace([8],1.0)\n",
        "df_inner_merged['Ruminating'] = df_inner_merged['Ruminating'].replace([0],0.0)"
      ]
    },
    {
      "cell_type": "code",
      "source": [
        "file_merged='/content/gdrive/Shared drives/Bovi-Analytics/Projects/JosjeScheurwater/SensorBolus/Miel/mergedfile.csv'\n",
        "df_inner_merged.to_csv(file_merged)"
      ],
      "metadata": {
        "id": "Ua280AeR_Qhl"
      },
      "execution_count": null,
      "outputs": []
    },
    {
      "cell_type": "code",
      "source": [
        "df_concat='/content/gdrive/Shared drives/Bovi-Analytics/Projects/JosjeScheurwater/SensorBolus/Josje/data/out/out/df_concat_processed.csv'\n",
        "df_concat_processed.to_csv(df_concat)"
      ],
      "metadata": {
        "id": "Um0_ecghANMo"
      },
      "execution_count": null,
      "outputs": []
    },
    {
      "cell_type": "markdown",
      "source": [],
      "metadata": {
        "id": "fJbgjym4Gkxo"
      }
    },
    {
      "cell_type": "code",
      "execution_count": null,
      "metadata": {
        "id": "iCx9UP140ecx"
      },
      "outputs": [],
      "source": [
        "final_data_peak_detection=df_inner_merged[df_inner_merged.Date <20210225]\n",
        "final_data_peak_detection_selected=df_inner_merged[df_inner_merged.Date ==20210224]"
      ]
    },
    {
      "cell_type": "code",
      "source": [
        "final_data_peak_detection.count()"
      ],
      "metadata": {
        "colab": {
          "base_uri": "https://localhost:8080/"
        },
        "id": "9jF7yV5INeiO",
        "outputId": "b143be33-003b-49dc-ebcb-f0a645b611dd"
      },
      "execution_count": null,
      "outputs": [
        {
          "output_type": "execute_result",
          "data": {
            "text/plain": [
              "DateTime         431163\n",
              "MergeDateTime    431163\n",
              "raw_pressure     431163\n",
              "ret_pressure     431163\n",
              "pulse_flank      431163\n",
              "state            431163\n",
              "wave_type        431163\n",
              "low_time         431163\n",
              "baseline         431163\n",
              "highest_peak     431163\n",
              "peakvalue        431163\n",
              "high_pressure    431163\n",
              "rumination       431163\n",
              "file             431163\n",
              "Cow              431163\n",
              "Date             431163\n",
              "Ruminating       431163\n",
              "Eating           431163\n",
              "Sleeping         431163\n",
              "Drinking         431163\n",
              "Urinate          431163\n",
              "Moo              431163\n",
              "CodeBehaviour    431163\n",
              "Lying            431163\n",
              "Resting          431163\n",
              "dtype: int64"
            ]
          },
          "metadata": {},
          "execution_count": 20
        }
      ]
    },
    {
      "cell_type": "code",
      "source": [
        "np.unique(final_data_peak_detection['Cow'], return_counts=True)"
      ],
      "metadata": {
        "colab": {
          "base_uri": "https://localhost:8080/"
        },
        "id": "D_Im2-OSNYdr",
        "outputId": "40650dd5-c1aa-470a-fd2a-62b06f8017ab"
      },
      "execution_count": null,
      "outputs": [
        {
          "output_type": "execute_result",
          "data": {
            "text/plain": [
              "(array([ 7,  8, 21, 25]), array([134790, 106815,  94803,  94755]))"
            ]
          },
          "metadata": {},
          "execution_count": 18
        }
      ]
    },
    {
      "cell_type": "code",
      "source": [
        "np.unique(final_data_peak_detection['Sleeping'], return_counts=True)"
      ],
      "metadata": {
        "colab": {
          "base_uri": "https://localhost:8080/"
        },
        "id": "tYddSx2gJZy-",
        "outputId": "1fecf56f-fa6d-4dfa-c521-48f91e43fc94"
      },
      "execution_count": null,
      "outputs": [
        {
          "output_type": "execute_result",
          "data": {
            "text/plain": [
              "(array([0, 3]), array([427769,   3394]))"
            ]
          },
          "metadata": {},
          "execution_count": 47
        }
      ]
    },
    {
      "cell_type": "code",
      "source": [
        "final_data_rum= final_data_peak_detection[final_data_peak_detection.Ruminating==1]\n",
        "final_data_eat= final_data_peak_detection[final_data_peak_detection.Eating==4]\n",
        "final_data_rest= final_data_peak_detection[final_data_peak_detection.Resting==1]\n",
        "final_data_sleep= final_data_peak_detection[final_data_peak_detection.Sleeping==3]\n",
        "\n",
        "\n",
        "print(\"Time between contraction cycles during rumination:\")\n",
        "print(\"mean:\"+str(final_data_rum['low_time'].mean()))\n",
        "print(\"std:\"+str(final_data_rum['low_time'].std()))\n",
        "print(\"median:\"+str(final_data_rum['low_time'].median()))\n",
        "print(\"iqr:\"+ str(iqr(final_data_rum['low_time']))+\"\\n\")\n",
        "\n",
        "print(\"Time between contraction cycles during eating:\")\n",
        "print(\"mean:\"+str(final_data_eat['low_time'].mean()))\n",
        "print(\"std:\"+str(final_data_eat['low_time'].std()))\n",
        "print(\"median:\"+str(final_data_eat['low_time'].median()))\n",
        "print(\"iqr:\"+ str(iqr(final_data_eat['low_time']))+\"\\n\")\n",
        "\n",
        "print(\"Time between contraction cycles during sleeping:\")\n",
        "print(\"mean:\"+str(final_data_sleep['low_time'].mean()))\n",
        "print(\"std:\"+str(final_data_sleep['low_time'].std()))\n",
        "print(\"median:\"+str(final_data_sleep['low_time'].median()))\n",
        "print(\"iqr:\"+ str(iqr(final_data_sleep['low_time']))+\"\\n\")\n",
        "\n",
        "print(\"Time between contraction cycles during resting:\")\n",
        "print(\"mean:\"+str(final_data_rest['low_time'].mean()))\n",
        "print(\"std:\"+str(final_data_rest['low_time'].std()))\n",
        "print(\"median:\"+str(final_data_rest['low_time'].median()))\n",
        "print(\"iqr:\"+ str(iqr(final_data_rest['low_time']))+\"\\n\")\n",
        "\n"
      ],
      "metadata": {
        "colab": {
          "base_uri": "https://localhost:8080/"
        },
        "id": "m65zhu1QY3F-",
        "outputId": "07d175b5-29c2-4a83-938b-d212f650bbf7"
      },
      "execution_count": null,
      "outputs": [
        {
          "output_type": "stream",
          "name": "stdout",
          "text": [
            "Time between contraction cycles during rumination:\n",
            "mean:50.19786760455993\n",
            "std:12.688519054375197\n",
            "median:50.5\n",
            "iqr:14.0\n",
            "\n",
            "Time between contraction cycles during eating:\n",
            "mean:37.92706353220209\n",
            "std:18.693595015809986\n",
            "median:35.0\n",
            "iqr:16.0\n",
            "\n",
            "Time between contraction cycles during sleeping:\n",
            "mean:50.19549204478491\n",
            "std:27.07780997084258\n",
            "median:44.0\n",
            "iqr:13.0\n",
            "\n",
            "Time between contraction cycles during resting:\n",
            "mean:42.375882325186375\n",
            "std:21.52999407933072\n",
            "median:38.5\n",
            "iqr:17.0\n",
            "\n"
          ]
        }
      ]
    },
    {
      "cell_type": "code",
      "source": [],
      "metadata": {
        "id": "VR_TZdz0BqdV"
      },
      "execution_count": null,
      "outputs": []
    },
    {
      "cell_type": "code",
      "source": [
        "sns.boxplot(x=\"behaviour\", y=\"low_time\",orient='v', data=final_data_peak_detection_corrected, showfliers=False)\n",
        "plt.xlabel('Behaviour')\n",
        "plt.ylabel('Time interval between contractions (s)')\n",
        "plt.show()"
      ],
      "metadata": {
        "id": "jmon--YHBna4"
      },
      "execution_count": null,
      "outputs": []
    },
    {
      "cell_type": "markdown",
      "metadata": {
        "id": "98giER1N353M"
      },
      "source": [
        "## Confusion matrix and classification report"
      ]
    },
    {
      "cell_type": "code",
      "source": [
        "results = confusion_matrix(final_data_peak_detection['Ruminating'], final_data_peak_detection['rumination'])\n",
        "\n",
        "print('Confusion matrix peak_detection_algorithm for rumination')\n",
        "print(results)\n",
        "print('Accuracy Score : ', accuracy_score(final_data_peak_detection['Ruminating'], final_data_peak_detection['rumination']))\n",
        "print('Report : ')\n",
        "print(classification_report(final_data_peak_detection['Ruminating'], final_data_peak_detection['rumination']))"
      ],
      "metadata": {
        "colab": {
          "base_uri": "https://localhost:8080/"
        },
        "id": "lGTooBCDqinL",
        "outputId": "d33c044c-b49b-49cd-f6b8-40581961c5e8"
      },
      "execution_count": null,
      "outputs": [
        {
          "output_type": "stream",
          "name": "stdout",
          "text": [
            "Confusion matrix peak_detection_algorithm for rumination\n",
            "[[276845  73001]\n",
            " [ 22023  59294]]\n",
            "Accuracy Score :  0.779610031473016\n",
            "Report : \n",
            "              precision    recall  f1-score   support\n",
            "\n",
            "         0.0       0.93      0.79      0.85    349846\n",
            "         1.0       0.45      0.73      0.56     81317\n",
            "\n",
            "    accuracy                           0.78    431163\n",
            "   macro avg       0.69      0.76      0.70    431163\n",
            "weighted avg       0.84      0.78      0.80    431163\n",
            "\n"
          ]
        }
      ]
    },
    {
      "cell_type": "code",
      "source": [
        "results = confusion_matrix(final_data_peak_detection_selected['Ruminating'], final_data_peak_detection_selected['rumination'])\n",
        "\n",
        "print('Confusion matrix peak_detection_algorithm for rumination: file10')\n",
        "print(results)\n",
        "print('Accuracy Score : ', accuracy_score(final_data_peak_detection_selected['Ruminating'], final_data_peak_detection_selected['rumination']))\n",
        "print('Report : ')\n",
        "print(classification_report(final_data_peak_detection_selected['Ruminating'], final_data_peak_detection_selected['rumination']))"
      ],
      "metadata": {
        "colab": {
          "base_uri": "https://localhost:8080/"
        },
        "id": "qN6zPOYP85oZ",
        "outputId": "34b42537-fecc-41a3-d91a-dbfb6315e88b"
      },
      "execution_count": null,
      "outputs": [
        {
          "output_type": "stream",
          "name": "stdout",
          "text": [
            "Confusion matrix peak_detection_algorithm for rumination: file10\n",
            "[[29889   878]\n",
            " [  672 11754]]\n",
            "Accuracy Score :  0.9641145555992869\n",
            "Report : \n",
            "              precision    recall  f1-score   support\n",
            "\n",
            "         0.0       0.98      0.97      0.97     30767\n",
            "         1.0       0.93      0.95      0.94     12426\n",
            "\n",
            "    accuracy                           0.96     43193\n",
            "   macro avg       0.95      0.96      0.96     43193\n",
            "weighted avg       0.96      0.96      0.96     43193\n",
            "\n"
          ]
        }
      ]
    },
    {
      "cell_type": "markdown",
      "metadata": {
        "id": "y67CSm0le5xk"
      },
      "source": [
        "# RandomForestAlgorithm"
      ]
    },
    {
      "cell_type": "markdown",
      "metadata": {
        "id": "jvus0EKfzBnU"
      },
      "source": [
        "## Features"
      ]
    },
    {
      "cell_type": "code",
      "execution_count": null,
      "metadata": {
        "id": "slII8zfOzPU4"
      },
      "outputs": [],
      "source": [
        "def preprocess_feature_file(file, sep = \",\"):\n",
        "  #read the file and make sure to change NaN with 0.0\n",
        "  pressure_df = pd.read_csv(file, sep, decimal=\".\")[['DateTime','MergeDateTime', 'Pressure','Temperature']].dropna()\n",
        "  # normalisation\n",
        "  pressure_df[\"Pressure\"] /= np.max(np.abs(pressure_df[\"Pressure\"].values),axis=0)\n",
        "  pressure_df['MergeDateTime']=pd.to_datetime(pressure_df['MergeDateTime'],format=\"%Y-%m-%d %H:%M:%S\")\n",
        "  # define columns\n",
        "  #pressure_df[\"DateTime\"] = pressure_df[\"DateTime\"].astype(str).str[:-6].str.replace('T', ' ', regex=False).astype(str)\n",
        "  pressure_df[\"file_index\"] = pressure_df.index\n",
        "  pressure_df[\"feature_filename\"] = file\n",
        "  return pressure_df"
      ]
    },
    {
      "cell_type": "code",
      "execution_count": null,
      "metadata": {
        "colab": {
          "base_uri": "https://localhost:8080/"
        },
        "id": "-8hzA73pyKku",
        "outputId": "c0c3e3f8-0986-46b3-f38b-10cb1af9fdcb"
      },
      "outputs": [
        {
          "output_type": "stream",
          "name": "stdout",
          "text": [
            "Started processing: /content/gdrive/Shared drives/Bovi-Analytics/Projects/JosjeScheurwater/SensorBolus/Josje/data/out/bolus/bolus20210121.csv\n"
          ]
        },
        {
          "output_type": "stream",
          "name": "stderr",
          "text": [
            "/usr/local/lib/python3.7/dist-packages/ipykernel_launcher.py:5: FutureWarning: In a future version of pandas all arguments of read_csv except for the argument 'filepath_or_buffer' will be keyword-only\n",
            "  \"\"\"\n"
          ]
        },
        {
          "output_type": "stream",
          "name": "stdout",
          "text": [
            "Done processing\n",
            "Started processing: /content/gdrive/Shared drives/Bovi-Analytics/Projects/JosjeScheurwater/SensorBolus/Josje/data/out/bolus/bolus20210122.csv\n",
            "Done processing\n",
            "Started processing: /content/gdrive/Shared drives/Bovi-Analytics/Projects/JosjeScheurwater/SensorBolus/Josje/data/out/bolus/bolus20210119.csv\n",
            "Done processing\n",
            "Started processing: /content/gdrive/Shared drives/Bovi-Analytics/Projects/JosjeScheurwater/SensorBolus/Josje/data/out/bolus/bolus20210118.csv\n",
            "Done processing\n",
            "Started processing: /content/gdrive/Shared drives/Bovi-Analytics/Projects/JosjeScheurwater/SensorBolus/Josje/data/out/bolus/bolus20210208.csv\n",
            "Done processing\n",
            "Started processing: /content/gdrive/Shared drives/Bovi-Analytics/Projects/JosjeScheurwater/SensorBolus/Josje/data/out/bolus/bolus20210205.csv\n",
            "Done processing\n",
            "Started processing: /content/gdrive/Shared drives/Bovi-Analytics/Projects/JosjeScheurwater/SensorBolus/Josje/data/out/bolus/bolus20210202.csv\n",
            "Done processing\n",
            "Started processing: /content/gdrive/Shared drives/Bovi-Analytics/Projects/JosjeScheurwater/SensorBolus/Josje/data/out/bolus/bolus20210211.csv\n",
            "Done processing\n",
            "Started processing: /content/gdrive/Shared drives/Bovi-Analytics/Projects/JosjeScheurwater/SensorBolus/Josje/data/out/bolus/bolus20210219.csv\n",
            "Done processing\n",
            "Started processing: /content/gdrive/Shared drives/Bovi-Analytics/Projects/JosjeScheurwater/SensorBolus/Josje/data/out/bolus/bolus20210224.csv\n",
            "Done processing\n",
            "Started processing: /content/gdrive/Shared drives/Bovi-Analytics/Projects/JosjeScheurwater/SensorBolus/Josje/data/out/bolus/bolus20210225.csv\n",
            "Done processing\n"
          ]
        }
      ],
      "source": [
        "all_feature_files = glob.glob(bolus_path + \"*.csv\")\n",
        "list_feature_df = []\n",
        "for filename in all_feature_files:\n",
        "    print(\"Started processing: \" + filename)\n",
        "    df = preprocess_feature_file(filename, sep=\",\")\n",
        "    list_feature_df.append(df)\n",
        "    print(\"Done processing\")"
      ]
    },
    {
      "cell_type": "code",
      "execution_count": null,
      "metadata": {
        "id": "U2OA7lisyx06"
      },
      "outputs": [],
      "source": [
        "df_concat_features = pd.concat(list_feature_df, axis=0, ignore_index=True)"
      ]
    },
    {
      "cell_type": "markdown",
      "metadata": {
        "id": "fZbtZrhhzHA9"
      },
      "source": [
        "## Labels"
      ]
    },
    {
      "cell_type": "code",
      "execution_count": null,
      "metadata": {
        "id": "Vu4FHa6I_I2a"
      },
      "outputs": [],
      "source": [
        "WIN_SIZE = 240\n",
        "WIN_OVERLAP = 1\n",
        "BEHAVIOUR_1= 'rumination_video'\n",
        "BEHAVIOUR_2= 'eating_video'\n",
        "BEHAVIOUR_3= 'drinking_video'\n",
        "BEHAVIOUR_4= 'sleeping_video'\n",
        "BEHAVIOUR_5= 'urinating_video'\n",
        "BEHAVIOUR_6= 'mooing_video'\n",
        "BEHAVIOUR_7= 'resting_video'"
      ]
    },
    {
      "cell_type": "code",
      "execution_count": null,
      "metadata": {
        "id": "8LxhFX5Vzd74"
      },
      "outputs": [],
      "source": [
        "def preprocess_label_file(file, window_size):\n",
        "    # read the file\n",
        "    df_raw = pd.read_csv(file, header=0, sep = \",\", decimal=\".\", nrows = 50000)[['Cow','Date','MergeDateTime','Ruminating','Eating','Sleeping','Drinking','Urinate','Moo', 'Lying','CodeBehaviour']].dropna()\n",
        "    # make a copy without ' ' in specific code\n",
        "    df=df_raw\n",
        "    # make extra columns\n",
        "    df['rumination_video'] = df['Ruminating'].apply(lambda x: 1 if x == 8 else 0)\n",
        "    df['eating_video'] = df['Eating'].apply(lambda x: 1 if x == 4 else 0)\n",
        "    df['sleeping_video'] = df['Sleeping'].apply(lambda x: 1 if x == 3 else 0)\n",
        "    df['urinating_video'] = df['Urinate'].apply(lambda x: 1 if x == 13 else 0)\n",
        "    df['drinking_video'] = df['Drinking'].apply(lambda x: 1 if x == 5 else 0)\n",
        "    df['mooing_video'] = df['Moo'].apply(lambda x: 1 if x == 17 else 0)\n",
        "    df['resting_video'] = df['Lying'].apply(lambda x: 1 if (x == 21 or x== 20) else 0)\n",
        "    df['MergeDateTime']=pd.to_datetime(df['MergeDateTime'],format=\"%Y-%m-%d %H:%M:%S\")\n",
        "\n",
        "    #create one colum for behaviour\n",
        "    df_beh= df\n",
        "    df_beh[\"eating_video\"].replace({1:2}, inplace= True)\n",
        "    df_beh[\"drinking_video\"].replace({1:3}, inplace= True)\n",
        "    df_beh[\"sleeping_video\"].replace({1:4}, inplace= True)\n",
        "    df_beh[\"urinating_video\"].replace({1:5}, inplace= True)\n",
        "    df_beh[\"mooing_video\"].replace({1:6}, inplace= True)\n",
        "    df_beh[\"resting_video\"].replace({1:7}, inplace= True)\n",
        "\n",
        "    df['behaviour']=df_beh['rumination_video']+df_beh['eating_video']+df_beh['resting_video']+df_beh['drinking_video']+df_beh['sleeping_video']+df_beh['mooing_video']+df_beh['urinating_video']\n",
        "    # most frequent behaviour in time frame\n",
        "    df['label_filename'] = file\n",
        "    df['behaviour'] = df['behaviour'].astype(str)\n",
        "    df['rolling_behaviour_backward'] = df.behaviour.rolling(window = window_size, min_periods=0).apply(lambda x: mode(x)[0])\n",
        "    df['rolling_rumination_backward'] = df['rolling_behaviour_backward'].apply(lambda x: 1 if x == 1 else 0)\n",
        "    df['rolling_eating_backward'] = df['rolling_behaviour_backward'].apply(lambda x: 1 if x == 2 else 0)\n",
        "    df['rolling_resting_backward'] = df['rolling_behaviour_backward'].apply(lambda x: 1 if x == 7 else 0)\n",
        "    df['rolling_sleeping_backward'] = df['rolling_behaviour_backward'].apply(lambda x: 1 if x == 4 else 0)\n",
        "    df['rolling_drinking_backward'] = df['rolling_behaviour_backward'].apply(lambda x: 1 if x == 3 else 0)\n",
        "    # behaviour existing in time frame\n",
        "    #df['was_ruminating_backward'] = df.code_1_5.rolling(window = window_size, min_periods=0).apply(lambda x:1 if 1.0 in x else 0)\n",
        "    #df['was_eating_backward'] = df.code_1_5.rolling(window = window_size, min_periods=0).apply(lambda x:1 if 4.0 in x else 0)\n",
        "    #df['was_resting_backward'] = df.code_1_5.rolling(window = window_size, min_periods=0).apply(lambda x:1 if 2.0 in x else 0)\n",
        "    #df['was_sleeping_backward'] = df.code_1_5.rolling(window = window_size, min_periods=0).apply(lambda x:1 if 3.0 in x else 0)\n",
        "    #df['was_drinking_backward'] = df.code_1_5.rolling(window = window_size, min_periods=0).apply(lambda x:1 if 5.0 in x else 0)\n",
        "    return df"
      ]
    },
    {
      "cell_type": "code",
      "execution_count": null,
      "metadata": {
        "colab": {
          "base_uri": "https://localhost:8080/"
        },
        "id": "WRsaBVE8IXny",
        "outputId": "39e48274-5064-4885-947f-f61091df8d45"
      },
      "outputs": [
        {
          "output_type": "stream",
          "name": "stdout",
          "text": [
            "Started processing: /content/gdrive/Shared drives/Bovi-Analytics/Projects/JosjeScheurwater/SensorBolus/Josje/data/out/video/video20210121a.csv\n",
            "Done processing: /content/gdrive/Shared drives/Bovi-Analytics/Projects/JosjeScheurwater/SensorBolus/Josje/data/out/video/video20210121a.csv\n",
            "Started processing: /content/gdrive/Shared drives/Bovi-Analytics/Projects/JosjeScheurwater/SensorBolus/Josje/data/out/video/video20210122.csv\n",
            "Done processing: /content/gdrive/Shared drives/Bovi-Analytics/Projects/JosjeScheurwater/SensorBolus/Josje/data/out/video/video20210122.csv\n",
            "Started processing: /content/gdrive/Shared drives/Bovi-Analytics/Projects/JosjeScheurwater/SensorBolus/Josje/data/out/video/video20210121b.csv\n",
            "Done processing: /content/gdrive/Shared drives/Bovi-Analytics/Projects/JosjeScheurwater/SensorBolus/Josje/data/out/video/video20210121b.csv\n",
            "Started processing: /content/gdrive/Shared drives/Bovi-Analytics/Projects/JosjeScheurwater/SensorBolus/Josje/data/out/video/video20210208.csv\n",
            "Done processing: /content/gdrive/Shared drives/Bovi-Analytics/Projects/JosjeScheurwater/SensorBolus/Josje/data/out/video/video20210208.csv\n",
            "Started processing: /content/gdrive/Shared drives/Bovi-Analytics/Projects/JosjeScheurwater/SensorBolus/Josje/data/out/video/video20210205.csv\n",
            "Done processing: /content/gdrive/Shared drives/Bovi-Analytics/Projects/JosjeScheurwater/SensorBolus/Josje/data/out/video/video20210205.csv\n",
            "Started processing: /content/gdrive/Shared drives/Bovi-Analytics/Projects/JosjeScheurwater/SensorBolus/Josje/data/out/video/video20210118.csv\n",
            "Done processing: /content/gdrive/Shared drives/Bovi-Analytics/Projects/JosjeScheurwater/SensorBolus/Josje/data/out/video/video20210118.csv\n",
            "Started processing: /content/gdrive/Shared drives/Bovi-Analytics/Projects/JosjeScheurwater/SensorBolus/Josje/data/out/video/video20210211.csv\n",
            "Done processing: /content/gdrive/Shared drives/Bovi-Analytics/Projects/JosjeScheurwater/SensorBolus/Josje/data/out/video/video20210211.csv\n",
            "Started processing: /content/gdrive/Shared drives/Bovi-Analytics/Projects/JosjeScheurwater/SensorBolus/Josje/data/out/video/video20210202.csv\n",
            "Done processing: /content/gdrive/Shared drives/Bovi-Analytics/Projects/JosjeScheurwater/SensorBolus/Josje/data/out/video/video20210202.csv\n",
            "Started processing: /content/gdrive/Shared drives/Bovi-Analytics/Projects/JosjeScheurwater/SensorBolus/Josje/data/out/video/video20210119.csv\n",
            "Done processing: /content/gdrive/Shared drives/Bovi-Analytics/Projects/JosjeScheurwater/SensorBolus/Josje/data/out/video/video20210119.csv\n",
            "Started processing: /content/gdrive/Shared drives/Bovi-Analytics/Projects/JosjeScheurwater/SensorBolus/Josje/data/out/video/video20210219.csv\n",
            "Done processing: /content/gdrive/Shared drives/Bovi-Analytics/Projects/JosjeScheurwater/SensorBolus/Josje/data/out/video/video20210219.csv\n",
            "Started processing: /content/gdrive/Shared drives/Bovi-Analytics/Projects/JosjeScheurwater/SensorBolus/Josje/data/out/video/video20210224.csv\n",
            "Done processing: /content/gdrive/Shared drives/Bovi-Analytics/Projects/JosjeScheurwater/SensorBolus/Josje/data/out/video/video20210224.csv\n",
            "Started processing: /content/gdrive/Shared drives/Bovi-Analytics/Projects/JosjeScheurwater/SensorBolus/Josje/data/out/video/video20210225.csv\n",
            "Done processing: /content/gdrive/Shared drives/Bovi-Analytics/Projects/JosjeScheurwater/SensorBolus/Josje/data/out/video/video20210225.csv\n"
          ]
        }
      ],
      "source": [
        "all_label_files = glob.glob(video_path + \"*.csv\")\n",
        "list_label_df = []\n",
        "for filename in all_label_files:\n",
        "  print(\"Started processing: \" + filename)\n",
        "  df = preprocess_label_file(filename, WIN_SIZE)\n",
        "  list_label_df.append(df)\n",
        "  print(\"Done processing: \" + filename)"
      ]
    },
    {
      "cell_type": "code",
      "execution_count": null,
      "metadata": {
        "id": "eDYYWCkyg6xS"
      },
      "outputs": [],
      "source": [
        "df_concat_labels = pd.concat(list_label_df, axis=0, ignore_index=True)"
      ]
    },
    {
      "cell_type": "markdown",
      "metadata": {
        "id": "ab3Rf9kXTPJu"
      },
      "source": [
        "## Merge"
      ]
    },
    {
      "cell_type": "code",
      "execution_count": null,
      "metadata": {
        "id": "q8d9jc58AjAk"
      },
      "outputs": [],
      "source": [
        "df_merged = pd.merge(df_concat_features, df_concat_labels, on='MergeDateTime', how='inner')\n",
        "df_merged_corr = df_merged[df_merged.DateTime <='2021-02-24 22:30:00']"
      ]
    },
    {
      "cell_type": "code",
      "source": [
        "df_merged_corr.count()"
      ],
      "metadata": {
        "colab": {
          "base_uri": "https://localhost:8080/"
        },
        "id": "ESeeiLd41qPu",
        "outputId": "57cd4bdd-466e-4710-ac83-8f92012024ae"
      },
      "execution_count": null,
      "outputs": [
        {
          "output_type": "execute_result",
          "data": {
            "text/plain": [
              "DateTime                       431163\n",
              "MergeDateTime                  431163\n",
              "Pressure                       431163\n",
              "Temperature                    431163\n",
              "file_index                     431163\n",
              "feature_filename               431163\n",
              "Cow                            431163\n",
              "Date                           431163\n",
              "Ruminating                     431163\n",
              "Eating                         431163\n",
              "Sleeping                       431163\n",
              "Drinking                       431163\n",
              "Urinate                        431163\n",
              "Moo                            431163\n",
              "Lying                          431163\n",
              "CodeBehaviour                  431163\n",
              "rumination_video               431163\n",
              "eating_video                   431163\n",
              "sleeping_video                 431163\n",
              "urinating_video                431163\n",
              "drinking_video                 431163\n",
              "mooing_video                   431163\n",
              "resting_video                  431163\n",
              "behaviour                      431163\n",
              "label_filename                 431163\n",
              "rolling_behaviour_backward     431163\n",
              "rolling_rumination_backward    431163\n",
              "rolling_eating_backward        431163\n",
              "rolling_resting_backward       431163\n",
              "rolling_sleeping_backward      431163\n",
              "rolling_drinking_backward      431163\n",
              "dtype: int64"
            ]
          },
          "metadata": {},
          "execution_count": 17
        }
      ]
    },
    {
      "cell_type": "code",
      "source": [
        "df_merged_corr['eating_video'] = df_merged_corr['eating_video'].replace([2],1)\n",
        "df_merged_corr['sleeping_video'] = df_merged_corr['sleeping_video'].replace([4],1)\n",
        "df_merged_corr['drinking_video'] = df_merged_corr['drinking_video'].replace([3],1)\n",
        "df_merged_corr['urinating_video'] = df_merged_corr['urinating_video'].replace([5],1)\n",
        "df_merged_corr['mooing_video'] = df_merged_corr['mooing_video'].replace([6],1)\n",
        "df_merged_corr['resting_video'] = df_merged_corr['resting_video'].replace([7],1)"
      ],
      "metadata": {
        "colab": {
          "base_uri": "https://localhost:8080/"
        },
        "id": "vofP9a7Xf6Nu",
        "outputId": "2ac48937-7de5-4ced-84ce-52fbfa99358e"
      },
      "execution_count": null,
      "outputs": [
        {
          "output_type": "stream",
          "name": "stderr",
          "text": [
            "/usr/local/lib/python3.7/dist-packages/ipykernel_launcher.py:1: SettingWithCopyWarning: \n",
            "A value is trying to be set on a copy of a slice from a DataFrame.\n",
            "Try using .loc[row_indexer,col_indexer] = value instead\n",
            "\n",
            "See the caveats in the documentation: https://pandas.pydata.org/pandas-docs/stable/user_guide/indexing.html#returning-a-view-versus-a-copy\n",
            "  \"\"\"Entry point for launching an IPython kernel.\n",
            "/usr/local/lib/python3.7/dist-packages/ipykernel_launcher.py:2: SettingWithCopyWarning: \n",
            "A value is trying to be set on a copy of a slice from a DataFrame.\n",
            "Try using .loc[row_indexer,col_indexer] = value instead\n",
            "\n",
            "See the caveats in the documentation: https://pandas.pydata.org/pandas-docs/stable/user_guide/indexing.html#returning-a-view-versus-a-copy\n",
            "  \n",
            "/usr/local/lib/python3.7/dist-packages/ipykernel_launcher.py:3: SettingWithCopyWarning: \n",
            "A value is trying to be set on a copy of a slice from a DataFrame.\n",
            "Try using .loc[row_indexer,col_indexer] = value instead\n",
            "\n",
            "See the caveats in the documentation: https://pandas.pydata.org/pandas-docs/stable/user_guide/indexing.html#returning-a-view-versus-a-copy\n",
            "  This is separate from the ipykernel package so we can avoid doing imports until\n",
            "/usr/local/lib/python3.7/dist-packages/ipykernel_launcher.py:4: SettingWithCopyWarning: \n",
            "A value is trying to be set on a copy of a slice from a DataFrame.\n",
            "Try using .loc[row_indexer,col_indexer] = value instead\n",
            "\n",
            "See the caveats in the documentation: https://pandas.pydata.org/pandas-docs/stable/user_guide/indexing.html#returning-a-view-versus-a-copy\n",
            "  after removing the cwd from sys.path.\n",
            "/usr/local/lib/python3.7/dist-packages/ipykernel_launcher.py:5: SettingWithCopyWarning: \n",
            "A value is trying to be set on a copy of a slice from a DataFrame.\n",
            "Try using .loc[row_indexer,col_indexer] = value instead\n",
            "\n",
            "See the caveats in the documentation: https://pandas.pydata.org/pandas-docs/stable/user_guide/indexing.html#returning-a-view-versus-a-copy\n",
            "  \"\"\"\n",
            "/usr/local/lib/python3.7/dist-packages/ipykernel_launcher.py:6: SettingWithCopyWarning: \n",
            "A value is trying to be set on a copy of a slice from a DataFrame.\n",
            "Try using .loc[row_indexer,col_indexer] = value instead\n",
            "\n",
            "See the caveats in the documentation: https://pandas.pydata.org/pandas-docs/stable/user_guide/indexing.html#returning-a-view-versus-a-copy\n",
            "  \n"
          ]
        }
      ]
    },
    {
      "cell_type": "code",
      "source": [
        "file_merged='/content/gdrive/Shared drives/Bovi-Analytics/Projects/JosjeScheurwater/SensorBolus/Miel/data/out/.csv'\n",
        "df_merged.to_csv(file_merged)"
      ],
      "metadata": {
        "id": "VKGVfyOS-4yq",
        "colab": {
          "base_uri": "https://localhost:8080/",
          "height": 328
        },
        "outputId": "1d63fcac-63ca-45bd-d33e-612798095f4c"
      },
      "execution_count": null,
      "outputs": [
        {
          "output_type": "error",
          "ename": "FileNotFoundError",
          "evalue": "ignored",
          "traceback": [
            "\u001b[0;31m---------------------------------------------------------------------------\u001b[0m",
            "\u001b[0;31mFileNotFoundError\u001b[0m                         Traceback (most recent call last)",
            "\u001b[0;32m<ipython-input-32-aa9763fb440d>\u001b[0m in \u001b[0;36m<module>\u001b[0;34m()\u001b[0m\n\u001b[1;32m      1\u001b[0m \u001b[0mfile_merged\u001b[0m\u001b[0;34m=\u001b[0m\u001b[0;34m'/content/gdrive/Shared drives/Bovi-Analytics/Projects/JosjeScheurwater/SensorBolus/Miel/data/out/.csv'\u001b[0m\u001b[0;34m\u001b[0m\u001b[0;34m\u001b[0m\u001b[0m\n\u001b[0;32m----> 2\u001b[0;31m \u001b[0mdf_merged\u001b[0m\u001b[0;34m.\u001b[0m\u001b[0mto_csv\u001b[0m\u001b[0;34m(\u001b[0m\u001b[0mfile_merged\u001b[0m\u001b[0;34m)\u001b[0m\u001b[0;34m\u001b[0m\u001b[0;34m\u001b[0m\u001b[0m\n\u001b[0m",
            "\u001b[0;32m/usr/local/lib/python3.7/dist-packages/pandas/core/generic.py\u001b[0m in \u001b[0;36mto_csv\u001b[0;34m(self, path_or_buf, sep, na_rep, float_format, columns, header, index, index_label, mode, encoding, compression, quoting, quotechar, line_terminator, chunksize, date_format, doublequote, escapechar, decimal, errors, storage_options)\u001b[0m\n\u001b[1;32m   3480\u001b[0m             \u001b[0mdoublequote\u001b[0m\u001b[0;34m=\u001b[0m\u001b[0mdoublequote\u001b[0m\u001b[0;34m,\u001b[0m\u001b[0;34m\u001b[0m\u001b[0;34m\u001b[0m\u001b[0m\n\u001b[1;32m   3481\u001b[0m             \u001b[0mescapechar\u001b[0m\u001b[0;34m=\u001b[0m\u001b[0mescapechar\u001b[0m\u001b[0;34m,\u001b[0m\u001b[0;34m\u001b[0m\u001b[0;34m\u001b[0m\u001b[0m\n\u001b[0;32m-> 3482\u001b[0;31m             \u001b[0mstorage_options\u001b[0m\u001b[0;34m=\u001b[0m\u001b[0mstorage_options\u001b[0m\u001b[0;34m,\u001b[0m\u001b[0;34m\u001b[0m\u001b[0;34m\u001b[0m\u001b[0m\n\u001b[0m\u001b[1;32m   3483\u001b[0m         )\n\u001b[1;32m   3484\u001b[0m \u001b[0;34m\u001b[0m\u001b[0m\n",
            "\u001b[0;32m/usr/local/lib/python3.7/dist-packages/pandas/io/formats/format.py\u001b[0m in \u001b[0;36mto_csv\u001b[0;34m(self, path_or_buf, encoding, sep, columns, index_label, mode, compression, quoting, quotechar, line_terminator, chunksize, date_format, doublequote, escapechar, errors, storage_options)\u001b[0m\n\u001b[1;32m   1103\u001b[0m             \u001b[0mformatter\u001b[0m\u001b[0;34m=\u001b[0m\u001b[0mself\u001b[0m\u001b[0;34m.\u001b[0m\u001b[0mfmt\u001b[0m\u001b[0;34m,\u001b[0m\u001b[0;34m\u001b[0m\u001b[0;34m\u001b[0m\u001b[0m\n\u001b[1;32m   1104\u001b[0m         )\n\u001b[0;32m-> 1105\u001b[0;31m         \u001b[0mcsv_formatter\u001b[0m\u001b[0;34m.\u001b[0m\u001b[0msave\u001b[0m\u001b[0;34m(\u001b[0m\u001b[0;34m)\u001b[0m\u001b[0;34m\u001b[0m\u001b[0;34m\u001b[0m\u001b[0m\n\u001b[0m\u001b[1;32m   1106\u001b[0m \u001b[0;34m\u001b[0m\u001b[0m\n\u001b[1;32m   1107\u001b[0m         \u001b[0;32mif\u001b[0m \u001b[0mcreated_buffer\u001b[0m\u001b[0;34m:\u001b[0m\u001b[0;34m\u001b[0m\u001b[0;34m\u001b[0m\u001b[0m\n",
            "\u001b[0;32m/usr/local/lib/python3.7/dist-packages/pandas/io/formats/csvs.py\u001b[0m in \u001b[0;36msave\u001b[0;34m(self)\u001b[0m\n\u001b[1;32m    241\u001b[0m             \u001b[0merrors\u001b[0m\u001b[0;34m=\u001b[0m\u001b[0mself\u001b[0m\u001b[0;34m.\u001b[0m\u001b[0merrors\u001b[0m\u001b[0;34m,\u001b[0m\u001b[0;34m\u001b[0m\u001b[0;34m\u001b[0m\u001b[0m\n\u001b[1;32m    242\u001b[0m             \u001b[0mcompression\u001b[0m\u001b[0;34m=\u001b[0m\u001b[0mself\u001b[0m\u001b[0;34m.\u001b[0m\u001b[0mcompression\u001b[0m\u001b[0;34m,\u001b[0m\u001b[0;34m\u001b[0m\u001b[0;34m\u001b[0m\u001b[0m\n\u001b[0;32m--> 243\u001b[0;31m             \u001b[0mstorage_options\u001b[0m\u001b[0;34m=\u001b[0m\u001b[0mself\u001b[0m\u001b[0;34m.\u001b[0m\u001b[0mstorage_options\u001b[0m\u001b[0;34m,\u001b[0m\u001b[0;34m\u001b[0m\u001b[0;34m\u001b[0m\u001b[0m\n\u001b[0m\u001b[1;32m    244\u001b[0m         ) as handles:\n\u001b[1;32m    245\u001b[0m \u001b[0;34m\u001b[0m\u001b[0m\n",
            "\u001b[0;32m/usr/local/lib/python3.7/dist-packages/pandas/io/common.py\u001b[0m in \u001b[0;36mget_handle\u001b[0;34m(path_or_buf, mode, encoding, compression, memory_map, is_text, errors, storage_options)\u001b[0m\n\u001b[1;32m    705\u001b[0m                 \u001b[0mencoding\u001b[0m\u001b[0;34m=\u001b[0m\u001b[0mioargs\u001b[0m\u001b[0;34m.\u001b[0m\u001b[0mencoding\u001b[0m\u001b[0;34m,\u001b[0m\u001b[0;34m\u001b[0m\u001b[0;34m\u001b[0m\u001b[0m\n\u001b[1;32m    706\u001b[0m                 \u001b[0merrors\u001b[0m\u001b[0;34m=\u001b[0m\u001b[0merrors\u001b[0m\u001b[0;34m,\u001b[0m\u001b[0;34m\u001b[0m\u001b[0;34m\u001b[0m\u001b[0m\n\u001b[0;32m--> 707\u001b[0;31m                 \u001b[0mnewline\u001b[0m\u001b[0;34m=\u001b[0m\u001b[0;34m\"\"\u001b[0m\u001b[0;34m,\u001b[0m\u001b[0;34m\u001b[0m\u001b[0;34m\u001b[0m\u001b[0m\n\u001b[0m\u001b[1;32m    708\u001b[0m             )\n\u001b[1;32m    709\u001b[0m         \u001b[0;32melse\u001b[0m\u001b[0;34m:\u001b[0m\u001b[0;34m\u001b[0m\u001b[0;34m\u001b[0m\u001b[0m\n",
            "\u001b[0;31mFileNotFoundError\u001b[0m: [Errno 2] No such file or directory: '/content/gdrive/Shared drives/Bovi-Analytics/Projects/JosjeScheurwater/SensorBolus/Miel/data/out/.csv'"
          ]
        }
      ]
    },
    {
      "cell_type": "markdown",
      "metadata": {
        "id": "QuvEv0Ntxog9"
      },
      "source": [
        "## Sliding windows"
      ]
    },
    {
      "cell_type": "code",
      "execution_count": null,
      "metadata": {
        "id": "E7mzzmfggehe"
      },
      "outputs": [],
      "source": [
        "def np_ffill(arr, axis):\n",
        "    idx_shape = tuple([slice(None)] + [np.newaxis] * (len(arr.shape) - axis - 1))\n",
        "    idx = np.where(~np.isnan(arr), np.arange(arr.shape[axis])[idx_shape], 0)\n",
        "    np.maximum.accumulate(idx, axis=axis, out=idx)\n",
        "    slc = [np.arange(k)[tuple([slice(None) if dim==i else np.newaxis\n",
        "        for dim in range(len(arr.shape))])]\n",
        "        for i, k in enumerate(arr.shape)]\n",
        "    slc[axis] = idx\n",
        "    return arr[tuple(slc)]"
      ]
    },
    {
      "cell_type": "code",
      "execution_count": null,
      "metadata": {
        "id": "mCYd4fmFTQAB"
      },
      "outputs": [],
      "source": [
        "def extract_sliding_windows(df, label_col_1, label_col_2, label_col_3, label_col_4, label_col_5, label_col_6, label_col_7, pressure_col,  id_col, sub_window_size, chopped):\n",
        "    series = []\n",
        "    max_time = len(df)\n",
        "    pressure_index = df.columns.get_loc(pressure_col)\n",
        "    for i in range(max_time-sub_window_size+1):\n",
        "      if df[\"file_index\"][i] % chopped == 0.0:\n",
        "        serie = df[pressure_col][i:sub_window_size+i-1].values\n",
        "        forward_serie = np_ffill(serie, 0)\n",
        "        backfill_serie = np_ffill(forward_serie[::-1], 0)[::-1]\n",
        "        id_arr = df[id_col][i:sub_window_size+i-1].values\n",
        "        id =  id_arr[::-1][0]\n",
        "        label_arr_1 = df[label_col_1][i:sub_window_size+i-1].values\n",
        "        label_1 = label_arr_1[::-1][0]\n",
        "        label_arr_2 = df[label_col_2][i:sub_window_size+i-1].values\n",
        "        label_2 = label_arr_2[::-1][0]\n",
        "        label_arr_3 = df[label_col_3][i:sub_window_size+i-1].values\n",
        "        label_3 = label_arr_3[::-1][0]\n",
        "        label_arr_4 = df[label_col_4][i:sub_window_size+i-1].values\n",
        "        label_4 = label_arr_4[::-1][0]\n",
        "        label_arr_5 = df[label_col_5][i:sub_window_size+i-1].values\n",
        "        label_5 = label_arr_5[::-1][0]\n",
        "        label_arr_6 = df[label_col_6][i:sub_window_size+i-1].values\n",
        "        label_6 = label_arr_6[::-1][0]\n",
        "        label_arr_7 = df[label_col_7][i:sub_window_size+i-1].values\n",
        "        label_7 = label_arr_7[::-1][0]\n",
        "        series.append((id, label_1, label_2, label_3, label_4, label_5, label_6, label_7, backfill_serie))\n",
        "    return np.vstack(series)"
      ]
    },
    {
      "cell_type": "code",
      "source": [
        "result_np = extract_sliding_windows(df_merged, BEHAVIOUR_1, BEHAVIOUR_2, BEHAVIOUR_3, BEHAVIOUR_4, BEHAVIOUR_5, BEHAVIOUR_6, BEHAVIOUR_7, \"Pressure\", \"Cow\",WIN_SIZE, WIN_OVERLAP)"
      ],
      "metadata": {
        "colab": {
          "base_uri": "https://localhost:8080/"
        },
        "id": "1kKRE5vAVHGW",
        "outputId": "30d597db-2ea0-4374-db72-bbb8ef141743"
      },
      "execution_count": null,
      "outputs": [
        {
          "output_type": "stream",
          "name": "stderr",
          "text": [
            "/usr/local/lib/python3.7/dist-packages/numpy/core/shape_base.py:121: VisibleDeprecationWarning: Creating an ndarray from ragged nested sequences (which is a list-or-tuple of lists-or-tuples-or ndarrays with different lengths or shapes) is deprecated. If you meant to do this, you must specify 'dtype=object' when creating the ndarray.\n",
            "  ary = asanyarray(ary)\n"
          ]
        }
      ]
    },
    {
      "cell_type": "code",
      "execution_count": null,
      "metadata": {
        "colab": {
          "base_uri": "https://localhost:8080/"
        },
        "id": "nPd5OWZGdXFY",
        "outputId": "8282fe6d-d3ec-463f-bd23-56bd20d862ba"
      },
      "outputs": [
        {
          "output_type": "stream",
          "name": "stderr",
          "text": [
            "/usr/local/lib/python3.7/dist-packages/numpy/core/shape_base.py:121: VisibleDeprecationWarning: Creating an ndarray from ragged nested sequences (which is a list-or-tuple of lists-or-tuples-or ndarrays with different lengths or shapes) is deprecated. If you meant to do this, you must specify 'dtype=object' when creating the ndarray.\n",
            "  ary = asanyarray(ary)\n"
          ]
        }
      ],
      "source": [
        "result_np_1 = extract_sliding_windows(df_merged_corr, BEHAVIOUR_1, BEHAVIOUR_2, BEHAVIOUR_3, BEHAVIOUR_4, BEHAVIOUR_5, BEHAVIOUR_6, BEHAVIOUR_7, \"Pressure\", \"Cow\",WIN_SIZE, WIN_OVERLAP)"
      ]
    },
    {
      "cell_type": "markdown",
      "metadata": {
        "id": "Y4ipE_kPw4FX"
      },
      "source": [
        "## Signal processing"
      ]
    },
    {
      "cell_type": "markdown",
      "metadata": {
        "id": "XxoUSDntMJ6Q"
      },
      "source": [
        "Adopted from http://nbviewer.ipython.org/github/demotu/BMC/blob/master/notebooks/DetectPeaks.ipynb\n",
        "\n",
        "Thank you Marcos Duarte"
      ]
    },
    {
      "cell_type": "code",
      "execution_count": null,
      "metadata": {
        "id": "WOyUZBM5cOf7"
      },
      "outputs": [],
      "source": [
        "def detect_peaks(x, mph=None, mpd=1, threshold=0, edge='rising',\n",
        "                 kpsh=False, valley=False, show=False, ax=None):\n",
        "\n",
        "    \"\"\"Detect peaks in data based on their amplitude and other features.\n",
        "\n",
        "    Parameters\n",
        "    ----------\n",
        "    x : 1D array_like\n",
        "        data.\n",
        "    mph : {None, number}, optional (default = None)\n",
        "        detect peaks that are greater than minimum peak height.\n",
        "    mpd : positive integer, optional (default = 1)\n",
        "        detect peaks that are at least separated by minimum peak distance (in\n",
        "        number of data).\n",
        "    threshold : positive number, optional (default = 0)\n",
        "        detect peaks (valleys) that are greater (smaller) than `threshold`\n",
        "        in relation to their immediate neighbors.\n",
        "    edge : {None, 'rising', 'falling', 'both'}, optional (default = 'rising')\n",
        "        for a flat peak, keep only the rising edge ('rising'), only the\n",
        "        falling edge ('falling'), both edges ('both'), or don't detect a\n",
        "        flat peak (None).\n",
        "    kpsh : bool, optional (default = False)\n",
        "        keep peaks with same height even if they are closer than `mpd`.\n",
        "    valley : bool, optional (default = False)\n",
        "        if True (1), detect valleys (local minima) instead of peaks.\n",
        "    show : bool, optional (default = False)\n",
        "        if True (1), plot data in matplotlib figure.\n",
        "    ax : a matplotlib.axes.Axes instance, optional (default = None).\n",
        "\n",
        "    Returns\n",
        "    -------\n",
        "    ind : 1D array_like\n",
        "        indeces of the peaks in `x`.\n",
        "\n",
        "    Notes\n",
        "    -----\n",
        "    The detection of valleys instead of peaks is performed internally by simply\n",
        "    negating the data: `ind_valleys = detect_peaks(-x)`\n",
        "\n",
        "    The function can handle NaN's\n",
        "\n",
        "    See this IPython Notebook [1]_.\n",
        "\n",
        "    References\n",
        "    ----------\n",
        "    .. [1] http://nbviewer.ipython.org/github/demotu/BMC/blob/master/notebooks/DetectPeaks.ipynb\n",
        "\n",
        "    Examples\n",
        "    --------\n",
        "    >>> from detect_peaks import detect_peaks\n",
        "    >>> x = np.random.randn(100)\n",
        "    >>> x[60:81] = np.nan\n",
        "    >>> # detect all peaks and plot data\n",
        "    >>> ind = detect_peaks(x, show=True)\n",
        "    >>> print(ind)\n",
        "\n",
        "    >>> x = np.sin(2*np.pi*5*np.linspace(0, 1, 200)) + np.random.randn(200)/5\n",
        "    >>> # set minimum peak height = 0 and minimum peak distance = 20\n",
        "    >>> detect_peaks(x, mph=0, mpd=20, show=True)\n",
        "\n",
        "    >>> x = [0, 1, 0, 2, 0, 3, 0, 2, 0, 1, 0]\n",
        "    >>> # set minimum peak distance = 2\n",
        "    >>> detect_peaks(x, mpd=2, show=True)\n",
        "\n",
        "    >>> x = np.sin(2*np.pi*5*np.linspace(0, 1, 200)) + np.random.randn(200)/5\n",
        "    >>> # detection of valleys instead of peaks\n",
        "    >>> detect_peaks(x, mph=0, mpd=20, valley=True, show=True)\n",
        "\n",
        "    >>> x = [0, 1, 1, 0, 1, 1, 0]\n",
        "    >>> # detect both edges\n",
        "    >>> detect_peaks(x, edge='both', show=True)\n",
        "\n",
        "    >>> x = [-2, 1, -2, 2, 1, 1, 3, 0]\n",
        "    >>> # set threshold = 2\n",
        "    >>> detect_peaks(x, threshold = 2, show=True)\n",
        "    \"\"\"\n",
        "\n",
        "    x = np.atleast_1d(x).astype('float64')\n",
        "    if x.size < 3:\n",
        "        return np.array([], dtype=int)\n",
        "    if valley:\n",
        "        x = -x\n",
        "    # find indices of all peaks\n",
        "    dx = x[1:] - x[:-1]\n",
        "    # handle NaN's\n",
        "    indnan = np.where(np.isnan(x))[0]\n",
        "    if indnan.size:\n",
        "        x[indnan] = np.inf\n",
        "        dx[np.where(np.isnan(dx))[0]] = np.inf\n",
        "    ine, ire, ife = np.array([[], [], []], dtype=int)\n",
        "    if not edge:\n",
        "        ine = np.where((np.hstack((dx, 0)) < 0) & (np.hstack((0, dx)) > 0))[0]\n",
        "    else:\n",
        "        if edge.lower() in ['rising', 'both']:\n",
        "            ire = np.where((np.hstack((dx, 0)) <= 0) & (np.hstack((0, dx)) > 0))[0]\n",
        "        if edge.lower() in ['falling', 'both']:\n",
        "            ife = np.where((np.hstack((dx, 0)) < 0) & (np.hstack((0, dx)) >= 0))[0]\n",
        "    ind = np.unique(np.hstack((ine, ire, ife)))\n",
        "    # handle NaN's\n",
        "    if ind.size and indnan.size:\n",
        "        # NaN's and values close to NaN's cannot be peaks\n",
        "        ind = ind[np.in1d(ind, np.unique(np.hstack((indnan, indnan-1, indnan+1))), invert=True)]\n",
        "    # first and last values of x cannot be peaks\n",
        "    if ind.size and ind[0] == 0:\n",
        "        ind = ind[1:]\n",
        "    if ind.size and ind[-1] == x.size-1:\n",
        "        ind = ind[:-1]\n",
        "    # remove peaks < minimum peak height\n",
        "    if ind.size and mph is not None:\n",
        "        ind = ind[x[ind] >= mph]\n",
        "    # remove peaks - neighbors < threshold\n",
        "    if ind.size and threshold > 0:\n",
        "        dx = np.min(np.vstack([x[ind]-x[ind-1], x[ind]-x[ind+1]]), axis=0)\n",
        "        ind = np.delete(ind, np.where(dx < threshold)[0])\n",
        "    # detect small peaks closer than minimum peak distance\n",
        "    if ind.size and mpd > 1:\n",
        "        ind = ind[np.argsort(x[ind])][::-1]  # sort ind by peak height\n",
        "        idel = np.zeros(ind.size, dtype=bool)\n",
        "        for i in range(ind.size):\n",
        "            if not idel[i]:\n",
        "                # keep peaks with the same height if kpsh is True\n",
        "                idel = idel | (ind >= ind[i] - mpd) & (ind <= ind[i] + mpd) \\\n",
        "                    & (x[ind[i]] > x[ind] if kpsh else True)\n",
        "                idel[i] = 0  # Keep current peak\n",
        "        # remove the small peaks and sort back the indices by their occurrence\n",
        "        ind = np.sort(ind[~idel])\n",
        "\n",
        "    if show:\n",
        "        if indnan.size:\n",
        "            x[indnan] = np.nan\n",
        "        if valley:\n",
        "            x = -x\n",
        "        _plot(x, mph, mpd, threshold, edge, valley, ax, ind)\n",
        "\n",
        "    return ind"
      ]
    },
    {
      "cell_type": "code",
      "execution_count": null,
      "metadata": {
        "id": "gu1Oav0mWT3x"
      },
      "outputs": [],
      "source": [
        "def get_values(y_values, T, N, f_s):\n",
        "    y_values = y_values\n",
        "    x_values = [(1/f_s) * kk for kk in range(0,len(y_values))]\n",
        "    return x_values, y_values\n",
        "\n",
        "def get_fft_values(y_values, T, N, f_s):\n",
        "    f_values = np.linspace(0.0, 1.0/(2.0*T), N//2)\n",
        "    fft_values_ = fft(y_values)\n",
        "    fft_values = 2.0/N * np.abs(fft_values_[0:N//2])\n",
        "    return f_values, fft_values\n",
        "\n",
        "def get_psd_values(y_values, T, N, f_s):\n",
        "    f_values, psd_values = welch(y_values, fs=f_s)\n",
        "    return f_values, psd_values\n",
        "\n",
        "def autocorr(x):\n",
        "    result = np.correlate(x, x, mode='full')\n",
        "    return result[len(result)//2:]\n",
        "\n",
        "def get_autocorr_values(y_values, T, N, f_s):\n",
        "    autocorr_values = autocorr(y_values)\n",
        "    x_values = np.array([T * jj for jj in range(0, N)])\n",
        "    return x_values, autocorr_values\n",
        "\n",
        "def get_first_n_peaks(x,y,no_peaks=5):\n",
        "    x_, y_ = list(x), list(y)\n",
        "    if len(x_) >= no_peaks:\n",
        "        return x_[:no_peaks], y_[:no_peaks]\n",
        "    else:\n",
        "        missing_no_peaks = no_peaks-len(x_)\n",
        "        return x_ + [0]*missing_no_peaks, y_ + [0]*missing_no_peaks\n",
        "\n",
        "def get_features(x_values, y_values, mph):\n",
        "    indices_peaks = detect_peaks(y_values, mph=mph)\n",
        "    peaks_x, peaks_y = get_first_n_peaks(x_values[indices_peaks], y_values[indices_peaks])\n",
        "    return peaks_x + peaks_y\n"
      ]
    },
    {
      "cell_type": "code",
      "execution_count": null,
      "metadata": {
        "id": "4tUOn5cTs_xi"
      },
      "outputs": [],
      "source": [
        "def extract_features(dataset, T, N, f_s, denominator):\n",
        "    percentile = 5\n",
        "    list_of_features = []\n",
        "    for signal_no in range(0, len(dataset)):\n",
        "      if signal_no % 10000 == 0.0:\n",
        "        print(signal_no)\n",
        "      features = []\n",
        "      id = dataset[signal_no, 0]\n",
        "      label_1 = dataset[signal_no,1]\n",
        "      label_2 = dataset[signal_no,2]\n",
        "      label_3 = dataset[signal_no,3]\n",
        "      label_4 = dataset[signal_no,4]\n",
        "      label_5 = dataset[signal_no,5]\n",
        "      label_6 = dataset[signal_no,6]\n",
        "      label_7 = dataset[signal_no,7]\n",
        "      signal = dataset[signal_no,8]\n",
        "      signal_min = np.nanpercentile(signal, percentile)\n",
        "      signal_max = np.nanpercentile(signal, 100-percentile)\n",
        "      mph = 0\n",
        "      #create features\n",
        "      features += get_features(*get_psd_values(signal, T, N, f_s), mph)\n",
        "      features += get_features(*get_fft_values(signal, T, N, f_s), mph)\n",
        "      features += get_features(*get_autocorr_values(signal, T, N, f_s), mph)\n",
        "      list_of_features.append((label_1, label_2, label_3, label_4, label_5, label_6, label_7, id, features))\n",
        "    return np.vstack(list_of_features)"
      ]
    },
    {
      "cell_type": "code",
      "source": [
        "  N = WIN_SIZE #samples\n",
        "  f_s = 2 #frequency\n",
        "  t_n = 0.5*N\n",
        "  T = t_n / N\n",
        "  sample_rate = 1 / f_s\n",
        "  denominator = 100"
      ],
      "metadata": {
        "id": "HnTeu7H3Ks-a"
      },
      "execution_count": null,
      "outputs": []
    },
    {
      "cell_type": "code",
      "source": [
        "signal_features_1= extract_features(result_np_1, T, N, f_s, denominator)"
      ],
      "metadata": {
        "colab": {
          "base_uri": "https://localhost:8080/"
        },
        "id": "XuK3mUzAKw0_",
        "outputId": "38daff06-7229-48c6-82e3-d1e961b028ad"
      },
      "execution_count": null,
      "outputs": [
        {
          "output_type": "stream",
          "name": "stdout",
          "text": [
            "0\n"
          ]
        },
        {
          "output_type": "stream",
          "name": "stderr",
          "text": [
            "/usr/local/lib/python3.7/dist-packages/scipy/signal/spectral.py:1966: UserWarning: nperseg = 256 is greater than input length  = 239, using nperseg = 239\n",
            "  .format(nperseg, input_length))\n"
          ]
        },
        {
          "output_type": "stream",
          "name": "stdout",
          "text": [
            "10000\n",
            "20000\n",
            "30000\n",
            "40000\n",
            "50000\n",
            "60000\n",
            "70000\n",
            "80000\n",
            "90000\n",
            "100000\n",
            "110000\n",
            "120000\n",
            "130000\n",
            "140000\n",
            "150000\n",
            "160000\n",
            "170000\n",
            "180000\n",
            "190000\n",
            "200000\n",
            "210000\n",
            "220000\n",
            "230000\n",
            "240000\n",
            "250000\n",
            "260000\n",
            "270000\n",
            "280000\n",
            "290000\n",
            "300000\n",
            "310000\n",
            "320000\n",
            "330000\n",
            "340000\n",
            "350000\n",
            "360000\n",
            "370000\n",
            "380000\n",
            "390000\n",
            "400000\n",
            "410000\n",
            "420000\n",
            "430000\n"
          ]
        },
        {
          "output_type": "stream",
          "name": "stderr",
          "text": [
            "/usr/local/lib/python3.7/dist-packages/numpy/core/shape_base.py:121: VisibleDeprecationWarning: Creating an ndarray from ragged nested sequences (which is a list-or-tuple of lists-or-tuples-or ndarrays with different lengths or shapes) is deprecated. If you meant to do this, you must specify 'dtype=object' when creating the ndarray.\n",
            "  ary = asanyarray(ary)\n"
          ]
        }
      ]
    },
    {
      "cell_type": "markdown",
      "metadata": {
        "id": "xdYju3T0U3zs"
      },
      "source": [
        "# RandomForestAlgorithm Rumination"
      ]
    },
    {
      "cell_type": "code",
      "execution_count": null,
      "metadata": {
        "id": "GKVyOQwnw_0I"
      },
      "outputs": [],
      "source": [
        "BEHAVIOUR= 'rumination_video'"
      ]
    },
    {
      "cell_type": "code",
      "source": [
        "X_final = np.stack(signal_features_1[:,8], axis =0)"
      ],
      "metadata": {
        "id": "F-sx9EwN3woU"
      },
      "execution_count": null,
      "outputs": []
    },
    {
      "cell_type": "code",
      "execution_count": null,
      "metadata": {
        "id": "m-WUxDbIt15t"
      },
      "outputs": [],
      "source": [
        "y_final = np.stack(signal_features_1[:,0], axis =0) # BEHAVIOUR_1= 'rumination_video'"
      ]
    },
    {
      "cell_type": "code",
      "execution_count": null,
      "metadata": {
        "id": "lCalRNXaFTEc"
      },
      "outputs": [],
      "source": [
        "# Split dataset into trainingsset (70%) and testset (30%)\n",
        "X_train, X_test, y_train, y_test = train_test_split(X_final, y_final, test_size=0.3, random_state=1)"
      ]
    },
    {
      "cell_type": "markdown",
      "metadata": {
        "id": "AJxQpu8vWp8X"
      },
      "source": [
        "## Test settings Random Forest Algorithm"
      ]
    },
    {
      "cell_type": "markdown",
      "metadata": {
        "id": "uyYDnrCqBXwe"
      },
      "source": [
        "\n",
        "### Test number of trees\n",
        "Adopted from https://medium.com/all-things-ai/in-depth-parameter-tuning-for-random-forest-d67bb7e920d"
      ]
    },
    {
      "cell_type": "code",
      "execution_count": null,
      "metadata": {
        "id": "8cnMf9BfBage",
        "colab": {
          "base_uri": "https://localhost:8080/"
        },
        "outputId": "9b92aea3-acb1-4a79-c2e5-ad0ec8c96def"
      },
      "outputs": [
        {
          "output_type": "stream",
          "name": "stdout",
          "text": [
            "1\n",
            "2\n",
            "4\n",
            "8\n",
            "16\n",
            "32\n",
            "64\n",
            "100\n",
            "200\n"
          ]
        }
      ],
      "source": [
        "n_estimators = [1, 2, 4, 8, 16, 32, 64, 100, 200]\n",
        "train_results = []\n",
        "test_results = []\n",
        "for estimator in n_estimators:\n",
        "   print(estimator)\n",
        "   rf = RandomForestClassifier(n_estimators=estimator, max_features=\"sqrt\")\n",
        "   rf.fit(X_train, y_train)\n",
        "   train_pred = rf.predict(X_train)\n",
        "   false_positive_rate, true_positive_rate, thresholds = roc_curve(y_train, train_pred)\n",
        "   roc_auc = auc(false_positive_rate, true_positive_rate)\n",
        "   train_results.append(roc_auc)\n",
        "   y_pred = rf.predict(X_test)\n",
        "   false_positive_rate, true_positive_rate, thresholds = roc_curve(y_test, y_pred)\n",
        "   roc_auc = auc(false_positive_rate, true_positive_rate)\n",
        "   test_results.append(roc_auc)"
      ]
    },
    {
      "cell_type": "code",
      "source": [
        "from matplotlib.legend_handler import HandlerLine2D\n",
        "line1, = plt.plot(n_estimators, train_results, \"b\", label=\"Train AUC\")\n",
        "line2, = plt.plot(n_estimators, test_results, \"r\", label=\"Test AUC\")\n",
        "plt.legend(handler_map={line1: HandlerLine2D(numpoints=2)})\n",
        "plt.ylabel(\"AUC score\")\n",
        "plt.xlabel(\"n_estimators\")\n",
        "plt.show()"
      ],
      "metadata": {
        "colab": {
          "base_uri": "https://localhost:8080/",
          "height": 280
        },
        "id": "lMOw039ijsdD",
        "outputId": "604dd3e2-26d1-4989-ac54-fe0efffb4e9f"
      },
      "execution_count": null,
      "outputs": [
        {
          "output_type": "display_data",
          "data": {
            "text/plain": [
              "<Figure size 432x288 with 1 Axes>"
            ],
            "image/png": "[encoded data removed]"
          },
          "metadata": {
            "needs_background": "light"
          }
        }
      ]
    },
    {
      "cell_type": "markdown",
      "metadata": {
        "id": "wY-eagU2DICj"
      },
      "source": [
        "### Test max depth"
      ]
    },
    {
      "cell_type": "code",
      "execution_count": null,
      "metadata": {
        "id": "etmoBtlTDJqq",
        "colab": {
          "base_uri": "https://localhost:8080/"
        },
        "outputId": "fcada31a-3506-4531-a86e-8e1b2b6bde4c"
      },
      "outputs": [
        {
          "output_type": "stream",
          "name": "stdout",
          "text": [
            "1.0\n",
            "2.0\n",
            "3.0\n",
            "4.0\n",
            "5.0\n",
            "6.0\n",
            "7.0\n",
            "8.0\n",
            "9.0\n",
            "10.0\n",
            "11.0\n",
            "12.0\n",
            "13.0\n",
            "14.0\n",
            "15.0\n",
            "16.0\n",
            "17.0\n",
            "18.0\n",
            "19.0\n",
            "20.0\n",
            "21.0\n",
            "22.0\n",
            "23.0\n",
            "24.0\n",
            "25.0\n",
            "26.0\n",
            "27.0\n",
            "28.0\n",
            "29.0\n",
            "30.0\n"
          ]
        }
      ],
      "source": [
        "max_depths = np.linspace(1, 30, 30, endpoint=True)\n",
        "train_results = []\n",
        "test_results = []\n",
        "for max_depth in max_depths:\n",
        "   print(max_depth)\n",
        "   rf = RandomForestClassifier(max_depth=max_depth, max_features=\"sqrt\", n_estimators = 20)\n",
        "   rf.fit(X_train, y_train)\n",
        "   train_pred = rf.predict(X_train)\n",
        "   false_positive_rate, true_positive_rate, thresholds = roc_curve(y_train, train_pred)\n",
        "   roc_auc = auc(false_positive_rate, true_positive_rate)\n",
        "   train_results.append(roc_auc)\n",
        "   y_pred = rf.predict(X_test)\n",
        "   false_positive_rate, true_positive_rate, thresholds = roc_curve(y_test, y_pred)\n",
        "   roc_auc = auc(false_positive_rate, true_positive_rate)\n",
        "   test_results.append(roc_auc)"
      ]
    },
    {
      "cell_type": "code",
      "execution_count": null,
      "metadata": {
        "id": "VJbzCX1jDy6r",
        "colab": {
          "base_uri": "https://localhost:8080/",
          "height": 279
        },
        "outputId": "f1f7a25f-7e99-4556-a202-0e4a67a07d52"
      },
      "outputs": [
        {
          "output_type": "display_data",
          "data": {
            "text/plain": [
              "<Figure size 432x288 with 1 Axes>"
            ],
            "image/png": "[encoded data removed]"
          },
          "metadata": {
            "needs_background": "light"
          }
        }
      ],
      "source": [
        "from matplotlib.legend_handler import HandlerLine2D\n",
        "line1, = plt.plot(max_depths, train_results, \"b\", label=\"Train AUC\")\n",
        "line2, = plt.plot(max_depths, test_results, \"r\", label=\"Test AUC\")\n",
        "plt.legend(handler_map={line1: HandlerLine2D(numpoints=2)})\n",
        "plt.ylabel(\"AUC score\")\n",
        "plt.xlabel(\"Tree depth\")\n",
        "plt.show()"
      ]
    },
    {
      "cell_type": "markdown",
      "metadata": {
        "id": "5Fuu1C-sH3ox"
      },
      "source": [
        "## Selected RF\n",
        "From the previous we select settings for our selected RF"
      ]
    },
    {
      "cell_type": "code",
      "execution_count": null,
      "metadata": {
        "id": "SsOXxGkMIHDK"
      },
      "outputs": [],
      "source": [
        "# Random Forest\n",
        "rf = RandomForestClassifier(n_estimators=30, max_depth=30, max_features=\"sqrt\")\n",
        "# Train Decision Tree Classifer\n",
        "rf.fit(X_train,y_train)\n",
        "\n",
        "#Predict the response for test dataset\n",
        "y_pred = rf.predict(X_test)"
      ]
    },
    {
      "cell_type": "markdown",
      "metadata": {
        "id": "fbJp0T8quEle"
      },
      "source": [
        "## Confusion matrix and classification report"
      ]
    },
    {
      "cell_type": "code",
      "source": [
        "### Evaluation\n",
        "print(\"Behaviour: \"+ str(BEHAVIOUR))\n",
        "print (\"Windows_size: \" + str(WIN_SIZE/2) +\" sec \" \"(with overlap: \"+ str(WIN_OVERLAP/2)+ \" sec)\")\n",
        "\n",
        "results = confusion_matrix(y_test,y_pred)\n",
        "\n",
        "print('Confusion Matrix Validation:')\n",
        "print(results)\n",
        "print('Accuracy Score : ', accuracy_score(y_test, y_pred))\n",
        "print('Report : ')\n",
        "print(classification_report(y_test, y_pred))"
      ],
      "metadata": {
        "colab": {
          "base_uri": "https://localhost:8080/"
        },
        "outputId": "3f4c83b5-d862-48d9-91a7-ec675174fd31",
        "id": "NmXcEpqfhsDU"
      },
      "execution_count": null,
      "outputs": [
        {
          "output_type": "stream",
          "name": "stdout",
          "text": [
            "Behaviour: rumination_video\n",
            "Windows_size: 120.0 sec (with overlap: 0.5 sec)\n",
            "Confusion Matrix Validation:\n",
            "[[104822     77]\n",
            " [   927  23452]]\n",
            "Accuracy Score :  0.9922337907455252\n",
            "Report : \n",
            "              precision    recall  f1-score   support\n",
            "\n",
            "           0       0.99      1.00      1.00    104899\n",
            "           1       1.00      0.96      0.98     24379\n",
            "\n",
            "    accuracy                           0.99    129278\n",
            "   macro avg       0.99      0.98      0.99    129278\n",
            "weighted avg       0.99      0.99      0.99    129278\n",
            "\n"
          ]
        }
      ]
    },
    {
      "cell_type": "markdown",
      "metadata": {
        "id": "rgyuCsX-5K6r"
      },
      "source": [
        "##Feature Importances"
      ]
    },
    {
      "cell_type": "code",
      "execution_count": null,
      "metadata": {
        "id": "o75UISZPJfOu",
        "colab": {
          "base_uri": "https://localhost:8080/"
        },
        "outputId": "b1e251b1-e676-44ea-d28b-d7846041ba8a"
      },
      "outputs": [
        {
          "output_type": "stream",
          "name": "stdout",
          "text": [
            "Feature: 0, Score: 0.02060\n",
            "Feature: 1, Score: 0.03040\n",
            "Feature: 2, Score: 0.03202\n",
            "Feature: 3, Score: 0.03409\n",
            "Feature: 4, Score: 0.04025\n",
            "Feature: 5, Score: 0.08351\n",
            "Feature: 6, Score: 0.07227\n",
            "Feature: 7, Score: 0.06754\n",
            "Feature: 8, Score: 0.06528\n",
            "Feature: 9, Score: 0.06539\n",
            "Feature: 10, Score: 0.02346\n",
            "Feature: 11, Score: 0.02872\n",
            "Feature: 12, Score: 0.02925\n",
            "Feature: 13, Score: 0.02895\n",
            "Feature: 14, Score: 0.03403\n",
            "Feature: 15, Score: 0.08225\n",
            "Feature: 16, Score: 0.06921\n",
            "Feature: 17, Score: 0.06450\n",
            "Feature: 18, Score: 0.06520\n",
            "Feature: 19, Score: 0.06307\n",
            "Feature: 20, Score: 0.00000\n",
            "Feature: 21, Score: 0.00000\n",
            "Feature: 22, Score: 0.00000\n",
            "Feature: 23, Score: 0.00000\n",
            "Feature: 24, Score: 0.00000\n",
            "Feature: 25, Score: 0.00000\n",
            "Feature: 26, Score: 0.00000\n",
            "Feature: 27, Score: 0.00000\n",
            "Feature: 28, Score: 0.00000\n",
            "Feature: 29, Score: 0.00000\n"
          ]
        }
      ],
      "source": [
        "# feature importance\n",
        "model = rf\n",
        "importance = model.feature_importances_\n",
        "# summarize feature importance\n",
        "for i,v in enumerate(importance):\n",
        "\tprint('Feature: %0d, Score: %.5f' % (i,v))"
      ]
    },
    {
      "cell_type": "markdown",
      "metadata": {
        "id": "u98YWPj95v3o"
      },
      "source": [
        "# Stratified cross validation rumination"
      ]
    },
    {
      "cell_type": "code",
      "execution_count": null,
      "metadata": {
        "id": "T8ilE754VkTq",
        "colab": {
          "base_uri": "https://localhost:8080/"
        },
        "outputId": "ac1d63a7-d3b0-4c69-f906-68aed97100b5"
      },
      "outputs": [
        {
          "output_type": "stream",
          "name": "stdout",
          "text": [
            "Windows size is 120.0 seconds with overlap 0.5 seconds\n",
            "[[69873    49]\n",
            " [  789 15474]]\n",
            "Accuracy for the fold no. 1 on the test set: 0.9902767302894935\n",
            "Report : \n",
            "              precision    recall  f1-score   support\n",
            "\n",
            "           0       0.99      1.00      0.99     69922\n",
            "           1       1.00      0.95      0.97     16263\n",
            "\n",
            "    accuracy                           0.99     86185\n",
            "   macro avg       0.99      0.98      0.98     86185\n",
            "weighted avg       0.99      0.99      0.99     86185\n",
            "\n",
            "Windows size is 120.0 seconds with overlap 0.5 seconds\n",
            "[[69859    63]\n",
            " [  770 15493]]\n",
            "Accuracy for the fold no. 2 on the test set: 0.9903347450252364\n",
            "Report : \n",
            "              precision    recall  f1-score   support\n",
            "\n",
            "           0       0.99      1.00      0.99     69922\n",
            "           1       1.00      0.95      0.97     16263\n",
            "\n",
            "    accuracy                           0.99     86185\n",
            "   macro avg       0.99      0.98      0.98     86185\n",
            "weighted avg       0.99      0.99      0.99     86185\n",
            "\n",
            "Windows size is 120.0 seconds with overlap 0.5 seconds\n",
            "[[69868    54]\n",
            " [  791 15472]]\n",
            "Accuracy for the fold no. 3 on the test set: 0.9901955096594535\n",
            "Report : \n",
            "              precision    recall  f1-score   support\n",
            "\n",
            "           0       0.99      1.00      0.99     69922\n",
            "           1       1.00      0.95      0.97     16263\n",
            "\n",
            "    accuracy                           0.99     86185\n",
            "   macro avg       0.99      0.98      0.98     86185\n",
            "weighted avg       0.99      0.99      0.99     86185\n",
            "\n",
            "Windows size is 120.0 seconds with overlap 0.5 seconds\n",
            "[[69880    41]\n",
            " [  848 15416]]\n",
            "Accuracy for the fold no. 4 on the test set: 0.9896849799849161\n",
            "Report : \n",
            "              precision    recall  f1-score   support\n",
            "\n",
            "           0       0.99      1.00      0.99     69921\n",
            "           1       1.00      0.95      0.97     16264\n",
            "\n",
            "    accuracy                           0.99     86185\n",
            "   macro avg       0.99      0.97      0.98     86185\n",
            "weighted avg       0.99      0.99      0.99     86185\n",
            "\n",
            "Windows size is 120.0 seconds with overlap 0.5 seconds\n",
            "[[69860    61]\n",
            " [  797 15466]]\n",
            "Accuracy for the fold no. 5 on the test set: 0.9900445558340295\n",
            "Report : \n",
            "              precision    recall  f1-score   support\n",
            "\n",
            "           0       0.99      1.00      0.99     69921\n",
            "           1       1.00      0.95      0.97     16263\n",
            "\n",
            "    accuracy                           0.99     86184\n",
            "   macro avg       0.99      0.98      0.98     86184\n",
            "weighted avg       0.99      0.99      0.99     86184\n",
            "\n"
          ]
        }
      ],
      "source": [
        "from sklearn.model_selection import StratifiedKFold\n",
        "rf = RandomForestClassifier(n_estimators=25, max_depth=25, max_features=\"sqrt\")\n",
        "skf = StratifiedKFold(n_splits=5, random_state=None, shuffle=True)\n",
        "i=1\n",
        "\n",
        "for train_index, test_index in skf.split(X_final, y_final):\n",
        "  X_train, X_test = X_final[train_index], X_final[test_index]\n",
        "  y_train, y_test = y_final[train_index], y_final[test_index]\n",
        "  rf.fit(X_train,y_train)\n",
        "# cross_validate also allows to specify metrics which you want to see\n",
        "  print (\"Windows size is \"+ str(WIN_SIZE/2)+\" seconds with overlap \"+ str(WIN_OVERLAP/2)+ \" seconds\")\n",
        "  print(confusion_matrix(y_test,rf.predict(X_test)))\n",
        "  print(f\"Accuracy for the fold no. {i} on the test set: {accuracy_score(y_test, rf.predict(X_test))}\")\n",
        "  print('Report : ')\n",
        "  print(classification_report(y_test, rf.predict(X_test)))\n",
        "  i += 1"
      ]
    },
    {
      "cell_type": "markdown",
      "metadata": {
        "id": "nNJvh0c25_1p"
      },
      "source": [
        "# Leave-out-one-animal rumination"
      ]
    },
    {
      "cell_type": "code",
      "execution_count": null,
      "metadata": {
        "id": "8TrSfLzaWRI2"
      },
      "outputs": [],
      "source": [
        "# Choose cow to leave out 7; 8; 21; 84.0\n",
        "COW_NUMBER= 21"
      ]
    },
    {
      "cell_type": "code",
      "execution_count": null,
      "metadata": {
        "id": "ylXCsfbD_QIW"
      },
      "outputs": [],
      "source": [
        "# Choose cow to leave out 7; 8; 21; 84.0\n",
        "COW_NUMBER= 7"
      ]
    },
    {
      "cell_type": "code",
      "source": [
        "# Choose cow to leave out 7; 8; 21; 84.0\n",
        "COW_NUMBER= 8"
      ],
      "metadata": {
        "id": "3i-q64WnBEFG"
      },
      "execution_count": null,
      "outputs": []
    },
    {
      "cell_type": "code",
      "source": [
        "# Choose cow to leave out 7; 8; 21; 84.0\n",
        "COW_NUMBER= 25"
      ],
      "metadata": {
        "id": "TL3nm6AbBXKt"
      },
      "execution_count": null,
      "outputs": []
    },
    {
      "cell_type": "code",
      "execution_count": null,
      "metadata": {
        "id": "tHYXhRqQMC6n"
      },
      "outputs": [],
      "source": [
        "def choose_cow_to_leave_out(COW_NUMBER):\n",
        "    result_train = np.stack(signal_features_1[signal_features_1[:,6] != COW_NUMBER], axis =0)\n",
        "    result_test = np.stack(signal_features_1[signal_features_1[:,6] == COW_NUMBER], axis =0)\n",
        "    return result_test, result_train"
      ]
    },
    {
      "cell_type": "code",
      "execution_count": null,
      "metadata": {
        "id": "5qsidGLzPXRA"
      },
      "outputs": [],
      "source": [
        "result_test, result_train = choose_cow_to_leave_out(COW_NUMBER)"
      ]
    },
    {
      "cell_type": "code",
      "execution_count": null,
      "metadata": {
        "id": "d_DKAeBgIomV"
      },
      "outputs": [],
      "source": [
        "#leave one cow out\n",
        "y_train = np.stack(result_train[:,0], axis =0)\n",
        "y_test = np.stack(result_test[:,0], axis =0)\n",
        "X_train = np.stack(result_train[:,8], axis =0)\n",
        "X_test = np.stack(result_test[:,8], axis =0)"
      ]
    },
    {
      "cell_type": "markdown",
      "metadata": {
        "id": "dV5cO0Pj7wnd"
      },
      "source": [
        "##Selected RF"
      ]
    },
    {
      "cell_type": "code",
      "execution_count": null,
      "metadata": {
        "id": "SxTSkv7ldN0G"
      },
      "outputs": [],
      "source": [
        "rf = RandomForestClassifier(n_estimators=30, max_depth=30, max_features=\"sqrt\")\n",
        "rf.fit(X_train,y_train)\n",
        "\n",
        "#Predict the response for test dataset\n",
        "y_pred = rf.predict(X_test)"
      ]
    },
    {
      "cell_type": "markdown",
      "metadata": {
        "id": "5oeCXkcK7dc1"
      },
      "source": [
        "##Confusion matrix and classification report"
      ]
    },
    {
      "cell_type": "code",
      "execution_count": null,
      "metadata": {
        "colab": {
          "base_uri": "https://localhost:8080/"
        },
        "outputId": "d7ad2066-4852-4856-8831-8bcadb74bb35",
        "id": "Vm1rn9LKBKQX"
      },
      "outputs": [
        {
          "output_type": "stream",
          "name": "stdout",
          "text": [
            "Evaluation RF validation with leave out cow_number 25\n",
            "\n",
            "Behaviour: rumination_video\n",
            "Windows_size: 120.0 sec (with overlap: 0.5 sec)\n",
            "Confusion Matrix Validation:\n",
            "[[70204  8985]\n",
            " [10862  4704]]\n",
            "Accuracy Score :  0.7905440346155875\n",
            "Report : \n",
            "              precision    recall  f1-score   support\n",
            "\n",
            "           0       0.87      0.89      0.88     79189\n",
            "           1       0.34      0.30      0.32     15566\n",
            "\n",
            "    accuracy                           0.79     94755\n",
            "   macro avg       0.60      0.59      0.60     94755\n",
            "weighted avg       0.78      0.79      0.79     94755\n",
            "\n"
          ]
        }
      ],
      "source": [
        "# Evaluation\n",
        "print (\"Evaluation RF validation with leave out cow_number \"+ str(COW_NUMBER))\n",
        "print(\"\")\n",
        "print(\"Behaviour: \"+ str(BEHAVIOUR))\n",
        "print (\"Windows_size: \" + str(WIN_SIZE/2) +\" sec \" \"(with overlap: \"+ str(WIN_OVERLAP/2)+ \" sec)\")\n",
        "\n",
        "results = confusion_matrix(y_test,y_pred)\n",
        "\n",
        "print('Confusion Matrix Validation:')\n",
        "print(results)\n",
        "print('Accuracy Score : ', accuracy_score(y_test, y_pred))\n",
        "print('Report : ')\n",
        "print(classification_report(y_test, y_pred))"
      ]
    },
    {
      "cell_type": "code",
      "execution_count": null,
      "metadata": {
        "colab": {
          "base_uri": "https://localhost:8080/"
        },
        "outputId": "26d8fdbc-d2cf-4e08-eb14-98c80844acf3",
        "id": "bihkuNAPBJ0_"
      },
      "outputs": [
        {
          "output_type": "stream",
          "name": "stdout",
          "text": [
            "Evaluation RF validation with leave out cow_number 25\n",
            "\n",
            "Behaviour: rumination_video\n",
            "Windows_size: 120.0 sec (with overlap: 0.5 sec)\n",
            "Confusion Matrix Validation:\n",
            "[[69576  9613]\n",
            " [10574  4992]]\n",
            "Accuracy Score :  0.7869558334652524\n",
            "Report : \n",
            "              precision    recall  f1-score   support\n",
            "\n",
            "           0       0.87      0.88      0.87     79189\n",
            "           1       0.34      0.32      0.33     15566\n",
            "\n",
            "    accuracy                           0.79     94755\n",
            "   macro avg       0.60      0.60      0.60     94755\n",
            "weighted avg       0.78      0.79      0.78     94755\n",
            "\n"
          ]
        }
      ],
      "source": [
        "# Evaluation\n",
        "print (\"Evaluation RF validation with leave out cow_number \"+ str(COW_NUMBER))\n",
        "print(\"\")\n",
        "print(\"Behaviour: \"+ str(BEHAVIOUR))\n",
        "print (\"Windows_size: \" + str(WIN_SIZE/2) +\" sec \" \"(with overlap: \"+ str(WIN_OVERLAP/2)+ \" sec)\")\n",
        "\n",
        "results = confusion_matrix(y_test,y_pred)\n",
        "\n",
        "print('Confusion Matrix Validation:')\n",
        "print(results)\n",
        "print('Accuracy Score : ', accuracy_score(y_test, y_pred))\n",
        "print('Report : ')\n",
        "print(classification_report(y_test, y_pred))"
      ]
    },
    {
      "cell_type": "code",
      "execution_count": null,
      "metadata": {
        "id": "q_R19kwDdiqf",
        "colab": {
          "base_uri": "https://localhost:8080/"
        },
        "outputId": "4c51b8f9-c887-46be-c555-846bd47c6ee4"
      },
      "outputs": [
        {
          "output_type": "stream",
          "name": "stdout",
          "text": [
            "Evaluation RF validation with leave out cow_number 21\n",
            "\n",
            "Behaviour: rumination_video\n",
            "Windows_size: 120.0 sec (with overlap: 0.5 sec)\n",
            "Confusion Matrix Validation:\n",
            "[[78838  7236]\n",
            " [ 7335  1156]]\n",
            "Accuracy Score :  0.8459155078517422\n",
            "Report : \n",
            "              precision    recall  f1-score   support\n",
            "\n",
            "           0       0.91      0.92      0.92     86074\n",
            "           1       0.14      0.14      0.14      8491\n",
            "\n",
            "    accuracy                           0.85     94565\n",
            "   macro avg       0.53      0.53      0.53     94565\n",
            "weighted avg       0.85      0.85      0.85     94565\n",
            "\n"
          ]
        }
      ],
      "source": [
        "# Evaluation\n",
        "print (\"Evaluation RF validation with leave out cow_number \"+ str(COW_NUMBER))\n",
        "print(\"\")\n",
        "print(\"Behaviour: \"+ str(BEHAVIOUR))\n",
        "print (\"Windows_size: \" + str(WIN_SIZE/2) +\" sec \" \"(with overlap: \"+ str(WIN_OVERLAP/2)+ \" sec)\")\n",
        "\n",
        "results = confusion_matrix(y_test,y_pred)\n",
        "\n",
        "print('Confusion Matrix Validation:')\n",
        "print(results)\n",
        "print('Accuracy Score : ', accuracy_score(y_test, y_pred))\n",
        "print('Report : ')\n",
        "print(classification_report(y_test, y_pred))"
      ]
    },
    {
      "cell_type": "code",
      "source": [
        "# Evaluation\n",
        "print (\"Evaluation RF validation with leave out cow_number \"+ str(COW_NUMBER))\n",
        "print(\"\")\n",
        "print(\"Behaviour: \"+ str(BEHAVIOUR))\n",
        "print (\"Windows_size: \" + str(WIN_SIZE/2) +\" sec \" \"(with overlap: \"+ str(WIN_OVERLAP/2)+ \" sec)\")\n",
        "\n",
        "results = confusion_matrix(y_test,y_pred)\n",
        "\n",
        "print('Confusion Matrix Validation:')\n",
        "print(results)\n",
        "print('Accuracy Score : ', accuracy_score(y_test, y_pred))\n",
        "print('Report : ')\n",
        "print(classification_report(y_test, y_pred))"
      ],
      "metadata": {
        "colab": {
          "base_uri": "https://localhost:8080/"
        },
        "id": "3l7VQNj7Aw_V",
        "outputId": "d95c63e8-896a-492d-8adf-2f42054c65fe"
      },
      "execution_count": null,
      "outputs": [
        {
          "output_type": "stream",
          "name": "stdout",
          "text": [
            "Evaluation RF validation with leave out cow_number 7\n",
            "\n",
            "Behaviour: rumination_video\n",
            "Windows_size: 120.0 sec (with overlap: 0.5 sec)\n",
            "Confusion Matrix Validation:\n",
            "[[97183  2704]\n",
            " [29441  5462]]\n",
            "Accuracy Score :  0.7615179167594035\n",
            "Report : \n",
            "              precision    recall  f1-score   support\n",
            "\n",
            "           0       0.77      0.97      0.86     99887\n",
            "           1       0.67      0.16      0.25     34903\n",
            "\n",
            "    accuracy                           0.76    134790\n",
            "   macro avg       0.72      0.56      0.56    134790\n",
            "weighted avg       0.74      0.76      0.70    134790\n",
            "\n"
          ]
        }
      ]
    },
    {
      "cell_type": "markdown",
      "metadata": {
        "id": "FNy2Wygkvbyl"
      },
      "source": [
        "# RandomForestAlgorithm Eating"
      ]
    },
    {
      "cell_type": "code",
      "execution_count": null,
      "metadata": {
        "id": "tKdiPiZSw2pY"
      },
      "outputs": [],
      "source": [
        "BEHAVIOUR='eating'"
      ]
    },
    {
      "cell_type": "code",
      "execution_count": null,
      "metadata": {
        "id": "iKa6UjZtPiYg"
      },
      "outputs": [],
      "source": [
        "y_final = np.stack(signal_features_1[:,1], axis =0) # BEHAVIOUR_2= 'eating_video'"
      ]
    },
    {
      "cell_type": "code",
      "execution_count": null,
      "metadata": {
        "id": "aXSfq-llvbyw"
      },
      "outputs": [],
      "source": [
        "# Split dataset into trainingsset (70%) and testset (30%)\n",
        "X_train, X_test, y_train, y_test = train_test_split(X_final, y_final, test_size=0.3, random_state=1)"
      ]
    },
    {
      "cell_type": "markdown",
      "metadata": {
        "id": "k3jKi-NVvbyx"
      },
      "source": [
        "## Test settings RandomForestAlgorithm"
      ]
    },
    {
      "cell_type": "code",
      "execution_count": null,
      "metadata": {
        "id": "MNeMy-6uvbyy",
        "colab": {
          "base_uri": "https://localhost:8080/"
        },
        "outputId": "51c20332-435b-440e-a8d4-5336105386b0"
      },
      "outputs": [
        {
          "output_type": "stream",
          "name": "stdout",
          "text": [
            "1\n",
            "2\n",
            "4\n",
            "8\n",
            "16\n",
            "32\n",
            "64\n",
            "100\n",
            "200\n"
          ]
        }
      ],
      "source": [
        "n_estimators = [1, 2, 4, 8, 16, 32, 64, 100, 200]\n",
        "train_results = []\n",
        "test_results = []\n",
        "for estimator in n_estimators:\n",
        "   print(estimator)\n",
        "   rf = RandomForestClassifier(n_estimators=estimator, max_features=\"sqrt\")\n",
        "   rf.fit(X_train, y_train)\n",
        "   train_pred = rf.predict(X_train)\n",
        "   false_positive_rate, true_positive_rate, thresholds = roc_curve(y_train, train_pred)\n",
        "   roc_auc = auc(false_positive_rate, true_positive_rate)\n",
        "   train_results.append(roc_auc)\n",
        "   y_pred = rf.predict(X_test)\n",
        "   false_positive_rate, true_positive_rate, thresholds = roc_curve(y_test, y_pred)\n",
        "   roc_auc = auc(false_positive_rate, true_positive_rate)\n",
        "   test_results.append(roc_auc)"
      ]
    },
    {
      "cell_type": "code",
      "execution_count": null,
      "metadata": {
        "id": "_VpPWzWIvby0",
        "colab": {
          "base_uri": "https://localhost:8080/",
          "height": 280
        },
        "outputId": "e9578a9d-130f-4e4b-c7a8-995285218516"
      },
      "outputs": [
        {
          "output_type": "display_data",
          "data": {
            "text/plain": [
              "<Figure size 432x288 with 1 Axes>"
            ],
            "image/png": "[encoded data removed]"
          },
          "metadata": {
            "needs_background": "light"
          }
        }
      ],
      "source": [
        "from matplotlib.legend_handler import HandlerLine2D\n",
        "line1, = plt.plot(n_estimators, train_results, \"b\", label=\"Train AUC\")\n",
        "line2, = plt.plot(n_estimators, test_results, \"r\", label=\"Test AUC\")\n",
        "plt.legend(handler_map={line1: HandlerLine2D(numpoints=2)})\n",
        "plt.ylabel(\"AUC score\")\n",
        "plt.xlabel(\"n_estimators\")\n",
        "plt.show()"
      ]
    },
    {
      "cell_type": "markdown",
      "metadata": {
        "id": "g3I6meg_vby1"
      },
      "source": [
        "### Test max depth"
      ]
    },
    {
      "cell_type": "code",
      "execution_count": null,
      "metadata": {
        "id": "zVLnZTC-vby2",
        "colab": {
          "base_uri": "https://localhost:8080/"
        },
        "outputId": "fb2d928f-0d07-41a4-b4be-1ac862ed1ea7"
      },
      "outputs": [
        {
          "output_type": "stream",
          "name": "stdout",
          "text": [
            "1.0\n",
            "2.0\n",
            "3.0\n",
            "4.0\n",
            "5.0\n",
            "6.0\n",
            "7.0\n",
            "8.0\n",
            "9.0\n",
            "10.0\n",
            "11.0\n",
            "12.0\n",
            "13.0\n",
            "14.0\n",
            "15.0\n",
            "16.0\n",
            "17.0\n",
            "18.0\n",
            "19.0\n",
            "20.0\n",
            "21.0\n",
            "22.0\n",
            "23.0\n",
            "24.0\n",
            "25.0\n",
            "26.0\n",
            "27.0\n",
            "28.0\n",
            "29.0\n",
            "30.0\n",
            "31.0\n",
            "32.0\n"
          ]
        }
      ],
      "source": [
        "max_depths = np.linspace(1, 32, 32, endpoint=True)\n",
        "train_results = []\n",
        "test_results = []\n",
        "for max_depth in max_depths:\n",
        "   print(max_depth)\n",
        "   rf = RandomForestClassifier(max_depth=max_depth, max_features=\"sqrt\", n_estimators = 50)\n",
        "   rf.fit(X_train, y_train)\n",
        "   train_pred = rf.predict(X_train)\n",
        "   false_positive_rate, true_positive_rate, thresholds = roc_curve(y_train, train_pred)\n",
        "   roc_auc = auc(false_positive_rate, true_positive_rate)\n",
        "   train_results.append(roc_auc)\n",
        "   y_pred = rf.predict(X_test)\n",
        "   false_positive_rate, true_positive_rate, thresholds = roc_curve(y_test, y_pred)\n",
        "   roc_auc = auc(false_positive_rate, true_positive_rate)\n",
        "   test_results.append(roc_auc)"
      ]
    },
    {
      "cell_type": "code",
      "execution_count": null,
      "metadata": {
        "id": "sN-ePEulvby2",
        "colab": {
          "base_uri": "https://localhost:8080/",
          "height": 279
        },
        "outputId": "1c35c213-55a2-4447-8c19-974abbe48a7d"
      },
      "outputs": [
        {
          "output_type": "display_data",
          "data": {
            "text/plain": [
              "<Figure size 432x288 with 1 Axes>"
            ],
            "image/png": "[encoded data removed]"
          },
          "metadata": {
            "needs_background": "light"
          }
        }
      ],
      "source": [
        "from matplotlib.legend_handler import HandlerLine2D\n",
        "line1, = plt.plot(max_depths, train_results, \"b\", label=\"Train AUC\")\n",
        "line2, = plt.plot(max_depths, test_results, \"r\", label=\"Test AUC\")\n",
        "plt.legend(handler_map={line1: HandlerLine2D(numpoints=2)})\n",
        "plt.ylabel(\"AUC score\")\n",
        "plt.xlabel(\"Tree depth\")\n",
        "plt.show()"
      ]
    },
    {
      "cell_type": "markdown",
      "metadata": {
        "id": "1M4I9DMPvby3"
      },
      "source": [
        "## Selected RF\n",
        "From the previous we select settings for our selected RF"
      ]
    },
    {
      "cell_type": "code",
      "execution_count": null,
      "metadata": {
        "id": "ZoqVh_F_vby3"
      },
      "outputs": [],
      "source": [
        "# Random Forest\n",
        "rf = RandomForestClassifier(n_estimators=40, max_depth=25, max_features=\"sqrt\")\n",
        "# Train Decision Tree Classifer\n",
        "rf.fit(X_train,y_train)\n",
        "\n",
        "#Predict the response for test dataset\n",
        "y_pred = rf.predict(X_test)"
      ]
    },
    {
      "cell_type": "markdown",
      "metadata": {
        "id": "-KCF7N0Ivby4"
      },
      "source": [
        "## Confusion matrix and classification report"
      ]
    },
    {
      "cell_type": "code",
      "execution_count": null,
      "metadata": {
        "id": "VwXVge1nvby4",
        "colab": {
          "base_uri": "https://localhost:8080/"
        },
        "outputId": "1ba5c388-91c7-4297-81bc-20051bf8f2d1"
      },
      "outputs": [
        {
          "output_type": "stream",
          "name": "stdout",
          "text": [
            "Behaviour: eating\n",
            "Windows_size: 120.0 sec (with overlap: 0.5 sec)\n",
            "Confusion Matrix Validation:\n",
            "[[94810   197]\n",
            " [ 1872 32399]]\n",
            "Accuracy Score :  0.9839957301319637\n",
            "Report : \n",
            "              precision    recall  f1-score   support\n",
            "\n",
            "           0       0.98      1.00      0.99     95007\n",
            "           1       0.99      0.95      0.97     34271\n",
            "\n",
            "    accuracy                           0.98    129278\n",
            "   macro avg       0.99      0.97      0.98    129278\n",
            "weighted avg       0.98      0.98      0.98    129278\n",
            "\n"
          ]
        }
      ],
      "source": [
        "### Evaluation\n",
        "print(\"Behaviour: \"+ str(BEHAVIOUR))\n",
        "print (\"Windows_size: \" + str(WIN_SIZE/2) +\" sec \" \"(with overlap: \"+ str(WIN_OVERLAP/2)+ \" sec)\")\n",
        "\n",
        "results = confusion_matrix(y_test,y_pred)\n",
        "\n",
        "print('Confusion Matrix Validation:')\n",
        "print(results)\n",
        "print('Accuracy Score : ', accuracy_score(y_test, y_pred))\n",
        "print('Report : ')\n",
        "print(classification_report(y_test, y_pred))"
      ]
    },
    {
      "cell_type": "markdown",
      "metadata": {
        "id": "nzu-L5Ta5YNy"
      },
      "source": [
        "##Feature importances"
      ]
    },
    {
      "cell_type": "code",
      "execution_count": null,
      "metadata": {
        "id": "QP2iuIoJvby5",
        "colab": {
          "base_uri": "https://localhost:8080/"
        },
        "outputId": "444088dc-7d8e-4cbf-e616-d10553d90198"
      },
      "outputs": [
        {
          "output_type": "stream",
          "name": "stdout",
          "text": [
            "Feature: 0, Score: 0.02046\n",
            "Feature: 1, Score: 0.03013\n",
            "Feature: 2, Score: 0.03189\n",
            "Feature: 3, Score: 0.03386\n",
            "Feature: 4, Score: 0.04063\n",
            "Feature: 5, Score: 0.08446\n",
            "Feature: 6, Score: 0.07268\n",
            "Feature: 7, Score: 0.06740\n",
            "Feature: 8, Score: 0.06580\n",
            "Feature: 9, Score: 0.06534\n",
            "Feature: 10, Score: 0.02449\n",
            "Feature: 11, Score: 0.02755\n",
            "Feature: 12, Score: 0.02978\n",
            "Feature: 13, Score: 0.02947\n",
            "Feature: 14, Score: 0.03364\n",
            "Feature: 15, Score: 0.08171\n",
            "Feature: 16, Score: 0.06800\n",
            "Feature: 17, Score: 0.06569\n",
            "Feature: 18, Score: 0.06516\n",
            "Feature: 19, Score: 0.06185\n",
            "Feature: 20, Score: 0.00000\n",
            "Feature: 21, Score: 0.00000\n",
            "Feature: 22, Score: 0.00000\n",
            "Feature: 23, Score: 0.00000\n",
            "Feature: 24, Score: 0.00000\n",
            "Feature: 25, Score: 0.00000\n",
            "Feature: 26, Score: 0.00000\n",
            "Feature: 27, Score: 0.00000\n",
            "Feature: 28, Score: 0.00000\n",
            "Feature: 29, Score: 0.00000\n"
          ]
        }
      ],
      "source": [
        "# feature importance\n",
        "model = rf\n",
        "importance = model.feature_importances_\n",
        "# summarize feature importance\n",
        "for i,v in enumerate(importance):\n",
        "\tprint('Feature: %0d, Score: %.5f' % (i,v))"
      ]
    },
    {
      "cell_type": "markdown",
      "metadata": {
        "id": "qpozfboOB5Rj"
      },
      "source": [
        "# RandomForestAlgorithm Resting"
      ]
    },
    {
      "cell_type": "code",
      "execution_count": null,
      "metadata": {
        "id": "t7NJuxFoB5Rj"
      },
      "outputs": [],
      "source": [
        "BEHAVIOUR='resting'"
      ]
    },
    {
      "cell_type": "code",
      "execution_count": null,
      "metadata": {
        "id": "01BPbs5zB5Rj"
      },
      "outputs": [],
      "source": [
        "y_final = np.stack(signal_features_1[:,6], axis =0) # BEHAVIOUR_7= 'resting_video'"
      ]
    },
    {
      "cell_type": "code",
      "execution_count": null,
      "metadata": {
        "id": "-x3N1cLKB5Rj"
      },
      "outputs": [],
      "source": [
        "# Split dataset into trainingsset (70%) and testset (30%)\n",
        "X_train, X_test, y_train, y_test = train_test_split(X_final, y_final, test_size=0.3, random_state=1)"
      ]
    },
    {
      "cell_type": "markdown",
      "metadata": {
        "id": "o6qGxacCB5Rj"
      },
      "source": [
        "## Test settings RandomForestAlgorithm"
      ]
    },
    {
      "cell_type": "code",
      "execution_count": null,
      "metadata": {
        "colab": {
          "base_uri": "https://localhost:8080/"
        },
        "outputId": "89aaf4c2-9fc5-42a4-ab18-affc8d18e90b",
        "id": "v4wVTyCQB5Rj"
      },
      "outputs": [
        {
          "output_type": "stream",
          "name": "stdout",
          "text": [
            "1\n",
            "2\n",
            "4\n",
            "8\n",
            "16\n",
            "32\n",
            "64\n",
            "100\n",
            "200\n"
          ]
        }
      ],
      "source": [
        "n_estimators = [1, 2, 4, 8, 16, 32, 64, 100, 200]\n",
        "train_results = []\n",
        "test_results = []\n",
        "for estimator in n_estimators:\n",
        "   print(estimator)\n",
        "   rf = RandomForestClassifier(n_estimators=estimator, max_features=\"sqrt\")\n",
        "   rf.fit(X_train, y_train)\n",
        "   train_pred = rf.predict(X_train)\n",
        "   false_positive_rate, true_positive_rate, thresholds = roc_curve(y_train, train_pred)\n",
        "   roc_auc = auc(false_positive_rate, true_positive_rate)\n",
        "   train_results.append(roc_auc)\n",
        "   y_pred = rf.predict(X_test)\n",
        "   false_positive_rate, true_positive_rate, thresholds = roc_curve(y_test, y_pred)\n",
        "   roc_auc = auc(false_positive_rate, true_positive_rate)\n",
        "   test_results.append(roc_auc)"
      ]
    },
    {
      "cell_type": "code",
      "execution_count": null,
      "metadata": {
        "colab": {
          "base_uri": "https://localhost:8080/",
          "height": 280
        },
        "outputId": "d915b7c5-c04a-44a6-e195-1be39c208940",
        "id": "IphlpOBCB5Rk"
      },
      "outputs": [
        {
          "output_type": "display_data",
          "data": {
            "text/plain": [
              "<Figure size 432x288 with 1 Axes>"
            ],
            "image/png": "[encoded data removed]"
          },
          "metadata": {
            "needs_background": "light"
          }
        }
      ],
      "source": [
        "from matplotlib.legend_handler import HandlerLine2D\n",
        "line1, = plt.plot(n_estimators, train_results, \"b\", label=\"Train AUC\")\n",
        "line2, = plt.plot(n_estimators, test_results, \"r\", label=\"Test AUC\")\n",
        "plt.legend(handler_map={line1: HandlerLine2D(numpoints=2)})\n",
        "plt.ylabel(\"AUC score\")\n",
        "plt.xlabel(\"n_estimators\")\n",
        "plt.show()"
      ]
    },
    {
      "cell_type": "markdown",
      "metadata": {
        "id": "7Ey57_AoB5Rk"
      },
      "source": [
        "### Test max depth"
      ]
    },
    {
      "cell_type": "code",
      "execution_count": null,
      "metadata": {
        "colab": {
          "base_uri": "https://localhost:8080/"
        },
        "outputId": "e2873673-4d80-4737-d2a3-81ab5a2fc395",
        "id": "frtdWgtPB5Rk"
      },
      "outputs": [
        {
          "output_type": "stream",
          "name": "stdout",
          "text": [
            "1.0\n",
            "2.0\n",
            "3.0\n",
            "4.0\n",
            "5.0\n",
            "6.0\n",
            "7.0\n",
            "8.0\n",
            "9.0\n",
            "10.0\n",
            "11.0\n",
            "12.0\n",
            "13.0\n",
            "14.0\n",
            "15.0\n",
            "16.0\n",
            "17.0\n",
            "18.0\n",
            "19.0\n",
            "20.0\n",
            "21.0\n",
            "22.0\n",
            "23.0\n",
            "24.0\n",
            "25.0\n",
            "26.0\n",
            "27.0\n",
            "28.0\n",
            "29.0\n",
            "30.0\n",
            "31.0\n",
            "32.0\n"
          ]
        }
      ],
      "source": [
        "max_depths = np.linspace(1, 32, 32, endpoint=True)\n",
        "train_results = []\n",
        "test_results = []\n",
        "for max_depth in max_depths:\n",
        "   print(max_depth)\n",
        "   rf = RandomForestClassifier(max_depth=max_depth, max_features=\"sqrt\", n_estimators = 50)\n",
        "   rf.fit(X_train, y_train)\n",
        "   train_pred = rf.predict(X_train)\n",
        "   false_positive_rate, true_positive_rate, thresholds = roc_curve(y_train, train_pred)\n",
        "   roc_auc = auc(false_positive_rate, true_positive_rate)\n",
        "   train_results.append(roc_auc)\n",
        "   y_pred = rf.predict(X_test)\n",
        "   false_positive_rate, true_positive_rate, thresholds = roc_curve(y_test, y_pred)\n",
        "   roc_auc = auc(false_positive_rate, true_positive_rate)\n",
        "   test_results.append(roc_auc)"
      ]
    },
    {
      "cell_type": "code",
      "execution_count": null,
      "metadata": {
        "colab": {
          "base_uri": "https://localhost:8080/",
          "height": 279
        },
        "outputId": "208ff3d0-f168-495d-9e41-55581c7aa067",
        "id": "meSI9NYlB5Rk"
      },
      "outputs": [
        {
          "output_type": "display_data",
          "data": {
            "text/plain": [
              "<Figure size 432x288 with 1 Axes>"
            ],
            "image/png": "[encoded data removed]"
          },
          "metadata": {
            "needs_background": "light"
          }
        }
      ],
      "source": [
        "from matplotlib.legend_handler import HandlerLine2D\n",
        "line1, = plt.plot(max_depths, train_results, \"b\", label=\"Train AUC\")\n",
        "line2, = plt.plot(max_depths, test_results, \"r\", label=\"Test AUC\")\n",
        "plt.legend(handler_map={line1: HandlerLine2D(numpoints=2)})\n",
        "plt.ylabel(\"AUC score\")\n",
        "plt.xlabel(\"Tree depth\")\n",
        "plt.show()"
      ]
    },
    {
      "cell_type": "markdown",
      "metadata": {
        "id": "hCbNJylaB5Rk"
      },
      "source": [
        "## Selected RF\n",
        "From the previous we select settings for our selected RF"
      ]
    },
    {
      "cell_type": "code",
      "execution_count": null,
      "metadata": {
        "id": "BtzglhO8B5Rk"
      },
      "outputs": [],
      "source": [
        "# Random Forest\n",
        "rf = RandomForestClassifier(n_estimators=50, max_depth=25, max_features=\"sqrt\")\n",
        "# Train Decision Tree Classifer\n",
        "rf.fit(X_train,y_train)\n",
        "\n",
        "#Predict the response for test dataset\n",
        "y_pred = rf.predict(X_test)"
      ]
    },
    {
      "cell_type": "markdown",
      "metadata": {
        "id": "RrQrGCzRB5Rk"
      },
      "source": [
        "## Confusion matrix and classification report"
      ]
    },
    {
      "cell_type": "code",
      "execution_count": null,
      "metadata": {
        "colab": {
          "base_uri": "https://localhost:8080/"
        },
        "outputId": "3d62e702-2ce4-4a3a-d429-bf4adf3db446",
        "id": "eOr6K2_EB5Rl"
      },
      "outputs": [
        {
          "output_type": "stream",
          "name": "stdout",
          "text": [
            "Behaviour: rumination_video\n",
            "Windows_size: 120.0 sec (with overlap: 0.5 sec)\n",
            "Confusion Matrix Validation:\n",
            "[[64154  1393]\n",
            " [ 1178 62553]]\n",
            "Accuracy Score :  0.9801126255047262\n",
            "Report : \n",
            "              precision    recall  f1-score   support\n",
            "\n",
            "           0       0.98      0.98      0.98     65547\n",
            "           1       0.98      0.98      0.98     63731\n",
            "\n",
            "    accuracy                           0.98    129278\n",
            "   macro avg       0.98      0.98      0.98    129278\n",
            "weighted avg       0.98      0.98      0.98    129278\n",
            "\n"
          ]
        }
      ],
      "source": [
        "### Evaluation\n",
        "print(\"Behaviour: \"+ str(BEHAVIOUR))\n",
        "print (\"Windows_size: \" + str(WIN_SIZE/2) +\" sec \" \"(with overlap: \"+ str(WIN_OVERLAP/2)+ \" sec)\")\n",
        "\n",
        "results = confusion_matrix(y_test,y_pred)\n",
        "\n",
        "print('Confusion Matrix Validation:')\n",
        "print(results)\n",
        "print('Accuracy Score : ', accuracy_score(y_test, y_pred))\n",
        "print('Report : ')\n",
        "print(classification_report(y_test, y_pred))"
      ]
    },
    {
      "cell_type": "markdown",
      "metadata": {
        "id": "b-J7V_EyB5Rl"
      },
      "source": [
        "##Feature importances"
      ]
    },
    {
      "cell_type": "code",
      "execution_count": null,
      "metadata": {
        "colab": {
          "base_uri": "https://localhost:8080/"
        },
        "outputId": "444088dc-7d8e-4cbf-e616-d10553d90198",
        "id": "E14e-rkyB5Rl"
      },
      "outputs": [
        {
          "output_type": "stream",
          "name": "stdout",
          "text": [
            "Feature: 0, Score: 0.02046\n",
            "Feature: 1, Score: 0.03013\n",
            "Feature: 2, Score: 0.03189\n",
            "Feature: 3, Score: 0.03386\n",
            "Feature: 4, Score: 0.04063\n",
            "Feature: 5, Score: 0.08446\n",
            "Feature: 6, Score: 0.07268\n",
            "Feature: 7, Score: 0.06740\n",
            "Feature: 8, Score: 0.06580\n",
            "Feature: 9, Score: 0.06534\n",
            "Feature: 10, Score: 0.02449\n",
            "Feature: 11, Score: 0.02755\n",
            "Feature: 12, Score: 0.02978\n",
            "Feature: 13, Score: 0.02947\n",
            "Feature: 14, Score: 0.03364\n",
            "Feature: 15, Score: 0.08171\n",
            "Feature: 16, Score: 0.06800\n",
            "Feature: 17, Score: 0.06569\n",
            "Feature: 18, Score: 0.06516\n",
            "Feature: 19, Score: 0.06185\n",
            "Feature: 20, Score: 0.00000\n",
            "Feature: 21, Score: 0.00000\n",
            "Feature: 22, Score: 0.00000\n",
            "Feature: 23, Score: 0.00000\n",
            "Feature: 24, Score: 0.00000\n",
            "Feature: 25, Score: 0.00000\n",
            "Feature: 26, Score: 0.00000\n",
            "Feature: 27, Score: 0.00000\n",
            "Feature: 28, Score: 0.00000\n",
            "Feature: 29, Score: 0.00000\n"
          ]
        }
      ],
      "source": [
        "# feature importance\n",
        "model = rf\n",
        "importance = model.feature_importances_\n",
        "# summarize feature importance\n",
        "for i,v in enumerate(importance):\n",
        "\tprint('Feature: %0d, Score: %.5f' % (i,v))"
      ]
    },
    {
      "cell_type": "markdown",
      "metadata": {
        "id": "kgoiE-PcuE7Q"
      },
      "source": [
        "# RandomForestAlgorithm Mooing"
      ]
    },
    {
      "cell_type": "code",
      "source": [
        "BEHAVIOUR_1= 'rumination_video'\n",
        "BEHAVIOUR_2= 'eating_video'\n",
        "BEHAVIOUR_3= 'drinking_video'\n",
        "BEHAVIOUR_4= 'sleeping_video'\n",
        "BEHAVIOUR_5= 'urinating_video'\n",
        "BEHAVIOUR_6= 'mooing_video'\n",
        "BEHAVIOUR_7= 'resting_video'"
      ],
      "metadata": {
        "id": "GyV1zTcSuhsq"
      },
      "execution_count": null,
      "outputs": []
    },
    {
      "cell_type": "code",
      "execution_count": null,
      "metadata": {
        "id": "v2Ny9xXvuE7Q"
      },
      "outputs": [],
      "source": [
        "BEHAVIOUR='mooing'"
      ]
    },
    {
      "cell_type": "code",
      "execution_count": null,
      "metadata": {
        "id": "wQ1OzNkMuE7Q"
      },
      "outputs": [],
      "source": [
        "y_final = np.stack(signal_features_1[:,5], axis =0) # BEHAVIOUR_5= 'mooing_video'"
      ]
    },
    {
      "cell_type": "code",
      "execution_count": null,
      "metadata": {
        "id": "CBuKdCoG9OHu"
      },
      "outputs": [],
      "source": [
        "# Split dataset into trainingsset (70%) and testset (30%)\n",
        "X_train, X_test, y_train, y_test = train_test_split(X_final, y_final, test_size=0.3, random_state=1)"
      ]
    },
    {
      "cell_type": "markdown",
      "source": [
        "#Up and downsampling"
      ],
      "metadata": {
        "id": "vEFxVd2O9U-N"
      }
    },
    {
      "cell_type": "code",
      "execution_count": null,
      "metadata": {
        "id": "zHa5cLkWtNlT"
      },
      "outputs": [],
      "source": [
        "bool_minority_labels  = y_final != 0"
      ]
    },
    {
      "cell_type": "code",
      "execution_count": null,
      "metadata": {
        "id": "6y1WDHvdgJ_m"
      },
      "outputs": [],
      "source": [
        "min_features = X_final[bool_minority_labels]\n",
        "maj_features = X_final[~bool_minority_labels]\n",
        "\n",
        "min_labels = y_final[bool_minority_labels]\n",
        "maj_labels = y_final[~bool_minority_labels]"
      ]
    },
    {
      "cell_type": "markdown",
      "metadata": {
        "id": "werDvCiBqkUe"
      },
      "source": [
        "Split the minority class in 70 30 to have more in train set"
      ]
    },
    {
      "cell_type": "code",
      "execution_count": null,
      "metadata": {
        "id": "q_BAylPThKC4"
      },
      "outputs": [],
      "source": [
        "# Split minority dataset into training set and test set\n",
        "X_min_train, X_min_test, y_min_train, y_min_test = train_test_split(min_features, min_labels, test_size=0.3, random_state=1) # 70% training and 30% test"
      ]
    },
    {
      "cell_type": "markdown",
      "metadata": {
        "id": "ivrXT7qZqeDf"
      },
      "source": [
        "Split the majority class in 50 50 so we can sample from independant sets"
      ]
    },
    {
      "cell_type": "code",
      "execution_count": null,
      "metadata": {
        "id": "zKSNgT5dlbIj"
      },
      "outputs": [],
      "source": [
        "# Split minority dataset into training set and test set\n",
        "X_maj_train, X_maj_test, y_maj_train, y_maj_test = train_test_split(maj_features, maj_labels, test_size=0.5, random_state=1) # 50% training and 50% test"
      ]
    },
    {
      "cell_type": "markdown",
      "metadata": {
        "id": "mE0TKvl9pOp1"
      },
      "source": [
        "## Create train set"
      ]
    },
    {
      "cell_type": "markdown",
      "metadata": {
        "id": "37WUaiaQqrCY"
      },
      "source": [
        "Upsample the amount of minority features and labels 3 times (why 3, no idea, feels that this will create enough labels)"
      ]
    },
    {
      "cell_type": "code",
      "execution_count": null,
      "metadata": {
        "id": "wTj2Qm65hdjf"
      },
      "outputs": [],
      "source": [
        "upsampled_X_min_train = np.concatenate([X_min_train, X_min_train, X_min_train], axis=0)\n",
        "upsampled_y_min_train = np.concatenate([y_min_train, y_min_train, y_min_train], axis=0)"
      ]
    },
    {
      "cell_type": "markdown",
      "metadata": {
        "id": "tM6-s1RKq4ud"
      },
      "source": [
        "Downsample from 50% of the majority class to have same amount of samples"
      ]
    },
    {
      "cell_type": "code",
      "execution_count": null,
      "metadata": {
        "id": "jGJqS34NVyHu",
        "colab": {
          "base_uri": "https://localhost:8080/"
        },
        "outputId": "cba49b0a-f05c-4667-8338-6967165f9c68"
      },
      "outputs": [
        {
          "output_type": "execute_result",
          "data": {
            "text/plain": [
              "(6648, 30)"
            ]
          },
          "metadata": {},
          "execution_count": 48
        }
      ],
      "source": [
        "ids = np.arange(len(X_maj_train))\n",
        "choices = np.random.choice(ids, len(upsampled_X_min_train))\n",
        "\n",
        "res_maj_train_features = X_maj_train[choices]\n",
        "res_maj_train_labels = y_maj_train[choices]\n",
        "\n",
        "res_maj_train_features.shape"
      ]
    },
    {
      "cell_type": "markdown",
      "metadata": {
        "id": "iuBy9-Phq-zG"
      },
      "source": [
        "Concat together"
      ]
    },
    {
      "cell_type": "code",
      "execution_count": null,
      "metadata": {
        "id": "GcCAIqLyjawS"
      },
      "outputs": [],
      "source": [
        "resampled_train_features = np.concatenate([upsampled_X_min_train, res_maj_train_features], axis=0)\n",
        "resampled_train_labels = np.concatenate([upsampled_y_min_train, res_maj_train_labels], axis=0)"
      ]
    },
    {
      "cell_type": "markdown",
      "metadata": {
        "id": "CmjdRO7drARg"
      },
      "source": [
        "Shuffle"
      ]
    },
    {
      "cell_type": "code",
      "execution_count": null,
      "metadata": {
        "id": "QxcQJzutpCVw"
      },
      "outputs": [],
      "source": [
        "order = np.arange(len(resampled_train_labels))\n",
        "np.random.shuffle(order)\n",
        "resampled_train_features = resampled_train_features[order]\n",
        "resampled_train_labels = resampled_train_labels[order]"
      ]
    },
    {
      "cell_type": "markdown",
      "metadata": {
        "id": "sClNWtnVpReY"
      },
      "source": [
        "## Create test set"
      ]
    },
    {
      "cell_type": "markdown",
      "metadata": {
        "id": "5MNzyY8SrCSd"
      },
      "source": [
        "We start from the X_min_test"
      ]
    },
    {
      "cell_type": "markdown",
      "metadata": {
        "id": "vqxhKTzgrGZG"
      },
      "source": [
        "And downsample the remaining part of the majority class which we didn't use so far"
      ]
    },
    {
      "cell_type": "code",
      "execution_count": null,
      "metadata": {
        "id": "vhBQR5fEpUB3"
      },
      "outputs": [],
      "source": [
        "ids = np.arange(len(X_maj_test))\n",
        "choices = np.random.choice(ids, len(X_min_test))\n",
        "\n",
        "res_maj_test_features = X_maj_test[choices]\n",
        "res_maj_test_labels = y_maj_test[choices]\n"
      ]
    },
    {
      "cell_type": "markdown",
      "metadata": {
        "id": "pNfZ_OiyrMrA"
      },
      "source": [
        "Concat"
      ]
    },
    {
      "cell_type": "code",
      "execution_count": null,
      "metadata": {
        "id": "vHLqu9Ysp-Hw"
      },
      "outputs": [],
      "source": [
        "resampled_test_features = np.concatenate([X_min_test, res_maj_test_features], axis=0)\n",
        "resampled_test_labels = np.concatenate([y_min_test, res_maj_test_labels], axis=0)"
      ]
    },
    {
      "cell_type": "markdown",
      "metadata": {
        "id": "gi7AxlElrNfX"
      },
      "source": [
        "Shuffle"
      ]
    },
    {
      "cell_type": "code",
      "execution_count": null,
      "metadata": {
        "id": "BYtInbNmp_U3"
      },
      "outputs": [],
      "source": [
        "order = np.arange(len(resampled_test_labels))\n",
        "np.random.shuffle(order)\n",
        "resampled_test_features = resampled_test_features[order]\n",
        "resampled_test_labels = resampled_test_labels[order]"
      ]
    },
    {
      "cell_type": "code",
      "execution_count": null,
      "metadata": {
        "id": "-ZHJ_d8-01wM"
      },
      "outputs": [],
      "source": [
        "X_train= resampled_train_features\n",
        "y_train= resampled_train_labels\n",
        "X_test=  resampled_test_features\n",
        "y_test=  resampled_test_labels"
      ]
    },
    {
      "cell_type": "markdown",
      "metadata": {
        "id": "9_yfIsBRu54S"
      },
      "source": [
        "## Test settings RandomForestAlgorithm"
      ]
    },
    {
      "cell_type": "code",
      "execution_count": null,
      "metadata": {
        "id": "BgiPMipCu54T",
        "colab": {
          "base_uri": "https://localhost:8080/"
        },
        "outputId": "a9e63ac6-56eb-45ec-e238-f9d53e7f9ab0"
      },
      "outputs": [
        {
          "output_type": "stream",
          "name": "stdout",
          "text": [
            "1\n",
            "2\n",
            "4\n",
            "8\n",
            "16\n",
            "32\n",
            "64\n",
            "100\n",
            "200\n"
          ]
        }
      ],
      "source": [
        "n_estimators = [1, 2, 4, 8, 16, 32, 64, 100, 200]\n",
        "train_results = []\n",
        "test_results = []\n",
        "for estimator in n_estimators:\n",
        "   print(estimator)\n",
        "   rf = RandomForestClassifier(n_estimators=estimator, max_features=\"sqrt\")\n",
        "   rf.fit(X_train, y_train)\n",
        "   train_pred = rf.predict(X_train)\n",
        "   false_positive_rate, true_positive_rate, thresholds = roc_curve(y_train, train_pred)\n",
        "   roc_auc = auc(false_positive_rate, true_positive_rate)\n",
        "   train_results.append(roc_auc)\n",
        "   y_pred = rf.predict(X_test)\n",
        "   false_positive_rate, true_positive_rate, thresholds = roc_curve(y_test, y_pred)\n",
        "   roc_auc = auc(false_positive_rate, true_positive_rate)\n",
        "   test_results.append(roc_auc)"
      ]
    },
    {
      "cell_type": "code",
      "execution_count": null,
      "metadata": {
        "id": "A1ZAev21u54U",
        "colab": {
          "base_uri": "https://localhost:8080/",
          "height": 280
        },
        "outputId": "c64e1c5d-2e19-4af9-a2be-12754091c535"
      },
      "outputs": [
        {
          "output_type": "display_data",
          "data": {
            "text/plain": [
              "<Figure size 432x288 with 1 Axes>"
            ],
            "image/png": "[encoded data removed]"
          },
          "metadata": {
            "needs_background": "light"
          }
        }
      ],
      "source": [
        "from matplotlib.legend_handler import HandlerLine2D\n",
        "line1, = plt.plot(n_estimators, train_results, \"b\", label=\"Train AUC\")\n",
        "line2, = plt.plot(n_estimators, test_results, \"r\", label=\"Test AUC\")\n",
        "plt.legend(handler_map={line1: HandlerLine2D(numpoints=2)})\n",
        "plt.ylabel(\"AUC score\")\n",
        "plt.xlabel(\"n_estimators\")\n",
        "plt.show()"
      ]
    },
    {
      "cell_type": "markdown",
      "metadata": {
        "id": "rmBGF-zRu54U"
      },
      "source": [
        "### Test max depth"
      ]
    },
    {
      "cell_type": "code",
      "execution_count": null,
      "metadata": {
        "id": "jSC3S0t3u54V",
        "colab": {
          "base_uri": "https://localhost:8080/"
        },
        "outputId": "17c9b88f-2079-4b35-9492-3e609871b5df"
      },
      "outputs": [
        {
          "output_type": "stream",
          "name": "stdout",
          "text": [
            "1.0\n",
            "2.0\n",
            "3.0\n",
            "4.0\n",
            "5.0\n",
            "6.0\n",
            "7.0\n",
            "8.0\n",
            "9.0\n",
            "10.0\n",
            "11.0\n",
            "12.0\n",
            "13.0\n",
            "14.0\n",
            "15.0\n",
            "16.0\n",
            "17.0\n",
            "18.0\n",
            "19.0\n",
            "20.0\n",
            "21.0\n",
            "22.0\n",
            "23.0\n",
            "24.0\n",
            "25.0\n",
            "26.0\n",
            "27.0\n",
            "28.0\n",
            "29.0\n",
            "30.0\n",
            "31.0\n",
            "32.0\n"
          ]
        }
      ],
      "source": [
        "max_depths = np.linspace(1, 32, 32, endpoint=True)\n",
        "train_results = []\n",
        "test_results = []\n",
        "for max_depth in max_depths:\n",
        "   print(max_depth)\n",
        "   rf = RandomForestClassifier(max_depth=max_depth, max_features=\"sqrt\", n_estimators = 50)\n",
        "   rf.fit(X_train, y_train)\n",
        "   train_pred = rf.predict(X_train)\n",
        "   false_positive_rate, true_positive_rate, thresholds = roc_curve(y_train, train_pred)\n",
        "   roc_auc = auc(false_positive_rate, true_positive_rate)\n",
        "   train_results.append(roc_auc)\n",
        "   y_pred = rf.predict(X_test)\n",
        "   false_positive_rate, true_positive_rate, thresholds = roc_curve(y_test, y_pred)\n",
        "   roc_auc = auc(false_positive_rate, true_positive_rate)\n",
        "   test_results.append(roc_auc)"
      ]
    },
    {
      "cell_type": "code",
      "execution_count": null,
      "metadata": {
        "id": "4ie_VEPKu54V",
        "colab": {
          "base_uri": "https://localhost:8080/",
          "height": 279
        },
        "outputId": "8caa096d-0e58-4feb-f78d-4ca6b8e2e48e"
      },
      "outputs": [
        {
          "output_type": "display_data",
          "data": {
            "text/plain": [
              "<Figure size 432x288 with 1 Axes>"
            ],
            "image/png": "[encoded data removed]"
          },
          "metadata": {
            "needs_background": "light"
          }
        }
      ],
      "source": [
        "from matplotlib.legend_handler import HandlerLine2D\n",
        "line1, = plt.plot(max_depths, train_results, \"b\", label=\"Train AUC\")\n",
        "line2, = plt.plot(max_depths, test_results, \"r\", label=\"Test AUC\")\n",
        "plt.legend(handler_map={line1: HandlerLine2D(numpoints=2)})\n",
        "plt.ylabel(\"AUC score\")\n",
        "plt.xlabel(\"Tree depth\")\n",
        "plt.show()"
      ]
    },
    {
      "cell_type": "markdown",
      "metadata": {
        "id": "8kouoCd3u54V"
      },
      "source": [
        "## Selected RF\n",
        "From the previous we select settings for our selected RF"
      ]
    },
    {
      "cell_type": "code",
      "execution_count": null,
      "metadata": {
        "id": "pEI4JKIBu54V"
      },
      "outputs": [],
      "source": [
        "# Random Forest\n",
        "rf = RandomForestClassifier(n_estimators=25, max_depth=20, max_features=\"sqrt\")\n",
        "# Train Decision Tree Classifer\n",
        "rf.fit(X_train,y_train)\n",
        "\n",
        "#Predict the response for test dataset\n",
        "y_pred = rf.predict(X_test)"
      ]
    },
    {
      "cell_type": "markdown",
      "metadata": {
        "id": "4yXXuuZUu54V"
      },
      "source": [
        "## Confusion matrix and classification report"
      ]
    },
    {
      "cell_type": "markdown",
      "source": [
        "## without resampling"
      ],
      "metadata": {
        "id": "shpeA4Qg9jQf"
      }
    },
    {
      "cell_type": "markdown",
      "metadata": {
        "id": "x79LUgYS-Enl"
      },
      "source": [
        "## Test settings RandomForestAlgorithm"
      ]
    },
    {
      "cell_type": "code",
      "execution_count": null,
      "metadata": {
        "colab": {
          "base_uri": "https://localhost:8080/"
        },
        "outputId": "fe5df753-f49d-438f-f6fe-3ee7cb055dc0",
        "id": "CtqGerXL-Enl"
      },
      "outputs": [
        {
          "output_type": "stream",
          "name": "stdout",
          "text": [
            "1\n",
            "2\n",
            "4\n",
            "8\n",
            "16\n",
            "32\n",
            "64\n",
            "100\n",
            "200\n"
          ]
        }
      ],
      "source": [
        "n_estimators = [1, 2, 4, 8, 16, 32, 64, 100, 200]\n",
        "train_results = []\n",
        "test_results = []\n",
        "for estimator in n_estimators:\n",
        "   print(estimator)\n",
        "   rf = RandomForestClassifier(n_estimators=estimator, max_features=\"sqrt\")\n",
        "   rf.fit(X_train, y_train)\n",
        "   train_pred = rf.predict(X_train)\n",
        "   false_positive_rate, true_positive_rate, thresholds = roc_curve(y_train, train_pred)\n",
        "   roc_auc = auc(false_positive_rate, true_positive_rate)\n",
        "   train_results.append(roc_auc)\n",
        "   y_pred = rf.predict(X_test)\n",
        "   false_positive_rate, true_positive_rate, thresholds = roc_curve(y_test, y_pred)\n",
        "   roc_auc = auc(false_positive_rate, true_positive_rate)\n",
        "   test_results.append(roc_auc)"
      ]
    },
    {
      "cell_type": "code",
      "execution_count": null,
      "metadata": {
        "colab": {
          "base_uri": "https://localhost:8080/",
          "height": 280
        },
        "outputId": "4f12538a-d009-42b0-bd49-e04675df0aaa",
        "id": "eOU5jGo6-Enm"
      },
      "outputs": [
        {
          "output_type": "display_data",
          "data": {
            "text/plain": [
              "<Figure size 432x288 with 1 Axes>"
            ],
            "image/png": "[encoded data removed]"
          },
          "metadata": {
            "needs_background": "light"
          }
        }
      ],
      "source": [
        "from matplotlib.legend_handler import HandlerLine2D\n",
        "line1, = plt.plot(n_estimators, train_results, \"b\", label=\"Train AUC\")\n",
        "line2, = plt.plot(n_estimators, test_results, \"r\", label=\"Test AUC\")\n",
        "plt.legend(handler_map={line1: HandlerLine2D(numpoints=2)})\n",
        "plt.ylabel(\"AUC score\")\n",
        "plt.xlabel(\"n_estimators\")\n",
        "plt.show()"
      ]
    },
    {
      "cell_type": "markdown",
      "metadata": {
        "id": "vAMnQXIy-Enm"
      },
      "source": [
        "### Test max depth"
      ]
    },
    {
      "cell_type": "code",
      "execution_count": null,
      "metadata": {
        "colab": {
          "base_uri": "https://localhost:8080/"
        },
        "outputId": "a4a7c998-984c-4233-dc94-29781d71e4a6",
        "id": "D5k-zr_3-Enm"
      },
      "outputs": [
        {
          "output_type": "stream",
          "name": "stdout",
          "text": [
            "1.0\n",
            "2.0\n",
            "3.0\n",
            "4.0\n",
            "5.0\n",
            "6.0\n",
            "7.0\n",
            "8.0\n",
            "9.0\n",
            "10.0\n",
            "11.0\n",
            "12.0\n",
            "13.0\n",
            "14.0\n",
            "15.0\n",
            "16.0\n",
            "17.0\n",
            "18.0\n",
            "19.0\n",
            "20.0\n",
            "21.0\n",
            "22.0\n",
            "23.0\n",
            "24.0\n",
            "25.0\n",
            "26.0\n",
            "27.0\n",
            "28.0\n",
            "29.0\n",
            "30.0\n",
            "31.0\n",
            "32.0\n"
          ]
        }
      ],
      "source": [
        "max_depths = np.linspace(1, 32, 32, endpoint=True)\n",
        "train_results = []\n",
        "test_results = []\n",
        "for max_depth in max_depths:\n",
        "   print(max_depth)\n",
        "   rf = RandomForestClassifier(max_depth=max_depth, max_features=\"sqrt\", n_estimators = 50)\n",
        "   rf.fit(X_train, y_train)\n",
        "   train_pred = rf.predict(X_train)\n",
        "   false_positive_rate, true_positive_rate, thresholds = roc_curve(y_train, train_pred)\n",
        "   roc_auc = auc(false_positive_rate, true_positive_rate)\n",
        "   train_results.append(roc_auc)\n",
        "   y_pred = rf.predict(X_test)\n",
        "   false_positive_rate, true_positive_rate, thresholds = roc_curve(y_test, y_pred)\n",
        "   roc_auc = auc(false_positive_rate, true_positive_rate)\n",
        "   test_results.append(roc_auc)"
      ]
    },
    {
      "cell_type": "code",
      "execution_count": null,
      "metadata": {
        "colab": {
          "base_uri": "https://localhost:8080/",
          "height": 279
        },
        "outputId": "5f1e7165-f595-4b2f-88c7-5bae36cf559f",
        "id": "RJQxwK3a-Enm"
      },
      "outputs": [
        {
          "output_type": "display_data",
          "data": {
            "text/plain": [
              "<Figure size 432x288 with 1 Axes>"
            ],
            "image/png": "[encoded data removed]"
          },
          "metadata": {
            "needs_background": "light"
          }
        }
      ],
      "source": [
        "from matplotlib.legend_handler import HandlerLine2D\n",
        "line1, = plt.plot(max_depths, train_results, \"b\", label=\"Train AUC\")\n",
        "line2, = plt.plot(max_depths, test_results, \"r\", label=\"Test AUC\")\n",
        "plt.legend(handler_map={line1: HandlerLine2D(numpoints=2)})\n",
        "plt.ylabel(\"AUC score\")\n",
        "plt.xlabel(\"Tree depth\")\n",
        "plt.show()"
      ]
    },
    {
      "cell_type": "code",
      "source": [
        "### Evaluation\n",
        "print(\"Behaviour: \"+ str(BEHAVIOUR))\n",
        "print (\"Windows_size: \" + str(WIN_SIZE/2) +\" sec \" \"(with overlap: \"+ str(WIN_OVERLAP/2)+ \" sec)\")\n",
        "\n",
        "results = confusion_matrix(y_test,y_pred)\n",
        "\n",
        "print('Confusion Matrix Validation:')\n",
        "print(results)\n",
        "print('Accuracy Score : ', accuracy_score(y_test, y_pred))\n",
        "print('Report : ')\n",
        "print(classification_report(y_test, y_pred))"
      ],
      "metadata": {
        "colab": {
          "base_uri": "https://localhost:8080/"
        },
        "id": "r2BFqioH9g7m",
        "outputId": "14bc05c9-9ffa-4488-a00c-319ac9672def"
      },
      "execution_count": null,
      "outputs": [
        {
          "output_type": "stream",
          "name": "stdout",
          "text": [
            "Behaviour: mooing\n",
            "Windows_size: 120.0 sec (with overlap: 0.5 sec)\n",
            "Confusion Matrix Validation:\n",
            "[[128327     15]\n",
            " [   778    158]]\n",
            "Accuracy Score :  0.9938659323318739\n",
            "Report : \n",
            "              precision    recall  f1-score   support\n",
            "\n",
            "           0       0.99      1.00      1.00    128342\n",
            "           1       0.91      0.17      0.28       936\n",
            "\n",
            "    accuracy                           0.99    129278\n",
            "   macro avg       0.95      0.58      0.64    129278\n",
            "weighted avg       0.99      0.99      0.99    129278\n",
            "\n"
          ]
        }
      ]
    },
    {
      "cell_type": "markdown",
      "source": [
        "## with resaampling"
      ],
      "metadata": {
        "id": "uHRZyGAV9v6F"
      }
    },
    {
      "cell_type": "code",
      "execution_count": null,
      "metadata": {
        "id": "yIS1sqfJu54W",
        "colab": {
          "base_uri": "https://localhost:8080/"
        },
        "outputId": "8c6c0b38-1280-47f5-c324-397295580d1c"
      },
      "outputs": [
        {
          "output_type": "stream",
          "name": "stdout",
          "text": [
            "Behaviour: mooing\n",
            "Windows_size: 120.0 sec (with overlap: 0.5 sec)\n",
            "Confusion Matrix Validation:\n",
            "[[909  41]\n",
            " [ 73 877]]\n",
            "Accuracy Score :  0.94\n",
            "Report : \n",
            "              precision    recall  f1-score   support\n",
            "\n",
            "           0       0.93      0.96      0.94       950\n",
            "           1       0.96      0.92      0.94       950\n",
            "\n",
            "    accuracy                           0.94      1900\n",
            "   macro avg       0.94      0.94      0.94      1900\n",
            "weighted avg       0.94      0.94      0.94      1900\n",
            "\n"
          ]
        }
      ],
      "source": [
        "### Evaluation\n",
        "print(\"Behaviour: \"+ str(BEHAVIOUR))\n",
        "print (\"Windows_size: \" + str(WIN_SIZE/2) +\" sec \" \"(with overlap: \"+ str(WIN_OVERLAP/2)+ \" sec)\")\n",
        "\n",
        "results = confusion_matrix(y_test,y_pred)\n",
        "\n",
        "print('Confusion Matrix Validation:')\n",
        "print(results)\n",
        "print('Accuracy Score : ', accuracy_score(y_test, y_pred))\n",
        "print('Report : ')\n",
        "print(classification_report(y_test, y_pred))"
      ]
    },
    {
      "cell_type": "code",
      "execution_count": null,
      "metadata": {
        "id": "Z5IVVh1pu54W",
        "colab": {
          "base_uri": "https://localhost:8080/"
        },
        "outputId": "9c885051-7f9a-4e66-9960-01075e9ed535"
      },
      "outputs": [
        {
          "output_type": "stream",
          "name": "stdout",
          "text": [
            "Feature: 0, Score: 0.01592\n",
            "Feature: 1, Score: 0.02538\n",
            "Feature: 2, Score: 0.02926\n",
            "Feature: 3, Score: 0.03384\n",
            "Feature: 4, Score: 0.03788\n",
            "Feature: 5, Score: 0.08007\n",
            "Feature: 6, Score: 0.06814\n",
            "Feature: 7, Score: 0.06643\n",
            "Feature: 8, Score: 0.06666\n",
            "Feature: 9, Score: 0.06630\n",
            "Feature: 10, Score: 0.01729\n",
            "Feature: 11, Score: 0.02487\n",
            "Feature: 12, Score: 0.02559\n",
            "Feature: 13, Score: 0.03034\n",
            "Feature: 14, Score: 0.03188\n",
            "Feature: 15, Score: 0.07919\n",
            "Feature: 16, Score: 0.06715\n",
            "Feature: 17, Score: 0.06396\n",
            "Feature: 18, Score: 0.07723\n",
            "Feature: 19, Score: 0.09262\n",
            "Feature: 20, Score: 0.00000\n",
            "Feature: 21, Score: 0.00000\n",
            "Feature: 22, Score: 0.00000\n",
            "Feature: 23, Score: 0.00000\n",
            "Feature: 24, Score: 0.00000\n",
            "Feature: 25, Score: 0.00000\n",
            "Feature: 26, Score: 0.00000\n",
            "Feature: 27, Score: 0.00000\n",
            "Feature: 28, Score: 0.00000\n",
            "Feature: 29, Score: 0.00000\n"
          ]
        }
      ],
      "source": [
        "# feature importance\n",
        "model = rf\n",
        "importance = model.feature_importances_\n",
        "# summarize feature importance\n",
        "for i,v in enumerate(importance):\n",
        "\tprint('Feature: %0d, Score: %.5f' % (i,v))"
      ]
    },
    {
      "cell_type": "markdown",
      "metadata": {
        "id": "SCMaUgSUvKlX"
      },
      "source": [
        "# RandomForestAlgorithm Urinating"
      ]
    },
    {
      "cell_type": "code",
      "source": [
        "BEHAVIOUR_1= 'rumination_video'\n",
        "BEHAVIOUR_2= 'eating_video'\n",
        "BEHAVIOUR_3= 'drinking_video'\n",
        "BEHAVIOUR_4= 'sleeping_video'\n",
        "BEHAVIOUR_5= 'urinating_video'\n",
        "BEHAVIOUR_6= 'mooing_video'\n",
        "BEHAVIOUR_7= 'resting_video'"
      ],
      "metadata": {
        "id": "tflHZ5fbvKlX"
      },
      "execution_count": null,
      "outputs": []
    },
    {
      "cell_type": "code",
      "execution_count": null,
      "metadata": {
        "id": "mNYoZP1JvKlY"
      },
      "outputs": [],
      "source": [
        "BEHAVIOUR='urinating'"
      ]
    },
    {
      "cell_type": "code",
      "execution_count": null,
      "metadata": {
        "id": "nlQ3ksqVvKlY"
      },
      "outputs": [],
      "source": [
        "y_final = np.stack(signal_features_1[:,4], axis =0) # BEHAVIOUR_5= 'urinating_video'"
      ]
    },
    {
      "cell_type": "code",
      "execution_count": null,
      "metadata": {
        "id": "URQyVflE2GbI"
      },
      "outputs": [],
      "source": [
        "bool_minority_labels  = y_final != 0"
      ]
    },
    {
      "cell_type": "code",
      "execution_count": null,
      "metadata": {
        "id": "VAI35WN82GbK"
      },
      "outputs": [],
      "source": [
        "min_features = X_final[bool_minority_labels]\n",
        "maj_features = X_final[~bool_minority_labels]\n",
        "\n",
        "min_labels = y_final[bool_minority_labels]\n",
        "maj_labels = y_final[~bool_minority_labels]"
      ]
    },
    {
      "cell_type": "markdown",
      "metadata": {
        "id": "MVy_-x6W2GbL"
      },
      "source": [
        "Split the minority class in 70 30 to have more in train set"
      ]
    },
    {
      "cell_type": "code",
      "execution_count": null,
      "metadata": {
        "id": "V3oyvRyL2GbL"
      },
      "outputs": [],
      "source": [
        "# Split minority dataset into training set and test set\n",
        "X_min_train, X_min_test, y_min_train, y_min_test = train_test_split(min_features, min_labels, test_size=0.3, random_state=1) # 70% training and 30% test"
      ]
    },
    {
      "cell_type": "markdown",
      "metadata": {
        "id": "goqZyjnl2GbM"
      },
      "source": [
        "Split the majority class in 50 50 so we can sample from independant sets"
      ]
    },
    {
      "cell_type": "code",
      "execution_count": null,
      "metadata": {
        "id": "tsz2Q9cX2GbM"
      },
      "outputs": [],
      "source": [
        "# Split minority dataset into training set and test set\n",
        "X_maj_train, X_maj_test, y_maj_train, y_maj_test = train_test_split(maj_features, maj_labels, test_size=0.5, random_state=1) # 50% training and 50% test"
      ]
    },
    {
      "cell_type": "markdown",
      "metadata": {
        "id": "uoE1Sm6D2GbM"
      },
      "source": [
        "## Create train set"
      ]
    },
    {
      "cell_type": "markdown",
      "metadata": {
        "id": "LMOZu9Gd2GbN"
      },
      "source": [
        "Upsample the amount of minority features and labels 3 times (why 3, no idea, feels that this will create enough labels)"
      ]
    },
    {
      "cell_type": "code",
      "execution_count": null,
      "metadata": {
        "id": "KVXBHLmb2GbN"
      },
      "outputs": [],
      "source": [
        "upsampled_X_min_train = np.concatenate([X_min_train, X_min_train, X_min_train], axis=0)\n",
        "upsampled_y_min_train = np.concatenate([y_min_train, y_min_train, y_min_train], axis=0)"
      ]
    },
    {
      "cell_type": "markdown",
      "metadata": {
        "id": "mDuG8HSl2GbN"
      },
      "source": [
        "Downsample from 50% of the majority class to have same amount of samples"
      ]
    },
    {
      "cell_type": "code",
      "execution_count": null,
      "metadata": {
        "colab": {
          "base_uri": "https://localhost:8080/"
        },
        "outputId": "32f1c0d5-2d34-4634-fcfb-b284bbda9982",
        "id": "x4YtP7Am2GbN"
      },
      "outputs": [
        {
          "output_type": "execute_result",
          "data": {
            "text/plain": [
              "(2322, 30)"
            ]
          },
          "metadata": {},
          "execution_count": 69
        }
      ],
      "source": [
        "ids = np.arange(len(X_maj_train))\n",
        "choices = np.random.choice(ids, len(upsampled_X_min_train))\n",
        "\n",
        "res_maj_train_features = X_maj_train[choices]\n",
        "res_maj_train_labels = y_maj_train[choices]\n",
        "\n",
        "res_maj_train_features.shape"
      ]
    },
    {
      "cell_type": "markdown",
      "metadata": {
        "id": "nrKRCDIG2GbO"
      },
      "source": [
        "Concat together"
      ]
    },
    {
      "cell_type": "code",
      "execution_count": null,
      "metadata": {
        "id": "uRtKN0jQ2GbO"
      },
      "outputs": [],
      "source": [
        "resampled_train_features = np.concatenate([upsampled_X_min_train, res_maj_train_features], axis=0)\n",
        "resampled_train_labels = np.concatenate([upsampled_y_min_train, res_maj_train_labels], axis=0)"
      ]
    },
    {
      "cell_type": "markdown",
      "metadata": {
        "id": "2lEtyoxZ2GbO"
      },
      "source": [
        "Shuffle"
      ]
    },
    {
      "cell_type": "code",
      "execution_count": null,
      "metadata": {
        "id": "hqpuUUN-2GbP"
      },
      "outputs": [],
      "source": [
        "order = np.arange(len(resampled_train_labels))\n",
        "np.random.shuffle(order)\n",
        "resampled_train_features = resampled_train_features[order]\n",
        "resampled_train_labels = resampled_train_labels[order]"
      ]
    },
    {
      "cell_type": "markdown",
      "metadata": {
        "id": "pvVlPMJO2GbP"
      },
      "source": [
        "## Create test set"
      ]
    },
    {
      "cell_type": "markdown",
      "metadata": {
        "id": "fEh4v9A-2GbP"
      },
      "source": [
        "We start from the X_min_test"
      ]
    },
    {
      "cell_type": "markdown",
      "metadata": {
        "id": "5CzpA55W2GbP"
      },
      "source": [
        "And downsample the remaining part of the majority class which we didn't use so far"
      ]
    },
    {
      "cell_type": "code",
      "execution_count": null,
      "metadata": {
        "id": "4LogLMlC2GbQ"
      },
      "outputs": [],
      "source": [
        "ids = np.arange(len(X_maj_test))\n",
        "choices = np.random.choice(ids, len(X_min_test))\n",
        "\n",
        "res_maj_test_features = X_maj_test[choices]\n",
        "res_maj_test_labels = y_maj_test[choices]\n"
      ]
    },
    {
      "cell_type": "markdown",
      "metadata": {
        "id": "_i24ByfF2GbQ"
      },
      "source": [
        "Concat"
      ]
    },
    {
      "cell_type": "code",
      "execution_count": null,
      "metadata": {
        "id": "aSdbMMCF2GbQ"
      },
      "outputs": [],
      "source": [
        "resampled_test_features = np.concatenate([X_min_test, res_maj_test_features], axis=0)\n",
        "resampled_test_labels = np.concatenate([y_min_test, res_maj_test_labels], axis=0)"
      ]
    },
    {
      "cell_type": "markdown",
      "metadata": {
        "id": "K2MIdTOu2GbQ"
      },
      "source": [
        "Shuffle"
      ]
    },
    {
      "cell_type": "code",
      "execution_count": null,
      "metadata": {
        "id": "Iavr8fGG2GbQ"
      },
      "outputs": [],
      "source": [
        "order = np.arange(len(resampled_test_labels))\n",
        "np.random.shuffle(order)\n",
        "resampled_test_features = resampled_test_features[order]\n",
        "resampled_test_labels = resampled_test_labels[order]"
      ]
    },
    {
      "cell_type": "code",
      "execution_count": null,
      "metadata": {
        "id": "LFL3K6Zb2GbR"
      },
      "outputs": [],
      "source": [
        "X_train= resampled_train_features\n",
        "y_train= resampled_train_labels\n",
        "X_test=  resampled_test_features\n",
        "y_test=  resampled_test_labels"
      ]
    },
    {
      "cell_type": "markdown",
      "metadata": {
        "id": "K3VPRg_4vKlY"
      },
      "source": [
        "## Test settings RandomForestAlgorithm"
      ]
    },
    {
      "cell_type": "code",
      "execution_count": null,
      "metadata": {
        "colab": {
          "base_uri": "https://localhost:8080/"
        },
        "outputId": "ec607b26-2308-43ce-9851-ce0c6547a066",
        "id": "oNyVrhn_vKlY"
      },
      "outputs": [
        {
          "output_type": "stream",
          "name": "stdout",
          "text": [
            "1\n",
            "2\n",
            "4\n",
            "8\n",
            "16\n",
            "32\n",
            "64\n",
            "100\n",
            "200\n"
          ]
        }
      ],
      "source": [
        "n_estimators = [1, 2, 4, 8, 16, 32, 64, 100, 200]\n",
        "train_results = []\n",
        "test_results = []\n",
        "for estimator in n_estimators:\n",
        "   print(estimator)\n",
        "   rf = RandomForestClassifier(n_estimators=estimator, max_features=\"sqrt\")\n",
        "   rf.fit(X_train, y_train)\n",
        "   train_pred = rf.predict(X_train)\n",
        "   false_positive_rate, true_positive_rate, thresholds = roc_curve(y_train, train_pred)\n",
        "   roc_auc = auc(false_positive_rate, true_positive_rate)\n",
        "   train_results.append(roc_auc)\n",
        "   y_pred = rf.predict(X_test)\n",
        "   false_positive_rate, true_positive_rate, thresholds = roc_curve(y_test, y_pred)\n",
        "   roc_auc = auc(false_positive_rate, true_positive_rate)\n",
        "   test_results.append(roc_auc)"
      ]
    },
    {
      "cell_type": "code",
      "execution_count": null,
      "metadata": {
        "colab": {
          "base_uri": "https://localhost:8080/",
          "height": 280
        },
        "id": "V19IJ6tgvKlY",
        "outputId": "73d3e7ef-5c5e-4d48-b106-260955d4901b"
      },
      "outputs": [
        {
          "output_type": "display_data",
          "data": {
            "text/plain": [
              "<Figure size 432x288 with 1 Axes>"
            ],
            "image/png": "[encoded data removed]"
          },
          "metadata": {
            "needs_background": "light"
          }
        }
      ],
      "source": [
        "from matplotlib.legend_handler import HandlerLine2D\n",
        "line1, = plt.plot(n_estimators, train_results, \"b\", label=\"Train AUC\")\n",
        "line2, = plt.plot(n_estimators, test_results, \"r\", label=\"Test AUC\")\n",
        "plt.legend(handler_map={line1: HandlerLine2D(numpoints=2)})\n",
        "plt.ylabel(\"AUC score\")\n",
        "plt.xlabel(\"n_estimators\")\n",
        "plt.show()"
      ]
    },
    {
      "cell_type": "markdown",
      "metadata": {
        "id": "b0pxjgsHvKlY"
      },
      "source": [
        "### Test max depth"
      ]
    },
    {
      "cell_type": "code",
      "execution_count": null,
      "metadata": {
        "colab": {
          "base_uri": "https://localhost:8080/"
        },
        "id": "qRTzxBMUvKlY",
        "outputId": "d79c4081-756c-4851-80b0-8e361d7a8926"
      },
      "outputs": [
        {
          "output_type": "stream",
          "name": "stdout",
          "text": [
            "1.0\n",
            "2.0\n",
            "3.0\n",
            "4.0\n",
            "5.0\n",
            "6.0\n",
            "7.0\n",
            "8.0\n",
            "9.0\n",
            "10.0\n",
            "11.0\n",
            "12.0\n",
            "13.0\n",
            "14.0\n",
            "15.0\n",
            "16.0\n",
            "17.0\n",
            "18.0\n",
            "19.0\n",
            "20.0\n",
            "21.0\n",
            "22.0\n",
            "23.0\n",
            "24.0\n",
            "25.0\n",
            "26.0\n",
            "27.0\n",
            "28.0\n",
            "29.0\n",
            "30.0\n",
            "31.0\n",
            "32.0\n"
          ]
        }
      ],
      "source": [
        "max_depths = np.linspace(1, 32, 32, endpoint=True)\n",
        "train_results = []\n",
        "test_results = []\n",
        "for max_depth in max_depths:\n",
        "   print(max_depth)\n",
        "   rf = RandomForestClassifier(max_depth=max_depth, max_features=\"sqrt\", n_estimators = 50)\n",
        "   rf.fit(X_train, y_train)\n",
        "   train_pred = rf.predict(X_train)\n",
        "   false_positive_rate, true_positive_rate, thresholds = roc_curve(y_train, train_pred)\n",
        "   roc_auc = auc(false_positive_rate, true_positive_rate)\n",
        "   train_results.append(roc_auc)\n",
        "   y_pred = rf.predict(X_test)\n",
        "   false_positive_rate, true_positive_rate, thresholds = roc_curve(y_test, y_pred)\n",
        "   roc_auc = auc(false_positive_rate, true_positive_rate)\n",
        "   test_results.append(roc_auc)"
      ]
    },
    {
      "cell_type": "code",
      "execution_count": null,
      "metadata": {
        "colab": {
          "base_uri": "https://localhost:8080/",
          "height": 279
        },
        "id": "FYgFS1_TvKlY",
        "outputId": "b248708b-bf1f-4063-d995-22b1347b62e7"
      },
      "outputs": [
        {
          "output_type": "display_data",
          "data": {
            "text/plain": [
              "<Figure size 432x288 with 1 Axes>"
            ],
            "image/png": "[encoded data removed]"
          },
          "metadata": {
            "needs_background": "light"
          }
        }
      ],
      "source": [
        "from matplotlib.legend_handler import HandlerLine2D\n",
        "line1, = plt.plot(max_depths, train_results, \"b\", label=\"Train AUC\")\n",
        "line2, = plt.plot(max_depths, test_results, \"r\", label=\"Test AUC\")\n",
        "plt.legend(handler_map={line1: HandlerLine2D(numpoints=2)})\n",
        "plt.ylabel(\"AUC score\")\n",
        "plt.xlabel(\"Tree depth\")\n",
        "plt.show()"
      ]
    },
    {
      "cell_type": "markdown",
      "metadata": {
        "id": "x-dEOvK3vKlY"
      },
      "source": [
        "## Selected RF\n",
        "From the previous we select settings for our selected RF"
      ]
    },
    {
      "cell_type": "code",
      "execution_count": null,
      "metadata": {
        "id": "DVB_q8aYvKlZ"
      },
      "outputs": [],
      "source": [
        "# Random Forest\n",
        "rf = RandomForestClassifier(n_estimators=50, max_depth=15, max_features=\"sqrt\")\n",
        "# Train Decision Tree Classifer\n",
        "rf.fit(X_train,y_train)\n",
        "\n",
        "#Predict the response for test dataset\n",
        "y_pred = rf.predict(X_test)"
      ]
    },
    {
      "cell_type": "markdown",
      "metadata": {
        "id": "uqdyWymOvKlZ"
      },
      "source": [
        "## Confusion matrix and classification report"
      ]
    },
    {
      "cell_type": "markdown",
      "source": [
        "without resampling"
      ],
      "metadata": {
        "id": "FhyVsSTXFK0h"
      }
    },
    {
      "cell_type": "code",
      "source": [
        "### Evaluation\n",
        "print(\"Behaviour: \"+ str(BEHAVIOUR))\n",
        "print (\"Windows_size: \" + str(WIN_SIZE/2) +\" sec \" \"(with overlap: \"+ str(WIN_OVERLAP/2)+ \" sec)\")\n",
        "\n",
        "results = confusion_matrix(y_test,y_pred)\n",
        "\n",
        "print('Confusion Matrix Validation:')\n",
        "print(results)\n",
        "print('Accuracy Score : ', accuracy_score(y_test, y_pred))\n",
        "print('Report : ')\n",
        "print(classification_report(y_test, y_pred))"
      ],
      "metadata": {
        "colab": {
          "base_uri": "https://localhost:8080/"
        },
        "id": "7p7P1j2fFM9c",
        "outputId": "da5a9a90-aee8-4cd4-ce27-f23c9fcb150d"
      },
      "execution_count": null,
      "outputs": [
        {
          "output_type": "stream",
          "name": "stdout",
          "text": [
            "Behaviour: urinating\n",
            "Windows_size: 120.0 sec (with overlap: 0.5 sec)\n",
            "Confusion Matrix Validation:\n",
            "[[128334      8]\n",
            " [   855     81]]\n",
            "Accuracy Score :  0.9933244635591516\n",
            "Report : \n",
            "              precision    recall  f1-score   support\n",
            "\n",
            "           0       0.99      1.00      1.00    128342\n",
            "           1       0.91      0.09      0.16       936\n",
            "\n",
            "    accuracy                           0.99    129278\n",
            "   macro avg       0.95      0.54      0.58    129278\n",
            "weighted avg       0.99      0.99      0.99    129278\n",
            "\n"
          ]
        }
      ]
    },
    {
      "cell_type": "markdown",
      "source": [
        "with resampling"
      ],
      "metadata": {
        "id": "1eT7eoiuFON5"
      }
    },
    {
      "cell_type": "code",
      "execution_count": null,
      "metadata": {
        "colab": {
          "base_uri": "https://localhost:8080/"
        },
        "outputId": "b56cd904-7afc-422b-974b-22ed45aa0bd2",
        "id": "T6kHN-4qvKlZ"
      },
      "outputs": [
        {
          "output_type": "stream",
          "name": "stdout",
          "text": [
            "Behaviour: urinating\n",
            "Windows_size: 120.0 sec (with overlap: 0.5 sec)\n",
            "Confusion Matrix Validation:\n",
            "[[330   3]\n",
            " [ 10 323]]\n",
            "Accuracy Score :  0.9804804804804805\n",
            "Report : \n",
            "              precision    recall  f1-score   support\n",
            "\n",
            "           0       0.97      0.99      0.98       333\n",
            "           1       0.99      0.97      0.98       333\n",
            "\n",
            "    accuracy                           0.98       666\n",
            "   macro avg       0.98      0.98      0.98       666\n",
            "weighted avg       0.98      0.98      0.98       666\n",
            "\n"
          ]
        }
      ],
      "source": [
        "### Evaluation\n",
        "print(\"Behaviour: \"+ str(BEHAVIOUR))\n",
        "print (\"Windows_size: \" + str(WIN_SIZE/2) +\" sec \" \"(with overlap: \"+ str(WIN_OVERLAP/2)+ \" sec)\")\n",
        "\n",
        "results = confusion_matrix(y_test,y_pred)\n",
        "\n",
        "print('Confusion Matrix Validation:')\n",
        "print(results)\n",
        "print('Accuracy Score : ', accuracy_score(y_test, y_pred))\n",
        "print('Report : ')\n",
        "print(classification_report(y_test, y_pred))"
      ]
    },
    {
      "cell_type": "markdown",
      "metadata": {
        "id": "md2_QB9OvKlZ"
      },
      "source": [
        "##Feature importances"
      ]
    },
    {
      "cell_type": "code",
      "execution_count": null,
      "metadata": {
        "colab": {
          "base_uri": "https://localhost:8080/"
        },
        "outputId": "7bb77931-f809-42cf-d610-eda9e5beef46",
        "id": "9XaiZrZnvKlZ"
      },
      "outputs": [
        {
          "output_type": "stream",
          "name": "stdout",
          "text": [
            "Feature: 0, Score: 0.03025\n",
            "Feature: 1, Score: 0.04197\n",
            "Feature: 2, Score: 0.03687\n",
            "Feature: 3, Score: 0.03050\n",
            "Feature: 4, Score: 0.05664\n",
            "Feature: 5, Score: 0.08549\n",
            "Feature: 6, Score: 0.09199\n",
            "Feature: 7, Score: 0.07974\n",
            "Feature: 8, Score: 0.06275\n",
            "Feature: 9, Score: 0.05362\n",
            "Feature: 10, Score: 0.02258\n",
            "Feature: 11, Score: 0.02659\n",
            "Feature: 12, Score: 0.02583\n",
            "Feature: 13, Score: 0.02239\n",
            "Feature: 14, Score: 0.02241\n",
            "Feature: 15, Score: 0.06408\n",
            "Feature: 16, Score: 0.10550\n",
            "Feature: 17, Score: 0.05459\n",
            "Feature: 18, Score: 0.04518\n",
            "Feature: 19, Score: 0.04102\n",
            "Feature: 20, Score: 0.00000\n",
            "Feature: 21, Score: 0.00000\n",
            "Feature: 22, Score: 0.00000\n",
            "Feature: 23, Score: 0.00000\n",
            "Feature: 24, Score: 0.00000\n",
            "Feature: 25, Score: 0.00000\n",
            "Feature: 26, Score: 0.00000\n",
            "Feature: 27, Score: 0.00000\n",
            "Feature: 28, Score: 0.00000\n",
            "Feature: 29, Score: 0.00000\n"
          ]
        }
      ],
      "source": [
        "# feature importance\n",
        "model = rf\n",
        "importance = model.feature_importances_\n",
        "# summarize feature importance\n",
        "for i,v in enumerate(importance):\n",
        "\tprint('Feature: %0d, Score: %.5f' % (i,v))"
      ]
    },
    {
      "cell_type": "markdown",
      "metadata": {
        "id": "UKfQ0sQNuyCu"
      },
      "source": [
        "# RandomForestAlgorithm Drinking"
      ]
    },
    {
      "cell_type": "code",
      "execution_count": null,
      "metadata": {
        "id": "I5ReXUBFwc_s"
      },
      "outputs": [],
      "source": [
        "BEHAVIOUR='drinking'"
      ]
    },
    {
      "cell_type": "code",
      "execution_count": null,
      "metadata": {
        "id": "Xd3VcSpRu54R"
      },
      "outputs": [],
      "source": [
        "y_final = np.stack(signal_features_1[:,2], axis =0) # BEHAVIOUR_3= 'drinking_video'"
      ]
    },
    {
      "cell_type": "code",
      "execution_count": null,
      "metadata": {
        "id": "3l1yQk4x3bZf"
      },
      "outputs": [],
      "source": [
        "bool_minority_labels  = y_final != 0"
      ]
    },
    {
      "cell_type": "code",
      "execution_count": null,
      "metadata": {
        "id": "wwlZmpB53bZf"
      },
      "outputs": [],
      "source": [
        "min_features = X_final[bool_minority_labels]\n",
        "maj_features = X_final[~bool_minority_labels]\n",
        "\n",
        "min_labels = y_final[bool_minority_labels]\n",
        "maj_labels = y_final[~bool_minority_labels]"
      ]
    },
    {
      "cell_type": "markdown",
      "metadata": {
        "id": "iT8xfEZJ3bZf"
      },
      "source": [
        "Split the minority class in 70 30 to have more in train set"
      ]
    },
    {
      "cell_type": "code",
      "execution_count": null,
      "metadata": {
        "id": "vZkPmnWa3bZf"
      },
      "outputs": [],
      "source": [
        "# Split minority dataset into training set and test set\n",
        "X_min_train, X_min_test, y_min_train, y_min_test = train_test_split(min_features, min_labels, test_size=0.3, random_state=1) # 70% training and 30% test"
      ]
    },
    {
      "cell_type": "markdown",
      "metadata": {
        "id": "ah9x9ENT3bZf"
      },
      "source": [
        "Split the majority class in 50 50 so we can sample from independant sets"
      ]
    },
    {
      "cell_type": "code",
      "execution_count": null,
      "metadata": {
        "id": "qFZrwQ__3bZf"
      },
      "outputs": [],
      "source": [
        "# Split minority dataset into training set and test set\n",
        "X_maj_train, X_maj_test, y_maj_train, y_maj_test = train_test_split(maj_features, maj_labels, test_size=0.5, random_state=1) # 50% training and 50% test"
      ]
    },
    {
      "cell_type": "markdown",
      "metadata": {
        "id": "KSlpyP1q3bZf"
      },
      "source": [
        "## Create train set"
      ]
    },
    {
      "cell_type": "markdown",
      "metadata": {
        "id": "O4owWQRk3bZf"
      },
      "source": [
        "Upsample the amount of minority features and labels 3 times (why 3, no idea, feels that this will create enough labels)"
      ]
    },
    {
      "cell_type": "code",
      "execution_count": null,
      "metadata": {
        "id": "EXf42TdN3bZf"
      },
      "outputs": [],
      "source": [
        "upsampled_X_min_train = np.concatenate([X_min_train, X_min_train, X_min_train], axis=0)\n",
        "upsampled_y_min_train = np.concatenate([y_min_train, y_min_train, y_min_train], axis=0)"
      ]
    },
    {
      "cell_type": "markdown",
      "metadata": {
        "id": "iknpy8I13bZg"
      },
      "source": [
        "Downsample from 50% of the majority class to have same amount of samples"
      ]
    },
    {
      "cell_type": "code",
      "execution_count": null,
      "metadata": {
        "colab": {
          "base_uri": "https://localhost:8080/"
        },
        "outputId": "66b8c1d5-1294-41bd-db76-47b886fca2d1",
        "id": "1vdAC-yZ3bZg"
      },
      "outputs": [
        {
          "output_type": "execute_result",
          "data": {
            "text/plain": [
              "(9630, 30)"
            ]
          },
          "metadata": {},
          "execution_count": 89
        }
      ],
      "source": [
        "ids = np.arange(len(X_maj_train))\n",
        "choices = np.random.choice(ids, len(upsampled_X_min_train))\n",
        "\n",
        "res_maj_train_features = X_maj_train[choices]\n",
        "res_maj_train_labels = y_maj_train[choices]\n",
        "\n",
        "res_maj_train_features.shape"
      ]
    },
    {
      "cell_type": "markdown",
      "metadata": {
        "id": "nkaHMdJ83bZg"
      },
      "source": [
        "Concat together"
      ]
    },
    {
      "cell_type": "code",
      "execution_count": null,
      "metadata": {
        "id": "pDd6j6Rk3bZg"
      },
      "outputs": [],
      "source": [
        "resampled_train_features = np.concatenate([upsampled_X_min_train, res_maj_train_features], axis=0)\n",
        "resampled_train_labels = np.concatenate([upsampled_y_min_train, res_maj_train_labels], axis=0)"
      ]
    },
    {
      "cell_type": "markdown",
      "metadata": {
        "id": "P1mKCAC63bZg"
      },
      "source": [
        "Shuffle"
      ]
    },
    {
      "cell_type": "code",
      "execution_count": null,
      "metadata": {
        "id": "R2MgX8A_3bZg"
      },
      "outputs": [],
      "source": [
        "order = np.arange(len(resampled_train_labels))\n",
        "np.random.shuffle(order)\n",
        "resampled_train_features = resampled_train_features[order]\n",
        "resampled_train_labels = resampled_train_labels[order]"
      ]
    },
    {
      "cell_type": "markdown",
      "metadata": {
        "id": "C2IC3TFz3bZg"
      },
      "source": [
        "## Create test set"
      ]
    },
    {
      "cell_type": "markdown",
      "metadata": {
        "id": "5O0lyU253bZg"
      },
      "source": [
        "We start from the X_min_test"
      ]
    },
    {
      "cell_type": "markdown",
      "metadata": {
        "id": "Uvfmf-413bZg"
      },
      "source": [
        "And downsample the remaining part of the majority class which we didn't use so far"
      ]
    },
    {
      "cell_type": "code",
      "execution_count": null,
      "metadata": {
        "id": "GGG_IsWr3bZg"
      },
      "outputs": [],
      "source": [
        "ids = np.arange(len(X_maj_test))\n",
        "choices = np.random.choice(ids, len(X_min_test))\n",
        "\n",
        "res_maj_test_features = X_maj_test[choices]\n",
        "res_maj_test_labels = y_maj_test[choices]\n"
      ]
    },
    {
      "cell_type": "markdown",
      "metadata": {
        "id": "YP1DJjEc3bZh"
      },
      "source": [
        "Concat"
      ]
    },
    {
      "cell_type": "code",
      "execution_count": null,
      "metadata": {
        "id": "Q49p8NE53bZh"
      },
      "outputs": [],
      "source": [
        "resampled_test_features = np.concatenate([X_min_test, res_maj_test_features], axis=0)\n",
        "resampled_test_labels = np.concatenate([y_min_test, res_maj_test_labels], axis=0)"
      ]
    },
    {
      "cell_type": "markdown",
      "metadata": {
        "id": "ptpIZyYP3bZh"
      },
      "source": [
        "Shuffle"
      ]
    },
    {
      "cell_type": "code",
      "execution_count": null,
      "metadata": {
        "id": "B54HxSnM3bZh"
      },
      "outputs": [],
      "source": [
        "order = np.arange(len(resampled_test_labels))\n",
        "np.random.shuffle(order)\n",
        "resampled_test_features = resampled_test_features[order]\n",
        "resampled_test_labels = resampled_test_labels[order]"
      ]
    },
    {
      "cell_type": "code",
      "execution_count": null,
      "metadata": {
        "id": "T-QdKCWM3bZh"
      },
      "outputs": [],
      "source": [
        "X_train= resampled_train_features\n",
        "y_train= resampled_train_labels\n",
        "X_test=  resampled_test_features\n",
        "y_test=  resampled_test_labels"
      ]
    },
    {
      "cell_type": "markdown",
      "metadata": {
        "id": "yP4nHQt0c-JK"
      },
      "source": [
        "## Test settings RandomForestAlgorithm"
      ]
    },
    {
      "cell_type": "code",
      "execution_count": null,
      "metadata": {
        "colab": {
          "base_uri": "https://localhost:8080/"
        },
        "outputId": "0c10d4de-d7bc-45a1-95b0-c48f297723c9",
        "id": "GLY0ux3ac-JK"
      },
      "outputs": [
        {
          "output_type": "stream",
          "name": "stdout",
          "text": [
            "1\n",
            "2\n",
            "4\n",
            "8\n",
            "16\n",
            "32\n",
            "64\n",
            "100\n",
            "200\n"
          ]
        }
      ],
      "source": [
        "n_estimators = [1, 2, 4, 8, 16, 32, 64, 100, 200]\n",
        "train_results = []\n",
        "test_results = []\n",
        "for estimator in n_estimators:\n",
        "   print(estimator)\n",
        "   rf = RandomForestClassifier(n_estimators=estimator, max_features=\"sqrt\")\n",
        "   rf.fit(X_train, y_train)\n",
        "   train_pred = rf.predict(X_train)\n",
        "   false_positive_rate, true_positive_rate, thresholds = roc_curve(y_train, train_pred)\n",
        "   roc_auc = auc(false_positive_rate, true_positive_rate)\n",
        "   train_results.append(roc_auc)\n",
        "   y_pred = rf.predict(X_test)\n",
        "   false_positive_rate, true_positive_rate, thresholds = roc_curve(y_test, y_pred)\n",
        "   roc_auc = auc(false_positive_rate, true_positive_rate)\n",
        "   test_results.append(roc_auc)"
      ]
    },
    {
      "cell_type": "code",
      "execution_count": null,
      "metadata": {
        "colab": {
          "base_uri": "https://localhost:8080/",
          "height": 280
        },
        "outputId": "70e2de90-e69b-4353-8a0c-498fb1fa5e22",
        "id": "a907J5sQc-JK"
      },
      "outputs": [
        {
          "output_type": "display_data",
          "data": {
            "text/plain": [
              "<Figure size 432x288 with 1 Axes>"
            ],
            "image/png": "[encoded data removed]"
          },
          "metadata": {
            "needs_background": "light"
          }
        }
      ],
      "source": [
        "from matplotlib.legend_handler import HandlerLine2D\n",
        "line1, = plt.plot(n_estimators, train_results, \"b\", label=\"Train AUC\")\n",
        "line2, = plt.plot(n_estimators, test_results, \"r\", label=\"Test AUC\")\n",
        "plt.legend(handler_map={line1: HandlerLine2D(numpoints=2)})\n",
        "plt.ylabel(\"AUC score\")\n",
        "plt.xlabel(\"n_estimators\")\n",
        "plt.show()"
      ]
    },
    {
      "cell_type": "markdown",
      "metadata": {
        "id": "4eJWv-_Sc-JK"
      },
      "source": [
        "### Test max depth"
      ]
    },
    {
      "cell_type": "code",
      "execution_count": null,
      "metadata": {
        "colab": {
          "base_uri": "https://localhost:8080/"
        },
        "outputId": "66981005-158b-4663-b0de-bb5a58aeb130",
        "id": "JeGF1xm9c-JK"
      },
      "outputs": [
        {
          "output_type": "stream",
          "name": "stdout",
          "text": [
            "1.0\n",
            "2.0\n",
            "3.0\n",
            "4.0\n",
            "5.0\n",
            "6.0\n",
            "7.0\n",
            "8.0\n",
            "9.0\n",
            "10.0\n",
            "11.0\n",
            "12.0\n",
            "13.0\n",
            "14.0\n",
            "15.0\n",
            "16.0\n",
            "17.0\n",
            "18.0\n",
            "19.0\n",
            "20.0\n",
            "21.0\n",
            "22.0\n",
            "23.0\n",
            "24.0\n",
            "25.0\n",
            "26.0\n",
            "27.0\n",
            "28.0\n",
            "29.0\n",
            "30.0\n",
            "31.0\n",
            "32.0\n"
          ]
        }
      ],
      "source": [
        "max_depths = np.linspace(1, 32, 32, endpoint=True)\n",
        "train_results = []\n",
        "test_results = []\n",
        "for max_depth in max_depths:\n",
        "   print(max_depth)\n",
        "   rf = RandomForestClassifier(max_depth=max_depth, max_features=\"sqrt\", n_estimators = 50)\n",
        "   rf.fit(X_train, y_train)\n",
        "   train_pred = rf.predict(X_train)\n",
        "   false_positive_rate, true_positive_rate, thresholds = roc_curve(y_train, train_pred)\n",
        "   roc_auc = auc(false_positive_rate, true_positive_rate)\n",
        "   train_results.append(roc_auc)\n",
        "   y_pred = rf.predict(X_test)\n",
        "   false_positive_rate, true_positive_rate, thresholds = roc_curve(y_test, y_pred)\n",
        "   roc_auc = auc(false_positive_rate, true_positive_rate)\n",
        "   test_results.append(roc_auc)"
      ]
    },
    {
      "cell_type": "code",
      "execution_count": null,
      "metadata": {
        "colab": {
          "base_uri": "https://localhost:8080/",
          "height": 279
        },
        "outputId": "a2ac141d-d763-4cc5-a0ba-0dbe5157c93f",
        "id": "Op91IzY9c-JK"
      },
      "outputs": [
        {
          "output_type": "display_data",
          "data": {
            "text/plain": [
              "<Figure size 432x288 with 1 Axes>"
            ],
            "image/png": "[encoded data removed]"
          },
          "metadata": {
            "needs_background": "light"
          }
        }
      ],
      "source": [
        "from matplotlib.legend_handler import HandlerLine2D\n",
        "line1, = plt.plot(max_depths, train_results, \"b\", label=\"Train AUC\")\n",
        "line2, = plt.plot(max_depths, test_results, \"r\", label=\"Test AUC\")\n",
        "plt.legend(handler_map={line1: HandlerLine2D(numpoints=2)})\n",
        "plt.ylabel(\"AUC score\")\n",
        "plt.xlabel(\"Tree depth\")\n",
        "plt.show()"
      ]
    },
    {
      "cell_type": "markdown",
      "metadata": {
        "id": "VWM4TxNOc-JK"
      },
      "source": [
        "## Selected RF\n",
        "From the previous we select settings for our selected RF"
      ]
    },
    {
      "cell_type": "code",
      "execution_count": null,
      "metadata": {
        "id": "3luTaYHWc-JL"
      },
      "outputs": [],
      "source": [
        "# Random Forest\n",
        "rf = RandomForestClassifier(n_estimators=50, max_depth=20, max_features=\"sqrt\")\n",
        "# Train Decision Tree Classifer\n",
        "rf.fit(X_train,y_train)\n",
        "\n",
        "#Predict the response for test dataset\n",
        "y_pred = rf.predict(X_test)"
      ]
    },
    {
      "cell_type": "markdown",
      "metadata": {
        "id": "D_O07pdlc-JL"
      },
      "source": [
        "## Confusion matrix and classification report"
      ]
    },
    {
      "cell_type": "markdown",
      "source": [
        "without resampling"
      ],
      "metadata": {
        "id": "qHp6c3c-JRVs"
      }
    },
    {
      "cell_type": "code",
      "source": [
        "### Evaluation\n",
        "print(\"Behaviour: \"+ str(BEHAVIOUR))\n",
        "print (\"Windows_size: \" + str(WIN_SIZE/2) +\" sec \" \"(with overlap: \"+ str(WIN_OVERLAP/2)+ \" sec)\")\n",
        "\n",
        "results = confusion_matrix(y_test,y_pred)\n",
        "\n",
        "print('Confusion Matrix Validation:')\n",
        "print(results)\n",
        "print('Accuracy Score : ', accuracy_score(y_test, y_pred))\n",
        "print('Report : ')\n",
        "print(classification_report(y_test, y_pred))"
      ],
      "metadata": {
        "colab": {
          "base_uri": "https://localhost:8080/"
        },
        "id": "S3-6-TzIJL5S",
        "outputId": "322475ec-b9f7-494b-ebb4-a4d98f1170e6"
      },
      "execution_count": null,
      "outputs": [
        {
          "output_type": "stream",
          "name": "stdout",
          "text": [
            "Behaviour: drinking\n",
            "Windows_size: 120.0 sec (with overlap: 0.5 sec)\n",
            "Confusion Matrix Validation:\n",
            "[[128321     21]\n",
            " [   767    169]]\n",
            "Accuracy Score :  0.9939046086727826\n",
            "Report : \n",
            "              precision    recall  f1-score   support\n",
            "\n",
            "           0       0.99      1.00      1.00    128342\n",
            "           1       0.89      0.18      0.30       936\n",
            "\n",
            "    accuracy                           0.99    129278\n",
            "   macro avg       0.94      0.59      0.65    129278\n",
            "weighted avg       0.99      0.99      0.99    129278\n",
            "\n"
          ]
        }
      ]
    },
    {
      "cell_type": "markdown",
      "source": [
        "with resampling"
      ],
      "metadata": {
        "id": "EGXGc4eiJOzS"
      }
    },
    {
      "cell_type": "code",
      "execution_count": null,
      "metadata": {
        "colab": {
          "base_uri": "https://localhost:8080/"
        },
        "outputId": "04e534cb-3f76-4cb7-f5c6-85d12fa4e695",
        "id": "L00kVPX7c-JL"
      },
      "outputs": [
        {
          "output_type": "stream",
          "name": "stdout",
          "text": [
            "Behaviour: urinating\n",
            "Windows_size: 120.0 sec (with overlap: 0.5 sec)\n",
            "Confusion Matrix Validation:\n",
            "[[1345   32]\n",
            " [  22 1355]]\n",
            "Accuracy Score :  0.9803921568627451\n",
            "Report : \n",
            "              precision    recall  f1-score   support\n",
            "\n",
            "           0       0.98      0.98      0.98      1377\n",
            "           1       0.98      0.98      0.98      1377\n",
            "\n",
            "    accuracy                           0.98      2754\n",
            "   macro avg       0.98      0.98      0.98      2754\n",
            "weighted avg       0.98      0.98      0.98      2754\n",
            "\n"
          ]
        }
      ],
      "source": [
        "### Evaluation\n",
        "print(\"Behaviour: \"+ str(BEHAVIOUR))\n",
        "print (\"Windows_size: \" + str(WIN_SIZE/2) +\" sec \" \"(with overlap: \"+ str(WIN_OVERLAP/2)+ \" sec)\")\n",
        "\n",
        "results = confusion_matrix(y_test,y_pred)\n",
        "\n",
        "print('Confusion Matrix Validation:')\n",
        "print(results)\n",
        "print('Accuracy Score : ', accuracy_score(y_test, y_pred))\n",
        "print('Report : ')\n",
        "print(classification_report(y_test, y_pred))"
      ]
    },
    {
      "cell_type": "markdown",
      "metadata": {
        "id": "0-Uch99Sc-JL"
      },
      "source": [
        "##Feature importances"
      ]
    },
    {
      "cell_type": "code",
      "execution_count": null,
      "metadata": {
        "colab": {
          "base_uri": "https://localhost:8080/"
        },
        "outputId": "e381d2db-4954-47d5-d2f8-ffd606342900",
        "id": "E4B0Src6c-JL"
      },
      "outputs": [
        {
          "output_type": "stream",
          "name": "stdout",
          "text": [
            "Feature: 0, Score: 0.02776\n",
            "Feature: 1, Score: 0.03776\n",
            "Feature: 2, Score: 0.03499\n",
            "Feature: 3, Score: 0.03949\n",
            "Feature: 4, Score: 0.04147\n",
            "Feature: 5, Score: 0.07690\n",
            "Feature: 6, Score: 0.07953\n",
            "Feature: 7, Score: 0.07173\n",
            "Feature: 8, Score: 0.06008\n",
            "Feature: 9, Score: 0.06335\n",
            "Feature: 10, Score: 0.02206\n",
            "Feature: 11, Score: 0.02496\n",
            "Feature: 12, Score: 0.02930\n",
            "Feature: 13, Score: 0.03450\n",
            "Feature: 14, Score: 0.03014\n",
            "Feature: 15, Score: 0.08406\n",
            "Feature: 16, Score: 0.06953\n",
            "Feature: 17, Score: 0.05956\n",
            "Feature: 18, Score: 0.05674\n",
            "Feature: 19, Score: 0.05608\n",
            "Feature: 20, Score: 0.00000\n",
            "Feature: 21, Score: 0.00000\n",
            "Feature: 22, Score: 0.00000\n",
            "Feature: 23, Score: 0.00000\n",
            "Feature: 24, Score: 0.00000\n",
            "Feature: 25, Score: 0.00000\n",
            "Feature: 26, Score: 0.00000\n",
            "Feature: 27, Score: 0.00000\n",
            "Feature: 28, Score: 0.00000\n",
            "Feature: 29, Score: 0.00000\n"
          ]
        }
      ],
      "source": [
        "# feature importance\n",
        "model = rf\n",
        "importance = model.feature_importances_\n",
        "# summarize feature importance\n",
        "for i,v in enumerate(importance):\n",
        "\tprint('Feature: %0d, Score: %.5f' % (i,v))"
      ]
    },
    {
      "cell_type": "markdown",
      "metadata": {
        "id": "ceO4oz_N2EIH"
      },
      "source": [
        "# RandomForestAlgorithm Sleeping"
      ]
    },
    {
      "cell_type": "code",
      "execution_count": null,
      "metadata": {
        "id": "EFdJJ2AE3ow9"
      },
      "outputs": [],
      "source": [
        "BEHAVIOUR='sleeping'"
      ]
    },
    {
      "cell_type": "code",
      "execution_count": null,
      "metadata": {
        "id": "YOpIOHrSsvHE"
      },
      "outputs": [],
      "source": [
        "y_final = np.stack(signal_features_1[:,3], axis =0) # BEHAVIOUR_1= 'rumination_video'"
      ]
    },
    {
      "cell_type": "code",
      "execution_count": null,
      "metadata": {
        "id": "_seuvyTZ_mUj"
      },
      "outputs": [],
      "source": [
        "bool_minority_labels  = y_final != 0"
      ]
    },
    {
      "cell_type": "code",
      "execution_count": null,
      "metadata": {
        "id": "_EppsuEr_mUj"
      },
      "outputs": [],
      "source": [
        "min_features = X_final[bool_minority_labels]\n",
        "maj_features = X_final[~bool_minority_labels]\n",
        "\n",
        "min_labels = y_final[bool_minority_labels]\n",
        "maj_labels = y_final[~bool_minority_labels]"
      ]
    },
    {
      "cell_type": "markdown",
      "metadata": {
        "id": "ap6aEYW-_mUj"
      },
      "source": [
        "Split the minority class in 70 30 to have more in train set"
      ]
    },
    {
      "cell_type": "code",
      "execution_count": null,
      "metadata": {
        "id": "Skh0o7kg_mUj"
      },
      "outputs": [],
      "source": [
        "# Split minority dataset into training set and test set\n",
        "X_min_train, X_min_test, y_min_train, y_min_test = train_test_split(min_features, min_labels, test_size=0.3, random_state=1) # 70% training and 30% test"
      ]
    },
    {
      "cell_type": "markdown",
      "metadata": {
        "id": "zKNbr9Nu_mUj"
      },
      "source": [
        "Split the majority class in 50 50 so we can sample from independant sets"
      ]
    },
    {
      "cell_type": "code",
      "execution_count": null,
      "metadata": {
        "id": "5yi3qXT1_mUj"
      },
      "outputs": [],
      "source": [
        "# Split minority dataset into training set and test set\n",
        "X_maj_train, X_maj_test, y_maj_train, y_maj_test = train_test_split(maj_features, maj_labels, test_size=0.5, random_state=1) # 50% training and 50% test"
      ]
    },
    {
      "cell_type": "markdown",
      "metadata": {
        "id": "fmCTZNzg_mUk"
      },
      "source": [
        "## Create train set"
      ]
    },
    {
      "cell_type": "markdown",
      "metadata": {
        "id": "ltPgTmcT_mUk"
      },
      "source": [
        "Upsample the amount of minority features and labels 3 times (why 3, no idea, feels that this will create enough labels)"
      ]
    },
    {
      "cell_type": "code",
      "execution_count": null,
      "metadata": {
        "id": "i7Jwg8rr_mUk"
      },
      "outputs": [],
      "source": [
        "upsampled_X_min_train = np.concatenate([X_min_train, X_min_train, X_min_train], axis=0)\n",
        "upsampled_y_min_train = np.concatenate([y_min_train, y_min_train, y_min_train], axis=0)"
      ]
    },
    {
      "cell_type": "markdown",
      "metadata": {
        "id": "69yarUqk_mUk"
      },
      "source": [
        "Downsample from 50% of the majority class to have same amount of samples"
      ]
    },
    {
      "cell_type": "code",
      "execution_count": null,
      "metadata": {
        "colab": {
          "base_uri": "https://localhost:8080/"
        },
        "outputId": "6ae7b416-b858-48a2-8282-253238368883",
        "id": "YI-Vrft3_mUk"
      },
      "outputs": [
        {
          "output_type": "execute_result",
          "data": {
            "text/plain": [
              "(7125, 30)"
            ]
          },
          "metadata": {},
          "execution_count": 144
        }
      ],
      "source": [
        "ids = np.arange(len(X_maj_train))\n",
        "choices = np.random.choice(ids, len(upsampled_X_min_train))\n",
        "\n",
        "res_maj_train_features = X_maj_train[choices]\n",
        "res_maj_train_labels = y_maj_train[choices]\n",
        "\n",
        "res_maj_train_features.shape"
      ]
    },
    {
      "cell_type": "markdown",
      "metadata": {
        "id": "-KNamBHi_mUk"
      },
      "source": [
        "Concat together"
      ]
    },
    {
      "cell_type": "code",
      "execution_count": null,
      "metadata": {
        "id": "cY9CMFRT_mUl"
      },
      "outputs": [],
      "source": [
        "resampled_train_features = np.concatenate([upsampled_X_min_train, res_maj_train_features], axis=0)\n",
        "resampled_train_labels = np.concatenate([upsampled_y_min_train, res_maj_train_labels], axis=0)"
      ]
    },
    {
      "cell_type": "markdown",
      "metadata": {
        "id": "tZw7mUAV_mUl"
      },
      "source": [
        "Shuffle"
      ]
    },
    {
      "cell_type": "code",
      "execution_count": null,
      "metadata": {
        "id": "KNBBU1kM_mUl"
      },
      "outputs": [],
      "source": [
        "order = np.arange(len(resampled_train_labels))\n",
        "np.random.shuffle(order)\n",
        "resampled_train_features = resampled_train_features[order]\n",
        "resampled_train_labels = resampled_train_labels[order]"
      ]
    },
    {
      "cell_type": "markdown",
      "metadata": {
        "id": "0GSO5mdj_mUl"
      },
      "source": [
        "## Create test set"
      ]
    },
    {
      "cell_type": "markdown",
      "metadata": {
        "id": "HqGBMIvn_mUl"
      },
      "source": [
        "We start from the X_min_test"
      ]
    },
    {
      "cell_type": "markdown",
      "metadata": {
        "id": "tmbNhkPH_mUl"
      },
      "source": [
        "And downsample the remaining part of the majority class which we didn't use so far"
      ]
    },
    {
      "cell_type": "code",
      "execution_count": null,
      "metadata": {
        "id": "_qQ2LHYk_mUl"
      },
      "outputs": [],
      "source": [
        "ids = np.arange(len(X_maj_test))\n",
        "choices = np.random.choice(ids, len(X_min_test))\n",
        "\n",
        "res_maj_test_features = X_maj_test[choices]\n",
        "res_maj_test_labels = y_maj_test[choices]\n"
      ]
    },
    {
      "cell_type": "markdown",
      "metadata": {
        "id": "Wu5KaKub_mUl"
      },
      "source": [
        "Concat"
      ]
    },
    {
      "cell_type": "code",
      "execution_count": null,
      "metadata": {
        "id": "aEIQMSkb_mUm"
      },
      "outputs": [],
      "source": [
        "resampled_test_features = np.concatenate([X_min_test, res_maj_test_features], axis=0)\n",
        "resampled_test_labels = np.concatenate([y_min_test, res_maj_test_labels], axis=0)"
      ]
    },
    {
      "cell_type": "markdown",
      "metadata": {
        "id": "s5byMjMF_mUm"
      },
      "source": [
        "Shuffle"
      ]
    },
    {
      "cell_type": "code",
      "execution_count": null,
      "metadata": {
        "id": "L1uXJCCV_mUm"
      },
      "outputs": [],
      "source": [
        "order = np.arange(len(resampled_test_labels))\n",
        "np.random.shuffle(order)\n",
        "resampled_test_features = resampled_test_features[order]\n",
        "resampled_test_labels = resampled_test_labels[order]"
      ]
    },
    {
      "cell_type": "code",
      "execution_count": null,
      "metadata": {
        "id": "w8udUQsV_mUm"
      },
      "outputs": [],
      "source": [
        "X_train= resampled_train_features\n",
        "y_train= resampled_train_labels\n",
        "X_test=  resampled_test_features\n",
        "y_test=  resampled_test_labels"
      ]
    },
    {
      "cell_type": "markdown",
      "metadata": {
        "id": "e3NwABt4svHF"
      },
      "source": [
        "## Test settings RandomForestAlgorithm"
      ]
    },
    {
      "cell_type": "markdown",
      "metadata": {
        "id": "PEnU2Mn4svHF"
      },
      "source": [
        "\n",
        "### Test number of trees\n",
        "Adopted from https://medium.com/all-things-ai/in-depth-parameter-tuning-for-random-forest-d67bb7e920d"
      ]
    },
    {
      "cell_type": "code",
      "execution_count": null,
      "metadata": {
        "colab": {
          "base_uri": "https://localhost:8080/"
        },
        "outputId": "9af7257e-0fab-4875-e275-7c3b052d48cb",
        "id": "R5dMXFqnsvHF"
      },
      "outputs": [
        {
          "output_type": "stream",
          "name": "stdout",
          "text": [
            "1\n",
            "2\n",
            "4\n",
            "8\n",
            "16\n",
            "32\n",
            "64\n",
            "100\n",
            "200\n"
          ]
        }
      ],
      "source": [
        "n_estimators = [1, 2, 4, 8, 16, 32, 64, 100, 200]\n",
        "train_results = []\n",
        "test_results = []\n",
        "for estimator in n_estimators:\n",
        "   print(estimator)\n",
        "   rf = RandomForestClassifier(n_estimators=estimator, max_features=\"sqrt\")\n",
        "   rf.fit(X_train, y_train)\n",
        "   train_pred = rf.predict(X_train)\n",
        "   false_positive_rate, true_positive_rate, thresholds = roc_curve(y_train, train_pred)\n",
        "   roc_auc = auc(false_positive_rate, true_positive_rate)\n",
        "   train_results.append(roc_auc)\n",
        "   y_pred = rf.predict(X_test)\n",
        "   false_positive_rate, true_positive_rate, thresholds = roc_curve(y_test, y_pred)\n",
        "   roc_auc = auc(false_positive_rate, true_positive_rate)\n",
        "   test_results.append(roc_auc)"
      ]
    },
    {
      "cell_type": "code",
      "source": [
        "from matplotlib.legend_handler import HandlerLine2D\n",
        "line1, = plt.plot(n_estimators, train_results, \"b\", label=\"Train AUC\")\n",
        "line2, = plt.plot(n_estimators, test_results, \"r\", label=\"Test AUC\")\n",
        "plt.legend(handler_map={line1: HandlerLine2D(numpoints=2)})\n",
        "plt.ylabel(\"AUC score\")\n",
        "plt.xlabel(\"n_estimators\")\n",
        "plt.show()"
      ],
      "metadata": {
        "colab": {
          "base_uri": "https://localhost:8080/",
          "height": 280
        },
        "outputId": "49a47e41-0336-4575-e5a0-01d6824d4010",
        "id": "hZcAI-kesvHF"
      },
      "execution_count": null,
      "outputs": [
        {
          "output_type": "display_data",
          "data": {
            "text/plain": [
              "<Figure size 432x288 with 1 Axes>"
            ],
            "image/png": "[encoded data removed]"
          },
          "metadata": {
            "needs_background": "light"
          }
        }
      ]
    },
    {
      "cell_type": "markdown",
      "metadata": {
        "id": "ymQ-Mg_CsvHG"
      },
      "source": [
        "### Test max depth"
      ]
    },
    {
      "cell_type": "code",
      "execution_count": null,
      "metadata": {
        "colab": {
          "base_uri": "https://localhost:8080/"
        },
        "outputId": "b20d60cd-eb27-49cc-b143-b52206087767",
        "id": "a88e3feGsvHG"
      },
      "outputs": [
        {
          "output_type": "stream",
          "name": "stdout",
          "text": [
            "1.0\n",
            "2.0\n",
            "3.0\n",
            "4.0\n",
            "5.0\n",
            "6.0\n",
            "7.0\n",
            "8.0\n",
            "9.0\n",
            "10.0\n",
            "11.0\n",
            "12.0\n",
            "13.0\n",
            "14.0\n",
            "15.0\n",
            "16.0\n",
            "17.0\n",
            "18.0\n",
            "19.0\n",
            "20.0\n",
            "21.0\n",
            "22.0\n",
            "23.0\n",
            "24.0\n",
            "25.0\n",
            "26.0\n",
            "27.0\n",
            "28.0\n",
            "29.0\n",
            "30.0\n"
          ]
        }
      ],
      "source": [
        "max_depths = np.linspace(1, 30, 30, endpoint=True)\n",
        "train_results = []\n",
        "test_results = []\n",
        "for max_depth in max_depths:\n",
        "   print(max_depth)\n",
        "   rf = RandomForestClassifier(max_depth=max_depth, max_features=\"sqrt\", n_estimators = 20)\n",
        "   rf.fit(X_train, y_train)\n",
        "   train_pred = rf.predict(X_train)\n",
        "   false_positive_rate, true_positive_rate, thresholds = roc_curve(y_train, train_pred)\n",
        "   roc_auc = auc(false_positive_rate, true_positive_rate)\n",
        "   train_results.append(roc_auc)\n",
        "   y_pred = rf.predict(X_test)\n",
        "   false_positive_rate, true_positive_rate, thresholds = roc_curve(y_test, y_pred)\n",
        "   roc_auc = auc(false_positive_rate, true_positive_rate)\n",
        "   test_results.append(roc_auc)"
      ]
    },
    {
      "cell_type": "code",
      "execution_count": null,
      "metadata": {
        "colab": {
          "base_uri": "https://localhost:8080/",
          "height": 279
        },
        "outputId": "3521d570-5190-4c47-9b4a-6f90cc2d0e14",
        "id": "7HxFog3osvHG"
      },
      "outputs": [
        {
          "output_type": "display_data",
          "data": {
            "text/plain": [
              "<Figure size 432x288 with 1 Axes>"
            ],
            "image/png": "[encoded data removed]"
          },
          "metadata": {
            "needs_background": "light"
          }
        }
      ],
      "source": [
        "from matplotlib.legend_handler import HandlerLine2D\n",
        "line1, = plt.plot(max_depths, train_results, \"b\", label=\"Train AUC\")\n",
        "line2, = plt.plot(max_depths, test_results, \"r\", label=\"Test AUC\")\n",
        "plt.legend(handler_map={line1: HandlerLine2D(numpoints=2)})\n",
        "plt.ylabel(\"AUC score\")\n",
        "plt.xlabel(\"Tree depth\")\n",
        "plt.show()"
      ]
    },
    {
      "cell_type": "markdown",
      "metadata": {
        "id": "Es_farEcsvHG"
      },
      "source": [
        "## Selected RF\n",
        "From the previous we select settings for our selected RF"
      ]
    },
    {
      "cell_type": "code",
      "execution_count": null,
      "metadata": {
        "id": "vNtCYve2svHH"
      },
      "outputs": [],
      "source": [
        "# Random Forest\n",
        "rf = RandomForestClassifier(n_estimators=30, max_depth=25, max_features=\"sqrt\")\n",
        "# Train Decision Tree Classifer\n",
        "rf.fit(X_train,y_train)\n",
        "\n",
        "#Predict the response for test dataset\n",
        "y_pred = rf.predict(X_test)"
      ]
    },
    {
      "cell_type": "markdown",
      "metadata": {
        "id": "GVJF1M-6svHH"
      },
      "source": [
        "## Confusion matrix and classification report"
      ]
    },
    {
      "cell_type": "markdown",
      "source": [
        "without resampling"
      ],
      "metadata": {
        "id": "WwJGmg-vJmTV"
      }
    },
    {
      "cell_type": "code",
      "source": [
        "### Evaluation\n",
        "print(\"Behaviour: \"+ str(BEHAVIOUR))\n",
        "print (\"Windows_size: \" + str(WIN_SIZE/2) +\" sec \" \"(with overlap: \"+ str(WIN_OVERLAP/2)+ \" sec)\")\n",
        "\n",
        "results = confusion_matrix(y_test,y_pred)\n",
        "\n",
        "print('Confusion Matrix Validation:')\n",
        "print(results)\n",
        "print('Accuracy Score : ', accuracy_score(y_test, y_pred))\n",
        "print('Report : ')\n",
        "print(classification_report(y_test, y_pred))"
      ],
      "metadata": {
        "colab": {
          "base_uri": "https://localhost:8080/"
        },
        "id": "FLVvZUORJc5b",
        "outputId": "123d9295-236d-4dd5-b60c-7838a40d1540"
      },
      "execution_count": null,
      "outputs": [
        {
          "output_type": "stream",
          "name": "stdout",
          "text": [
            "Behaviour: sleeping\n",
            "Windows_size: 120.0 sec (with overlap: 0.5 sec)\n",
            "Confusion Matrix Validation:\n",
            "[[128317     25]\n",
            " [   635    301]]\n",
            "Accuracy Score :  0.9948947230000464\n",
            "Report : \n",
            "              precision    recall  f1-score   support\n",
            "\n",
            "           0       1.00      1.00      1.00    128342\n",
            "           1       0.92      0.32      0.48       936\n",
            "\n",
            "    accuracy                           0.99    129278\n",
            "   macro avg       0.96      0.66      0.74    129278\n",
            "weighted avg       0.99      0.99      0.99    129278\n",
            "\n"
          ]
        }
      ]
    },
    {
      "cell_type": "markdown",
      "source": [
        "with resampling"
      ],
      "metadata": {
        "id": "K5FCBO0iJbNy"
      }
    },
    {
      "cell_type": "code",
      "source": [
        "### Evaluation\n",
        "print(\"Behaviour: \"+ str(BEHAVIOUR))\n",
        "print (\"Windows_size: \" + str(WIN_SIZE/2) +\" sec \" \"(with overlap: \"+ str(WIN_OVERLAP/2)+ \" sec)\")\n",
        "\n",
        "results = confusion_matrix(y_test,y_pred)\n",
        "\n",
        "print('Confusion Matrix Validation:')\n",
        "print(results)\n",
        "print('Accuracy Score : ', accuracy_score(y_test, y_pred))\n",
        "print('Report : ')\n",
        "print(classification_report(y_test, y_pred))"
      ],
      "metadata": {
        "colab": {
          "base_uri": "https://localhost:8080/"
        },
        "outputId": "8b41438a-36dc-453b-d6c7-f2497865b62f",
        "id": "KNGGVZ5BsvHH"
      },
      "execution_count": null,
      "outputs": [
        {
          "output_type": "stream",
          "name": "stdout",
          "text": [
            "Behaviour: sleeping\n",
            "Windows_size: 120.0 sec (with overlap: 0.5 sec)\n",
            "Confusion Matrix Validation:\n",
            "[[1014    5]\n",
            " [   9 1010]]\n",
            "Accuracy Score :  0.9931305201177625\n",
            "Report : \n",
            "              precision    recall  f1-score   support\n",
            "\n",
            "           0       0.99      1.00      0.99      1019\n",
            "           1       1.00      0.99      0.99      1019\n",
            "\n",
            "    accuracy                           0.99      2038\n",
            "   macro avg       0.99      0.99      0.99      2038\n",
            "weighted avg       0.99      0.99      0.99      2038\n",
            "\n"
          ]
        }
      ]
    },
    {
      "cell_type": "code",
      "execution_count": null,
      "metadata": {
        "colab": {
          "base_uri": "https://localhost:8080/"
        },
        "outputId": "5999e508-a35d-41e5-ad0c-b31412741b49",
        "id": "yLASMtoVBzU7"
      },
      "outputs": [
        {
          "output_type": "stream",
          "name": "stdout",
          "text": [
            "Feature: 0, Score: 0.02129\n",
            "Feature: 1, Score: 0.04114\n",
            "Feature: 2, Score: 0.02506\n",
            "Feature: 3, Score: 0.03261\n",
            "Feature: 4, Score: 0.05568\n",
            "Feature: 5, Score: 0.07470\n",
            "Feature: 6, Score: 0.10356\n",
            "Feature: 7, Score: 0.06482\n",
            "Feature: 8, Score: 0.05784\n",
            "Feature: 9, Score: 0.05600\n",
            "Feature: 10, Score: 0.01779\n",
            "Feature: 11, Score: 0.02446\n",
            "Feature: 12, Score: 0.02423\n",
            "Feature: 13, Score: 0.03230\n",
            "Feature: 14, Score: 0.03214\n",
            "Feature: 15, Score: 0.06984\n",
            "Feature: 16, Score: 0.07154\n",
            "Feature: 17, Score: 0.06244\n",
            "Feature: 18, Score: 0.06634\n",
            "Feature: 19, Score: 0.06623\n",
            "Feature: 20, Score: 0.00000\n",
            "Feature: 21, Score: 0.00000\n",
            "Feature: 22, Score: 0.00000\n",
            "Feature: 23, Score: 0.00000\n",
            "Feature: 24, Score: 0.00000\n",
            "Feature: 25, Score: 0.00000\n",
            "Feature: 26, Score: 0.00000\n",
            "Feature: 27, Score: 0.00000\n",
            "Feature: 28, Score: 0.00000\n",
            "Feature: 29, Score: 0.00000\n"
          ]
        }
      ],
      "source": [
        "# feature importance\n",
        "model = rf\n",
        "importance = model.feature_importances_\n",
        "# summarize feature importance\n",
        "for i,v in enumerate(importance):\n",
        "\tprint('Feature: %0d, Score: %.5f' % (i,v))"
      ]
    },
    {
      "cell_type": "markdown",
      "metadata": {
        "id": "TDTHlLika75i"
      },
      "source": [
        "# Descriptives"
      ]
    },
    {
      "cell_type": "markdown",
      "metadata": {
        "id": "c0bPYEvp2inT"
      },
      "source": [
        "## Counting data PeakDetectionAlgorithm"
      ]
    },
    {
      "cell_type": "code",
      "execution_count": null,
      "metadata": {
        "id": "OpEh0QcVa1s1"
      },
      "outputs": [],
      "source": [
        "final_data_peak_detection.count()"
      ]
    },
    {
      "cell_type": "markdown",
      "metadata": {
        "id": "i-LVt3vzox2L"
      },
      "source": [
        "##Counting data RandomForestAlgorithm"
      ]
    },
    {
      "cell_type": "code",
      "execution_count": null,
      "metadata": {
        "id": "v6pTcov0o82N"
      },
      "outputs": [],
      "source": [
        "final_data_rf.count()"
      ]
    },
    {
      "cell_type": "markdown",
      "metadata": {
        "id": "A66gTdkKdilR"
      },
      "source": [
        "## Number of observations video per behavior"
      ]
    },
    {
      "cell_type": "code",
      "execution_count": null,
      "metadata": {
        "id": "yPBhYGSvqCzk"
      },
      "outputs": [],
      "source": [
        "np.unique(final_data_peak_detection['behaviour'], return_counts=True)"
      ]
    },
    {
      "cell_type": "markdown",
      "metadata": {
        "id": "8cX6v6jKeMMN"
      },
      "source": [
        "## Number of observations video per animal"
      ]
    },
    {
      "cell_type": "code",
      "execution_count": null,
      "metadata": {
        "id": "nipbuDNyeQyy"
      },
      "outputs": [],
      "source": [
        "np.unique(final_data_peak_detection['cow_number'], return_counts=True)"
      ]
    },
    {
      "cell_type": "markdown",
      "metadata": {
        "id": "5_lyl4Jee5kd"
      },
      "source": [
        "## Time between two contraction cycles"
      ]
    },
    {
      "cell_type": "code",
      "execution_count": null,
      "metadata": {
        "id": "V9hyOD4iKyd3"
      },
      "outputs": [],
      "source": [
        "final_data_rum= final_data_peak_detection[final_data_peak_detection.behaviour==1]\n",
        "final_data_eat= final_data_peak_detection[final_data_peak_detection.behaviour==2]\n",
        "final_data_drink= final_data_peak_detection[final_data_peak_detection.behaviour==3]\n",
        "final_data_sleep= final_data_peak_detection[final_data_peak_detection.behaviour==4]\n",
        "final_data_other= final_data_peak_detection[final_data_peak_detection.behaviour==5]\n",
        "\n",
        "print(\"Time between contraction cycles during rumination:\")\n",
        "print(\"mean:\"+str(final_data_rum['low_time'].mean()))\n",
        "print(\"std:\"+str(final_data_rum['low_time'].std()))\n",
        "print(\"median:\"+str(final_data_rum['low_time'].median()))\n",
        "print(\"iqr:\"+ str(iqr(final_data_rum['low_time']))+\"\\n\")\n",
        "\n",
        "print(\"Time between contraction cycles during eating:\")\n",
        "print(\"mean:\"+str(final_data_eat['low_time'].mean()))\n",
        "print(\"std:\"+str(final_data_eat['low_time'].std()))\n",
        "print(\"median:\"+str(final_data_eat['low_time'].median()))\n",
        "print(\"iqr:\"+ str(iqr(final_data_eat['low_time']))+\"\\n\")\n",
        "\n",
        "print(\"Time between contraction cycles during drinking:\")\n",
        "print(\"mean:\"+str(final_data_drink['low_time'].mean()))\n",
        "print(\"std:\"+str(final_data_drink['low_time'].std()))\n",
        "print(\"median:\"+str(final_data_drink['low_time'].median()))\n",
        "print(\"iqr:\"+ str(iqr(final_data_drink['low_time']))+\"\\n\")\n",
        "\n",
        "print(\"Time between contraction cycles during sleeping:\")\n",
        "print(\"mean:\"+str(final_data_sleep['low_time'].mean()))\n",
        "print(\"std:\"+str(final_data_sleep['low_time'].std()))\n",
        "print(\"median:\"+str(final_data_sleep['low_time'].median()))\n",
        "print(\"iqr:\"+ str(iqr(final_data_sleep['low_time']))+\"\\n\")\n",
        "\n",
        "print(\"Time between contraction cycles during other behaviour:\")\n",
        "print(\"mean:\"+str(final_data_other['low_time'].mean()))\n",
        "print(\"std:\"+str(final_data_other['low_time'].std()))\n",
        "print(\"median:\"+str(final_data_other['low_time'].median()))\n",
        "print(\"iqr:\"+ str(iqr(final_data_other['low_time']))+\"\\n\")"
      ]
    },
    {
      "cell_type": "markdown",
      "metadata": {
        "id": "rwhIalEF3upw"
      },
      "source": [
        "## Boxplots of time between two contraction cycles"
      ]
    },
    {
      "cell_type": "code",
      "execution_count": null,
      "metadata": {
        "id": "DuLtGgqCrH-8"
      },
      "outputs": [],
      "source": [
        "sns.boxplot(x=\"behaviour\", y=\"low_time\",orient='v', data=final_data_peak_detection_corrected, showfliers=False)\n",
        "plt.xlabel('Behaviour')\n",
        "plt.ylabel('Time interval between contractions (s)')\n",
        "plt.show()"
      ]
    },
    {
      "cell_type": "markdown",
      "metadata": {
        "id": "KfUcr61726oD"
      },
      "source": [
        "## GLM model eating and rumination"
      ]
    },
    {
      "cell_type": "code",
      "execution_count": null,
      "metadata": {
        "id": "FHg0fxq5lxiI"
      },
      "outputs": [],
      "source": [
        "#create csv for GLM model\n",
        "final_data_HK_EAT_REST = final_data_peak_detection_corrected[final_data_peak_detection_corrected.behaviour<3.0]\n",
        "final_data_HK_EAT= final_data_HK_EAT_REST[final_data_peak_detection_corrected.behaviour>=1.0]\n",
        "result_file='/content/gdrive/Shared drives/Bovi-Analytics/Projects/JosjeScheurwater/ProjectPicoLog/data/out/final_data_HK_EAT.csv'\n",
        "final_data_HK_EAT.to_csv(result_file)"
      ]
    },
    {
      "cell_type": "code",
      "execution_count": null,
      "metadata": {
        "id": "h5Qs49vTEoHh"
      },
      "outputs": [],
      "source": [
        "%load_ext rpy2.ipython"
      ]
    },
    {
      "cell_type": "code",
      "execution_count": null,
      "metadata": {
        "id": "685HmbZfzN7H"
      },
      "outputs": [],
      "source": [
        "%%R\n",
        "url = ('/content/gdrive/Shareddrives/Bovi-Analytics/Projects/JosjeScheurwater/ProjectPicoLog/data/out/final_data_HK_EAT.csv')\n",
        "dataset = read.csv(url)"
      ]
    },
    {
      "cell_type": "code",
      "execution_count": null,
      "metadata": {
        "id": "xlT1I1MCvjNd"
      },
      "outputs": [],
      "source": [
        "%%R\n",
        "package_list <- c(\"dplyr\",\n",
        "                  \"lme4\"\n",
        "                  )\n",
        "\n",
        "for (pkg in package_list) {\n",
        "  if (pkg %in% rownames(installed.packages()) == FALSE)\n",
        "  {install.packages(pkg, dependencies = TRUE)}\n",
        "  if (pkg %in% rownames(.packages()) == FALSE)\n",
        "  {library(pkg, character.only = TRUE)}\n",
        "  print(citation(pkg))\n",
        "\n",
        "}"
      ]
    },
    {
      "cell_type": "code",
      "execution_count": null,
      "metadata": {
        "id": "1yRAR2qOvjNk"
      },
      "outputs": [],
      "source": [
        "%%R\n",
        "install.packages(\"lmerTest\", dependencies = TRUE)\n",
        "library (\"lmerTest\")"
      ]
    },
    {
      "cell_type": "code",
      "execution_count": null,
      "metadata": {
        "id": "fNQlFbR9vjNl"
      },
      "outputs": [],
      "source": [
        "%%R\n",
        "gl<- glm('low_time ~ factor(behaviour)+factor(cow_number)', data = dataset, family = gaussian)\n",
        "summary(gl)"
      ]
    }
  ],
  "metadata": {
    "colab": {
      "provenance": [],
      "toc_visible": true,
      "include_colab_link": true
    },
    "kernelspec": {
      "display_name": "Python 3",
      "name": "python3"
    }
  },
  "nbformat": 4,
  "nbformat_minor": 0
}